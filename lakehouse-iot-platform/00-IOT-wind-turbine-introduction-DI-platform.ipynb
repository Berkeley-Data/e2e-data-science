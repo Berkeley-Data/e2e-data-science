{
 "cells": [
  {
   "cell_type": "markdown",
   "metadata": {
    "application/vnd.databricks.v1+cell": {
     "cellMetadata": {},
     "inputWidgets": {},
     "isMarkdownSandbox": true,
     "nuid": "c5bf6004-18ea-499c-8f27-289dabb15f16",
     "showTitle": false,
     "tableResultSettingsMap": {},
     "title": ""
    }
   },
   "source": [
    "# IoT Platform with Databricks Intelligence Data Platform - Ingesting real-time Industrial Sensor Data for Prescriptive Maintenance\n",
    "\n",
    "<img src=\"https://raw.githubusercontent.com/databricks-demos/dbdemos-resources/refs/heads/main/images/manufacturing/lakehouse-iot-turbine/di_platform_0.png\" style=\"float: left; margin-right: 30px\" width=\"600px\" />\n",
    "\n",
    "<br/>\n",
    "\n",
    "## What is The Databricks Intelligence Data Platform for IoT & Manufacturing?\n",
    "The Databricks Data Intelligence Platform for Manufacturing unlocks the full value of manufacturing data, enabling intelligent networks, enhanced customer experiences, smarter products, and sustainable businesses. It empowers data teams with unmatched scalability, real-time insights, and innovative capabilities across all data types and sources. Manufacturers benefit from reduced costs, increased productivity, improved customer responsiveness, and accelerated innovation. The platform integrates diverse data sources with top-tier AI processing and offers manufacturing-specific Solution Accelerators and partners for powerful real-time decision-making.\n",
    "<img src=\"https://github.com/Datastohne/demo/blob/main/Intelligence%20Engine.png?raw=true \" style=\"float: left; margin-right: 30px\" width=\"200px\" />\n",
    "\n",
    "**Intelligent**\n",
    "Databricks combines generative AI with the unification benefits of a lakehouse to power a Data Intelligence Engine that understands the unique semantics of your data. This allows the Databricks Platform to automatically optimize performance and manage infrastructure in ways unique to your business. \n",
    "\n",
    "<img src=\"https://github.com/Datastohne/demo/blob/main/24840.png?raw=true \" style=\"float: right; margin-left: 30px\" width=\"200px\" />\n",
    "\n",
    "**Simple** Natural language substantially simplifies the user experience on Databricks. The Data Intelligence Engine understands your organization’s language, so search and discovery of new data is as easy as asking a question like you would to a coworker. Additionally, developing new data and applications is accelerated through natural language assistance to write code, remediate errors and find answers.\n",
    "\n",
    "<img src=\"https://github.com/Datastohne/demo/blob/main/24841.png?raw=true \" style=\"float: left; margin-right: 30px\" width=\"200px\" />\n",
    "\n",
    "**Private** Data and AI applications require strong governance and security, especially with the advent of generative AI. Databricks provides an end-to-end MLOps and AI development solution that’s built upon our unified approach to governance and security. You’re able to pursue all your AI initiatives — from using APIs like OpenAI to custom-built models — without compromising data privacy and IP control.\n",
    " \n",
    "<!-- Collect usage data (view). Remove it to disable collection. View README for more details.  -->\n",
    "<img width=\"1px\" src=\"https://ppxrzfxige.execute-api.us-west-2.amazonaws.com/v1/analytics?category=lakehouse&org_id=4003492105941350&notebook=%2F00-IOT-wind-turbine-introduction-DI-platform&demo_name=lakehouse-iot-platform&event=VIEW&path=%2F_dbdemos%2Flakehouse%2Flakehouse-iot-platform%2F00-IOT-wind-turbine-introduction-DI-platform&version=1\">"
   ]
  },
  {
   "cell_type": "markdown",
   "metadata": {
    "application/vnd.databricks.v1+cell": {
     "cellMetadata": {},
     "inputWidgets": {},
     "isMarkdownSandbox": true,
     "nuid": "c7f1f2e6-0b17-49e2-b73d-d8704e8860af",
     "showTitle": false,
     "tableResultSettingsMap": {},
     "title": ""
    }
   },
   "source": [
    "## Wind Turbine Prescriptive Maintenance with the Databricks Intelligence Data Platform: Bringing Generative AI to Predictive Maintenance\n",
    "\n",
    "Being able to collect and centralize industrial equipment information in real time is critical in the energy space. When a wind turbine is down, it is not generating power which leads to poor customer service and lost revenue. Data is the key to unlock critical capabilities such as energy optimization, anomaly detection, and/or predictive maintenance. The rapid rise of Generative AI provides the opportunity to revolutionize maintenance by not only predicting when equipment is likely to fail, but also generating prescriptive maintenance actions to prevent failurs before they arise and optimize equipment performance. This enables a shift from predictive to prescriptive maintenance. <br/> \n",
    "\n",
    "<img src=\"https://raw.githubusercontent.com/databricks-demos/dbdemos-resources/refs/heads/main/images/manufacturing/lakehouse-iot-turbine/prescriptive_maintenance.png\" width=\"700px\" style=\"float:right; margin-left: 20px\"/>\n",
    "\n",
    "Prescriptive maintenance examples include:\n",
    "\n",
    "- Analyzing equipment IoT sensor data in real time\n",
    "- Predict mechanical failure in an energy pipeline\n",
    "- Diagnose root causes for predicted failure and generate prescriptive actions\n",
    "- Detect abnormal behavior in a production line\n",
    "- Optimize supply chain of parts and staging for scheduled maintenance and repairs\n",
    "\n",
    "### What we'll build\n",
    "\n",
    "In this demo, we'll build an end-to-end IoT platform to collect real-time data from multiple sources.\n",
    "\n",
    "We'll create a predictive model to forecast wind turbine failures and use it to generate maintenance work orders, reducing downtime and increasing Overall Equipment Effectiveness (OEE).\n",
    "\n",
    "Additionally, we'll develop a dashboard for the Turbine Maintenance team to monitor turbines, identify those at risk, and review maintenance work orders, ensuring we meet our productivity goals.\n",
    "\n",
    "At a very high level, this is the flow we will implement:\n",
    "\n",
    "<div style=\"text-align: center;\">\n",
    "    <img src=\"https://raw.githubusercontent.com/databricks-demos/dbdemos-resources/refs/heads/main/images/manufacturing/lakehouse-iot-turbine/team_flow_overview.png\" width=\"1000px\">\n",
    "</div>\n",
    "\n",
    "1. Ingest and create our IoT database and tables which are easily queriable via SQL.\n",
    "2. Secure data and grant read access to the Data Analyst and Data Science teams.\n",
    "3. Run BI queries to analyze existing failures.\n",
    "4. Build ML model to monitor our wind turbine farm & trigger predictive maintenance operations.\n",
    "5. Generate maintenance work orders for field service engineers utilizing Generative AI.\n",
    "\n",
    "Being able to predict which wind turbine will potentially fail is only the first step to increase our wind turbine farm efficiency. Once we're able to build a model predicting potential maintenance, we can dynamically adapt our spare part stock, generate work orders for field service engineers and even automatically dispatch maintenance team with the proper equipment.\n",
    "\n",
    "### Our dataset\n",
    "\n",
    "To simplify this demo, we'll consider that an external system is periodically sending data into our blob storage (S3/ADLS/GCS):\n",
    "\n",
    "- Turbine data *(location, model, identifier etc)*\n",
    "- Wind turbine sensors, every sec *(energy produced, vibration, typically in streaming)*\n",
    "- Turbine status over time, labelled by our analyst team, and historical maintenance reports *(historical data to train on model on and to index into vector database)*\n",
    "\n",
    "*Note that at a technical level, our data could come from any source. Databricks can ingest data from any system (SalesForce, Fivetran, queuing message like kafka, blob storage, SQL & NoSQL databases...).*\n",
    "\n",
    "Let's see how this data can be used within the Data Intelligence Platform to analyze sensor data,  trigger predictive maintenance and generate work orders."
   ]
  },
  {
   "cell_type": "markdown",
   "metadata": {
    "application/vnd.databricks.v1+cell": {
     "cellMetadata": {},
     "inputWidgets": {},
     "nuid": "3983b94f-aa21-4289-8d45-2f88ac0d19d4",
     "showTitle": false,
     "tableResultSettingsMap": {},
     "title": ""
    }
   },
   "source": [
    "&nbsp;\n",
    "&nbsp;\n",
    "![](_resources/images/e2e-0.png)\n"
   ]
  },
  {
   "cell_type": "markdown",
   "metadata": {
    "application/vnd.databricks.v1+cell": {
     "cellMetadata": {},
     "inputWidgets": {},
     "isMarkdownSandbox": true,
     "nuid": "719aec85-aff6-4222-a302-f84e5fd22d3d",
     "showTitle": false,
     "tableResultSettingsMap": {},
     "title": ""
    }
   },
   "source": [
    "## 1/ Ingesting and Preparing the Data (Data Engineering)\n",
    "\n",
    "<img style=\"float: left; margin-right: 20px\" width=\"500px\" src=\"https://raw.githubusercontent.com/databricks-demos/dbdemos-resources/refs/heads/main/images/manufacturing/lakehouse-iot-turbine/di_platform_1.png\" />\n",
    "\n",
    "\n",
    "<br/>\n",
    "<div style=\"padding-left: 420px\">\n",
    "Our first step is to ingest and clean the raw data we received so that our Data Analyst team can start running analysis on top of it.\n",
    "\n",
    "\n",
    "<img src=\"https://pages.databricks.com/rs/094-YMS-629/images/delta-lake-logo.png\" style=\"float: right; margin-top: 20px\" width=\"200px\">\n",
    "\n",
    "### Delta Lake\n",
    "\n",
    "All the tables we'll create in the Lakehouse will be stored as Delta Lake tables. [Delta Lake](https://delta.io) is an open storage framework for reliability and performance. <br/>\n",
    "It provides many functionalities such as *(ACID Transaction, DELETE/UPDATE/MERGE, Clone zero copy, Change data Capture...)* <br />\n",
    "For more details on Delta Lake, run `dbdemos.install('delta-lake')`\n",
    "\n",
    "### Simplify ingestion with Delta Live Tables (DLT)\n",
    "\n",
    "Databricks simplifies data ingestion and transformation with Delta Live Tables by allowing SQL users to create advanced pipelines via batch or streaming. Databricks also simplifies pipeline deployment, testing, and tracking data quality which reduces operational complexity, so that you can focus on the needs of the business.<br/>"
   ]
  },
  {
   "cell_type": "markdown",
   "metadata": {
    "application/vnd.databricks.v1+cell": {
     "cellMetadata": {},
     "inputWidgets": {},
     "nuid": "ac84bced-bb79-43e1-87e6-0451893c3c79",
     "showTitle": false,
     "tableResultSettingsMap": {},
     "title": ""
    }
   },
   "source": [
    "Open the Wind Turbine \n",
    "  <a dbdemos-pipeline-id=\"dlt-iot-wind-turbine\" href=\"#joblist/pipelines/b756035f-2251-4124-810e-597e223fed0e\" target=\"_blank\">Delta Live Table pipeline</a> or the [SQL notebook]($./01-Data-ingestion/01.1-DLT-Wind-Turbine-SQL) *(Alternatives: DLT Python version Soon available - [plain Delta+Spark version]($./01-Data-ingestion/plain-spark-delta-pipeline/01.5-Delta-pipeline-spark-iot-turbine))*. <br>\n",
    "  For more details on DLT: `dbdemos.install('dlt-load')` or `dbdemos.install('dlt-cdc')`"
   ]
  },
  {
   "cell_type": "markdown",
   "metadata": {
    "application/vnd.databricks.v1+cell": {
     "cellMetadata": {},
     "inputWidgets": {},
     "isMarkdownSandbox": true,
     "nuid": "485d2498-b7fa-4108-8f77-10f7b3c1bd48",
     "showTitle": false,
     "tableResultSettingsMap": {},
     "title": ""
    }
   },
   "source": [
    "## 2/ Securing Data & Governance (Unity Catalog)\n",
    "\n",
    "<img width=\"500px\" src=\"https://raw.githubusercontent.com/databricks-demos/dbdemos-resources/refs/heads/main/images/manufacturing/lakehouse-iot-turbine/di_platform_2.png\"  style=\"float: left; margin-right: 10px\"/>\n",
    "\n",
    "<br/><br/><br/>\n",
    "<div style=\"padding-left: 420px\">\n",
    "  Now that our first tables have been created, we need to grant our Data Analyst team READ access to be able to start analyzing our turbine failure information.\n",
    "  \n",
    "  Let's see how Unity Catalog provides Security & governance across our data assets and includes data lineage and audit logs.\n",
    "  \n",
    "  Note that Unity Catalog integrates Delta Sharing, an open protocol to share your data with any external organization, regardless of their software or data stack. For more details:  `dbdemos.install('delta-sharing-airlines')`\n",
    " </div>"
   ]
  },
  {
   "cell_type": "markdown",
   "metadata": {
    "application/vnd.databricks.v1+cell": {
     "cellMetadata": {},
     "inputWidgets": {},
     "nuid": "bc613881-32f1-4fd4-a03e-a47f2185ea66",
     "showTitle": false,
     "tableResultSettingsMap": {},
     "title": ""
    }
   },
   "source": [
    "   Open [Unity Catalog notebook]($./02-Data-governance/02-UC-data-governance-security-iot-turbine) to see how to setup ACL and explore lineage with the Data Explorer.\n",
    "  "
   ]
  },
  {
   "cell_type": "markdown",
   "metadata": {
    "application/vnd.databricks.v1+cell": {
     "cellMetadata": {},
     "inputWidgets": {},
     "isMarkdownSandbox": true,
     "nuid": "2fb76a9e-e43a-4857-9c1a-d323542bd5c9",
     "showTitle": false,
     "tableResultSettingsMap": {},
     "title": ""
    }
   },
   "source": [
    "## 3/ Analysing Failures (BI / Data warehousing / SQL) \n",
    "\n",
    "<img width=\"300px\" src=\"https://github.com/databricks-demos/dbdemos-resources/raw/main/images/manufacturing/lakehouse-iot-turbine/lakehouse-manuf-iot-dashboard-1.png\"  style=\"float: right; margin: 100px 0px 10px;\"/>\n",
    "\n",
    "<img width=\"500px\" src=\"https://raw.githubusercontent.com/databricks-demos/dbdemos-resources/refs/heads/main/images/manufacturing/lakehouse-iot-turbine/di_platform_2.png\"  style=\"float: left; margin-right: 10px\"/>\n",
    " \n",
    "<br><br><br>\n",
    "Our datasets are now properly ingested, secured, are of high quality and easily discoverable within our organization.\n",
    "\n",
    "Data Analysts are now ready to run BI interactive queries which are low latency & high throughput. They can choose to either create a new compute cluster, use a shared cluster, or for even faster response times, use Databricks Serverless Datawarehouses which provide instant stop & start.\n",
    "\n",
    "Let's see how Data Warehousing is done using Databricks! We will look at our built-in dashboards as Databricks provides a complete data platform from ingest to analysis but also provides to integrations with many popular BI tools such as PowerBI, Tableau and others!"
   ]
  },
  {
   "cell_type": "markdown",
   "metadata": {
    "application/vnd.databricks.v1+cell": {
     "cellMetadata": {},
     "inputWidgets": {},
     "nuid": "6cba1961-862d-4935-9134-db59ff8eed6e",
     "showTitle": false,
     "tableResultSettingsMap": {},
     "title": ""
    }
   },
   "source": [
    "Open the [Datawarehousing notebook]($./03-BI-data-warehousing/03-BI-Datawarehousing-iot-turbine) to start running your BI queries or access or directly open the <a dbdemos-dashboard-id=\"turbine-analysis\" href=\"/sql/dashboardsv3/01f064039a0216659a7685a42c3cd2f6\" target=\"_blank\">Turbine analysis AI/BI dashboard</a>"
   ]
  },
  {
   "cell_type": "markdown",
   "metadata": {
    "application/vnd.databricks.v1+cell": {
     "cellMetadata": {},
     "inputWidgets": {},
     "isMarkdownSandbox": true,
     "nuid": "97bb0c9d-85e9-40c5-8fb5-8cfef79b382d",
     "showTitle": false,
     "tableResultSettingsMap": {},
     "title": ""
    }
   },
   "source": [
    "## 4/ Predict Failure with Data Science & ML\n",
    "\n",
    "<img width=\"500px\" style=\"float: left; margin-right: 10px\" src=\"https://raw.githubusercontent.com/databricks-demos/dbdemos-resources/refs/heads/main/images/manufacturing/lakehouse-iot-turbine/di_platform3.png\" />\n",
    "\n",
    "<br><br><br>\n",
    "Being able to run analysis on our historical data provided the team with a lot of insights to drive our business. We can now better understand the impact of downtime and see which turbines are currently down in our near real-time dashboard.\n",
    "\n",
    "However, knowing what turbines have failed isn't enough. We now need to take it to the next level and build a predictive model to detect potential failures before they happen and increase uptime and minimize costs.\n",
    "\n",
    "This is where the Lakehouse value comes in. Within the same platform, anyone can start building an ML model to predict the failures using traditional ML development."
   ]
  },
  {
   "cell_type": "markdown",
   "metadata": {
    "application/vnd.databricks.v1+cell": {
     "cellMetadata": {},
     "inputWidgets": {},
     "nuid": "2e0abf89-b153-44b0-98b9-3f0c0d654229",
     "showTitle": false,
     "tableResultSettingsMap": {},
     "title": ""
    }
   },
   "source": [
    "Let's see how to train an ML model within 1 click with the [04.1-automl-iot-turbine-predictive-maintenance]($./04-Data-Science-ML/04.1-automl-iot-turbine-predictive-maintenance)"
   ]
  },
  {
   "cell_type": "markdown",
   "metadata": {
    "application/vnd.databricks.v1+cell": {
     "cellMetadata": {},
     "inputWidgets": {},
     "isMarkdownSandbox": true,
     "nuid": "a3b5b406-7d0b-4f6d-90b0-3df5bb19d2ae",
     "showTitle": false,
     "tableResultSettingsMap": {},
     "title": ""
    }
   },
   "source": [
    "## 5/ Generate Maintenance Work Orders with Generative AI\n",
    "\n",
    "<img width=\"500px\" style=\"float: left; margin-right: 10px\" src=\"https://raw.githubusercontent.com/databricks-demos/dbdemos-resources/refs/heads/main/images/manufacturing/lakehouse-iot-turbine/di_platform_4.png\" />\n",
    "\n",
    "<br><br><br>\n",
    "\n",
    "The rise of Generative AI enables a shift from Predictive to Prescriptive Maintenance ML Models. By going from ML models to agent systems, we can now leverage the predictive model as one of the many components of the AI system. This opens up a whole lot of new opportunities for automation and efficiency gains, which will further increase uptime and minimize costs.\n",
    "\n",
    "Databricks offers a a set of tools to help developers build, deploy and evaluate production-quality AI agents like Retrievel Augmented Generation (RAG) applications, including a vector database, model serving endpoints, governance, monitoring and evaluation capabilties. \n",
    "\n",
    "_Disclaimer: if your organization doesn't allow (yet) the use of Databricks Vector Search and/or Model Serving, you can skip this section._"
   ]
  },
  {
   "cell_type": "markdown",
   "metadata": {
    "application/vnd.databricks.v1+cell": {
     "cellMetadata": {},
     "inputWidgets": {},
     "nuid": "797649e1-fc61-461e-b7af-073914ac7ce8",
     "showTitle": false,
     "tableResultSettingsMap": {},
     "title": ""
    }
   },
   "source": [
    "Let's create our first agent system with the [05.1-ai-tools-iot-turbine-prescriptive-maintenance]($./05-Generative-AI/05.1-ai-tools-iot-turbine-prescriptive-maintenance)"
   ]
  },
  {
   "cell_type": "markdown",
   "metadata": {
    "application/vnd.databricks.v1+cell": {
     "cellMetadata": {},
     "inputWidgets": {},
     "isMarkdownSandbox": true,
     "nuid": "d816ea7b-74f9-41b8-a487-5cff043cf8e6",
     "showTitle": false,
     "tableResultSettingsMap": {},
     "title": ""
    }
   },
   "source": [
    "\n",
    "## Automate Action to Reduce Turbine Outage Based on Predictions\n",
    "\n",
    "\n",
    "<img style=\"float: right\" width=\"400px\" src=\"https://github.com/databricks-demos/dbdemos-resources/raw/main/images/manufacturing/lakehouse-iot-turbine/lakehouse-manuf-iot-dashboard-2.png\">\n",
    "\n",
    "We now have an end-to-end data pipeline analyzing sensor data, detecting potential failures and generating prescriptive actions based on past maintenance reports to prevent failures before they even arise. With that, we can now easily trigger follow-up actions to reduce outages such as:\n",
    "\n",
    "- Schedule maintenance based on teams availability and fault gravity\n",
    "- Stage parts and supplies accordingly to predictive maintenance operations, while keeping a low stock on hand\n",
    "- Track our predictive maintenance model efficiency by measuring its efficiency and ROI\n",
    "\n",
    "*Note: These actions are out of the scope of this demo and simply leverage the Predictive maintenance result from our ML model.*"
   ]
  },
  {
   "cell_type": "markdown",
   "metadata": {
    "application/vnd.databricks.v1+cell": {
     "cellMetadata": {},
     "inputWidgets": {},
     "nuid": "de2c99a2-a9e7-4d10-9cb5-67e6ad224971",
     "showTitle": false,
     "tableResultSettingsMap": {},
     "title": ""
    }
   },
   "source": [
    "\n",
    "Open the <a dbdemos-dashboard-id=\"turbine-predictive\" href=\"/sql/dashboardsv3/01f064039a0216659a7685a42c3cd2f6\">Prescriptive maintenance AI/BI dashboard</a> to have a complete view of your wind turbine farm, including potential faulty turbines, work orders and actions to remedy that."
   ]
  },
  {
   "cell_type": "markdown",
   "metadata": {
    "application/vnd.databricks.v1+cell": {
     "cellMetadata": {},
     "inputWidgets": {},
     "isMarkdownSandbox": true,
     "nuid": "f0ae5c42-cc21-4e14-b42d-8bdf344b18c7",
     "showTitle": false,
     "tableResultSettingsMap": {},
     "title": ""
    }
   },
   "source": [
    "## 6/ Deploying and Orchestrating the Full Workflow\n",
    "\n",
    "<img style=\"float: left; margin-right: 10px\" width=\"500px\" src=\"https://raw.githubusercontent.com/databricks-demos/dbdemos-resources/refs/heads/main/images/manufacturing/lakehouse-iot-turbine/di_platform_5.png\" />\n",
    "\n",
    "<br><br><br>\n",
    "While our data pipeline is almost completed, we're missing one last step: orchestrating the full workflow in production.\n",
    "\n",
    "With Databricks Lakehouse, there is no need to utilize an external orchestrator to run your job. Databricks Workflows simplifies all your jobs, with advanced alerting, monitoring, branching options etc."
   ]
  },
  {
   "cell_type": "markdown",
   "metadata": {
    "application/vnd.databricks.v1+cell": {
     "cellMetadata": {},
     "inputWidgets": {},
     "nuid": "b45e5c18-5692-4ce5-a1da-f75e8c52bab3",
     "showTitle": false,
     "tableResultSettingsMap": {},
     "title": ""
    }
   },
   "source": [
    "Open the [workflow and orchestration notebook]($./06-Workflow-orchestration/06-Workflow-orchestration-iot-turbine) to schedule our pipeline (data ingetion, model re-training etc)"
   ]
  },
  {
   "cell_type": "markdown",
   "metadata": {
    "application/vnd.databricks.v1+cell": {
     "cellMetadata": {},
     "inputWidgets": {},
     "nuid": "caafc557-68cd-4f6e-8d0c-bf52392c5d17",
     "showTitle": false,
     "tableResultSettingsMap": {},
     "title": ""
    }
   },
   "source": [
    "\n",
    "## Conclusion\n",
    "\n",
    "We demonstrated how to implement an end-to-end pipeline with the Lakehouse, using a single, unified and secured platform. We saw:\n",
    "\n",
    "- Data Ingestion\n",
    "- Data Analysis / DW / BI \n",
    "- Data Science / ML\n",
    "- Generative AI\n",
    "- Workflow & Orchestration\n",
    "\n",
    "And as a result, our business analysis team was able to build a system to not only understand failures better but also forecast future failures and let the maintenance team take action accordingly.\n",
    "\n",
    "*This was only an introduction to the Databricks Platform. For more details, contact your account team and explore more demos with `dbdemos.list()`!*"
   ]
  },
  {
   "cell_type": "code",
   "execution_count": 0,
   "metadata": {
    "application/vnd.databricks.v1+cell": {
     "cellMetadata": {
      "byteLimit": 2048000,
      "rowLimit": 10000
     },
     "inputWidgets": {},
     "nuid": "0c755302-a976-47b8-ac2b-c8277aae89e4",
     "showTitle": false,
     "tableResultSettingsMap": {},
     "title": ""
    }
   },
   "outputs": [
    {
     "output_type": "stream",
     "name": "stdout",
     "output_type": "stream",
     "text": [
      "Collecting git+https://github.com/QuentinAmbard/mandrova\n  Cloning https://github.com/QuentinAmbard/mandrova to /tmp/pip-req-build-uyd_hjyg\n  Running command git clone --filter=blob:none --quiet https://github.com/QuentinAmbard/mandrova /tmp/pip-req-build-uyd_hjyg\n  Resolved https://github.com/QuentinAmbard/mandrova to commit 553986e2ab1e5e349e095b83f7c1a1e1226f99e0\n  Preparing metadata (setup.py): started\n  Preparing metadata (setup.py): finished with status 'done'\nCollecting faker\n  Downloading faker-37.5.3-py3-none-any.whl.metadata (15 kB)\nRequirement already satisfied: databricks-sdk==0.40.0 in /databricks/python3/lib/python3.11/site-packages (0.40.0)\nCollecting mlflow==2.22.0\n  Downloading mlflow-2.22.0-py3-none-any.whl.metadata (30 kB)\nCollecting numpy==1.26.4\n  Downloading numpy-1.26.4-cp311-cp311-manylinux_2_17_aarch64.manylinux2014_aarch64.whl.metadata (62 kB)\nCollecting pandas==2.2.3\n  Downloading pandas-2.2.3-cp311-cp311-manylinux2014_aarch64.manylinux_2_17_aarch64.whl.metadata (89 kB)\nRequirement already satisfied: requests<3,>=2.28.1 in /databricks/python3/lib/python3.11/site-packages (from databricks-sdk==0.40.0) (2.31.0)\nRequirement already satisfied: google-auth~=2.0 in /databricks/python3/lib/python3.11/site-packages (from databricks-sdk==0.40.0) (2.35.0)\nCollecting mlflow-skinny==2.22.0 (from mlflow==2.22.0)\n  Downloading mlflow_skinny-2.22.0-py3-none-any.whl.metadata (31 kB)\nCollecting Flask<4 (from mlflow==2.22.0)\n  Downloading flask-3.1.1-py3-none-any.whl.metadata (3.0 kB)\nCollecting Jinja2<4,>=2.11 (from mlflow==2.22.0)\n  Downloading jinja2-3.1.6-py3-none-any.whl.metadata (2.9 kB)\nCollecting alembic!=1.10.0,<2 (from mlflow==2.22.0)\n  Downloading alembic-1.16.4-py3-none-any.whl.metadata (7.3 kB)\nCollecting docker<8,>=4.0.0 (from mlflow==2.22.0)\n  Downloading docker-7.1.0-py3-none-any.whl.metadata (3.8 kB)\nCollecting graphene<4 (from mlflow==2.22.0)\n  Downloading graphene-3.4.3-py2.py3-none-any.whl.metadata (6.9 kB)\nCollecting gunicorn<24 (from mlflow==2.22.0)\n  Downloading gunicorn-23.0.0-py3-none-any.whl.metadata (4.4 kB)\nCollecting markdown<4,>=3.3 (from mlflow==2.22.0)\n  Downloading markdown-3.8.2-py3-none-any.whl.metadata (5.1 kB)\nRequirement already satisfied: matplotlib<4 in /databricks/python3/lib/python3.11/site-packages (from mlflow==2.22.0) (3.7.2)\nRequirement already satisfied: pyarrow<20,>=4.0.0 in /databricks/python3/lib/python3.11/site-packages (from mlflow==2.22.0) (14.0.1)\nRequirement already satisfied: scikit-learn<2 in /databricks/python3/lib/python3.11/site-packages (from mlflow==2.22.0) (1.3.0)\nRequirement already satisfied: scipy<2 in /databricks/python3/lib/python3.11/site-packages (from mlflow==2.22.0) (1.11.1)\nCollecting sqlalchemy<3,>=1.4.0 (from mlflow==2.22.0)\n  Downloading sqlalchemy-2.0.42-cp311-cp311-manylinux_2_17_aarch64.manylinux2014_aarch64.whl.metadata (9.6 kB)\nRequirement already satisfied: python-dateutil>=2.8.2 in /databricks/python3/lib/python3.11/site-packages (from pandas==2.2.3) (2.8.2)\nRequirement already satisfied: pytz>=2020.1 in /databricks/python3/lib/python3.11/site-packages (from pandas==2.2.3) (2022.7)\nCollecting tzdata>=2022.7 (from pandas==2.2.3)\n  Downloading tzdata-2025.2-py2.py3-none-any.whl.metadata (1.4 kB)\nRequirement already satisfied: cachetools<6,>=5.0.0 in /databricks/python3/lib/python3.11/site-packages (from mlflow-skinny==2.22.0->mlflow==2.22.0) (5.5.0)\nRequirement already satisfied: click<9,>=7.0 in /databricks/python3/lib/python3.11/site-packages (from mlflow-skinny==2.22.0->mlflow==2.22.0) (8.0.4)\nRequirement already satisfied: cloudpickle<4 in /databricks/python3/lib/python3.11/site-packages (from mlflow-skinny==2.22.0->mlflow==2.22.0) (3.0.0)\nCollecting fastapi<1 (from mlflow-skinny==2.22.0->mlflow==2.22.0)\n  Downloading fastapi-0.116.1-py3-none-any.whl.metadata (28 kB)\nRequirement already satisfied: gitpython<4,>=3.1.9 in /databricks/python3/lib/python3.11/site-packages (from mlflow-skinny==2.22.0->mlflow==2.22.0) (3.1.43)\nRequirement already satisfied: importlib_metadata!=4.7.0,<9,>=3.7.0 in /databricks/python3/lib/python3.11/site-packages (from mlflow-skinny==2.22.0->mlflow==2.22.0) (6.0.0)\nCollecting opentelemetry-api<3,>=1.9.0 (from mlflow-skinny==2.22.0->mlflow==2.22.0)\n  Downloading opentelemetry_api-1.36.0-py3-none-any.whl.metadata (1.5 kB)\nCollecting opentelemetry-sdk<3,>=1.9.0 (from mlflow-skinny==2.22.0->mlflow==2.22.0)\n  Downloading opentelemetry_sdk-1.36.0-py3-none-any.whl.metadata (1.5 kB)\nRequirement already satisfied: packaging<25 in /databricks/python3/lib/python3.11/site-packages (from mlflow-skinny==2.22.0->mlflow==2.22.0) (23.2)\nRequirement already satisfied: protobuf<7,>=3.12.0 in /databricks/python3/lib/python3.11/site-packages (from mlflow-skinny==2.22.0->mlflow==2.22.0) (5.29.3)\nCollecting pydantic<3,>=1.10.8 (from mlflow-skinny==2.22.0->mlflow==2.22.0)\n  Downloading pydantic-2.11.7-py3-none-any.whl.metadata (67 kB)\nRequirement already satisfied: pyyaml<7,>=5.1 in /databricks/python3/lib/python3.11/site-packages (from mlflow-skinny==2.22.0->mlflow==2.22.0) (6.0)\nRequirement already satisfied: sqlparse<1,>=0.4.0 in /databricks/python3/lib/python3.11/site-packages (from mlflow-skinny==2.22.0->mlflow==2.22.0) (0.5.1)\nRequirement already satisfied: typing-extensions<5,>=4.0.0 in /databricks/python3/lib/python3.11/site-packages (from mlflow-skinny==2.22.0->mlflow==2.22.0) (4.10.0)\nCollecting uvicorn<1 (from mlflow-skinny==2.22.0->mlflow==2.22.0)\n  Downloading uvicorn-0.35.0-py3-none-any.whl.metadata (6.5 kB)\nCollecting sympy (from mandrova==0.1)\n  Downloading sympy-1.14.0-py3-none-any.whl.metadata (12 kB)\nCollecting Mako (from alembic!=1.10.0,<2->mlflow==2.22.0)\n  Downloading mako-1.3.10-py3-none-any.whl.metadata (2.9 kB)\nCollecting typing-extensions<5,>=4.0.0 (from mlflow-skinny==2.22.0->mlflow==2.22.0)\n  Downloading typing_extensions-4.14.1-py3-none-any.whl.metadata (3.0 kB)\nRequirement already satisfied: urllib3>=1.26.0 in /databricks/python3/lib/python3.11/site-packages (from docker<8,>=4.0.0->mlflow==2.22.0) (1.26.16)\nCollecting blinker>=1.9.0 (from Flask<4->mlflow==2.22.0)\n  Downloading blinker-1.9.0-py3-none-any.whl.metadata (1.6 kB)\nCollecting click<9,>=7.0 (from mlflow-skinny==2.22.0->mlflow==2.22.0)\n  Downloading click-8.2.1-py3-none-any.whl.metadata (2.5 kB)\nCollecting itsdangerous>=2.2.0 (from Flask<4->mlflow==2.22.0)\n  Downloading itsdangerous-2.2.0-py3-none-any.whl.metadata (1.9 kB)\nCollecting markupsafe>=2.1.1 (from Flask<4->mlflow==2.22.0)\n  Downloading MarkupSafe-3.0.2-cp311-cp311-manylinux_2_17_aarch64.manylinux2014_aarch64.whl.metadata (4.0 kB)\nCollecting werkzeug>=3.1.0 (from Flask<4->mlflow==2.22.0)\n  Downloading werkzeug-3.1.3-py3-none-any.whl.metadata (3.7 kB)\nRequirement already satisfied: pyasn1-modules>=0.2.1 in /databricks/python3/lib/python3.11/site-packages (from google-auth~=2.0->databricks-sdk==0.40.0) (0.2.8)\nRequirement already satisfied: rsa<5,>=3.1.4 in /databricks/python3/lib/python3.11/site-packages (from google-auth~=2.0->databricks-sdk==0.40.0) (4.9)\nCollecting graphql-core<3.3,>=3.1 (from graphene<4->mlflow==2.22.0)\n  Downloading graphql_core-3.2.6-py3-none-any.whl.metadata (11 kB)\nCollecting graphql-relay<3.3,>=3.1 (from graphene<4->mlflow==2.22.0)\n  Downloading graphql_relay-3.2.0-py3-none-any.whl.metadata (12 kB)\nRequirement already satisfied: contourpy>=1.0.1 in /databricks/python3/lib/python3.11/site-packages (from matplotlib<4->mlflow==2.22.0) (1.0.5)\nRequirement already satisfied: cycler>=0.10 in /databricks/python3/lib/python3.11/site-packages (from matplotlib<4->mlflow==2.22.0) (0.11.0)\nRequirement already satisfied: fonttools>=4.22.0 in /databricks/python3/lib/python3.11/site-packages (from matplotlib<4->mlflow==2.22.0) (4.25.0)\nRequirement already satisfied: kiwisolver>=1.0.1 in /databricks/python3/lib/python3.11/site-packages (from matplotlib<4->mlflow==2.22.0) (1.4.4)\nRequirement already satisfied: pillow>=6.2.0 in /databricks/python3/lib/python3.11/site-packages (from matplotlib<4->mlflow==2.22.0) (10.3.0)\nRequirement already satisfied: pyparsing<3.1,>=2.3.1 in /databricks/python3/lib/python3.11/site-packages (from matplotlib<4->mlflow==2.22.0) (3.0.9)\nRequirement already satisfied: six>=1.5 in /usr/lib/python3/dist-packages (from python-dateutil>=2.8.2->pandas==2.2.3) (1.16.0)\nRequirement already satisfied: charset-normalizer<4,>=2 in /databricks/python3/lib/python3.11/site-packages (from requests<3,>=2.28.1->databricks-sdk==0.40.0) (2.0.4)\nRequirement already satisfied: idna<4,>=2.5 in /databricks/python3/lib/python3.11/site-packages (from requests<3,>=2.28.1->databricks-sdk==0.40.0) (3.4)\nRequirement already satisfied: certifi>=2017.4.17 in /databricks/python3/lib/python3.11/site-packages (from requests<3,>=2.28.1->databricks-sdk==0.40.0) (2023.7.22)\nRequirement already satisfied: joblib>=1.1.1 in /databricks/python3/lib/python3.11/site-packages (from scikit-learn<2->mlflow==2.22.0) (1.2.0)\nRequirement already satisfied: threadpoolctl>=2.0.0 in /databricks/python3/lib/python3.11/site-packages (from scikit-learn<2->mlflow==2.22.0) (2.2.0)\nCollecting greenlet>=1 (from sqlalchemy<3,>=1.4.0->mlflow==2.22.0)\n  Downloading greenlet-3.2.4-cp311-cp311-manylinux2014_aarch64.manylinux_2_17_aarch64.whl.metadata (4.1 kB)\nCollecting mpmath<1.4,>=1.1.0 (from sympy->mandrova==0.1)\n  Downloading mpmath-1.3.0-py3-none-any.whl.metadata (8.6 kB)\nCollecting starlette<0.48.0,>=0.40.0 (from fastapi<1->mlflow-skinny==2.22.0->mlflow==2.22.0)\n  Downloading starlette-0.47.2-py3-none-any.whl.metadata (6.2 kB)\nRequirement already satisfied: gitdb<5,>=4.0.1 in /databricks/python3/lib/python3.11/site-packages (from gitpython<4,>=3.1.9->mlflow-skinny==2.22.0->mlflow==2.22.0) (4.0.11)\nRequirement already satisfied: zipp>=0.5 in /databricks/python3/lib/python3.11/site-packages (from importlib_metadata!=4.7.0,<9,>=3.7.0->mlflow-skinny==2.22.0->mlflow==2.22.0) (3.11.0)\nCollecting opentelemetry-semantic-conventions==0.57b0 (from opentelemetry-sdk<3,>=1.9.0->mlflow-skinny==2.22.0->mlflow==2.22.0)\n  Downloading opentelemetry_semantic_conventions-0.57b0-py3-none-any.whl.metadata (2.4 kB)\nRequirement already satisfied: pyasn1<0.5.0,>=0.4.6 in /databricks/python3/lib/python3.11/site-packages (from pyasn1-modules>=0.2.1->google-auth~=2.0->databricks-sdk==0.40.0) (0.4.8)\nCollecting annotated-types>=0.6.0 (from pydantic<3,>=1.10.8->mlflow-skinny==2.22.0->mlflow==2.22.0)\n  Downloading annotated_types-0.7.0-py3-none-any.whl.metadata (15 kB)\nCollecting pydantic-core==2.33.2 (from pydantic<3,>=1.10.8->mlflow-skinny==2.22.0->mlflow==2.22.0)\n  Downloading pydantic_core-2.33.2-cp311-cp311-manylinux_2_17_aarch64.manylinux2014_aarch64.whl.metadata (6.8 kB)\nCollecting typing-inspection>=0.4.0 (from pydantic<3,>=1.10.8->mlflow-skinny==2.22.0->mlflow==2.22.0)\n  Downloading typing_inspection-0.4.1-py3-none-any.whl.metadata (2.6 kB)\nCollecting h11>=0.8 (from uvicorn<1->mlflow-skinny==2.22.0->mlflow==2.22.0)\n  Downloading h11-0.16.0-py3-none-any.whl.metadata (8.3 kB)\nRequirement already satisfied: smmap<6,>=3.0.1 in /databricks/python3/lib/python3.11/site-packages (from gitdb<5,>=4.0.1->gitpython<4,>=3.1.9->mlflow-skinny==2.22.0->mlflow==2.22.0) (5.0.1)\nCollecting anyio<5,>=3.6.2 (from starlette<0.48.0,>=0.40.0->fastapi<1->mlflow-skinny==2.22.0->mlflow==2.22.0)\n  Downloading anyio-4.10.0-py3-none-any.whl.metadata (4.0 kB)\nCollecting sniffio>=1.1 (from anyio<5,>=3.6.2->starlette<0.48.0,>=0.40.0->fastapi<1->mlflow-skinny==2.22.0->mlflow==2.22.0)\n  Downloading sniffio-1.3.1-py3-none-any.whl.metadata (3.9 kB)\nDownloading mlflow-2.22.0-py3-none-any.whl (29.0 MB)\n\u001B[?25l   \u001B[90m━━━━━━━━━━━━━━━━━━━━━━━━━━━━━━━━━━━━━━━━\u001B[0m \u001B[32m0.0/29.0 MB\u001B[0m \u001B[31m?\u001B[0m eta \u001B[36m-:--:--\u001B[0m\r\u001B[2K   \u001B[91m━━━━━━━━━━━━━━━━━━━━━━━━━━━━━━━━\u001B[0m\u001B[91m╸\u001B[0m\u001B[90m━━━━━━━\u001B[0m \u001B[32m23.6/29.0 MB\u001B[0m \u001B[31m123.7 MB/s\u001B[0m eta \u001B[36m0:00:01\u001B[0m\r\u001B[2K   \u001B[90m━━━━━━━━━━━━━━━━━━━━━━━━━━━━━━━━━━━━━━━━\u001B[0m \u001B[32m29.0/29.0 MB\u001B[0m \u001B[31m74.8 MB/s\u001B[0m eta \u001B[36m0:00:00\u001B[0m\n\u001B[?25hDownloading numpy-1.26.4-cp311-cp311-manylinux_2_17_aarch64.manylinux2014_aarch64.whl (14.2 MB)\n\u001B[?25l   \u001B[90m━━━━━━━━━━━━━━━━━━━━━━━━━━━━━━━━━━━━━━━━\u001B[0m \u001B[32m0.0/14.2 MB\u001B[0m \u001B[31m?\u001B[0m eta \u001B[36m-:--:--\u001B[0m\r\u001B[2K   \u001B[90m━━━━━━━━━━━━━━━━━━━━━━━━━━━━━━━━━━━━━━━━\u001B[0m \u001B[32m14.2/14.2 MB\u001B[0m \u001B[31m108.1 MB/s\u001B[0m eta \u001B[36m0:00:00\u001B[0m\n\u001B[?25hDownloading pandas-2.2.3-cp311-cp311-manylinux2014_aarch64.manylinux_2_17_aarch64.whl (15.6 MB)\n\u001B[?25l   \u001B[90m━━━━━━━━━━━━━━━━━━━━━━━━━━━━━━━━━━━━━━━━\u001B[0m \u001B[32m0.0/15.6 MB\u001B[0m \u001B[31m?\u001B[0m eta \u001B[36m-:--:--\u001B[0m\r\u001B[2K   \u001B[90m━━━━━━━━━━━━━━━━━━━━━━━━━━━━━━━━━━━━━━━━\u001B[0m \u001B[32m15.6/15.6 MB\u001B[0m \u001B[31m78.6 MB/s\u001B[0m eta \u001B[36m0:00:00\u001B[0m\n\u001B[?25hDownloading mlflow_skinny-2.22.0-py3-none-any.whl (6.3 MB)\n\u001B[?25l   \u001B[90m━━━━━━━━━━━━━━━━━━━━━━━━━━━━━━━━━━━━━━━━\u001B[0m \u001B[32m0.0/6.3 MB\u001B[0m \u001B[31m?\u001B[0m eta \u001B[36m-:--:--\u001B[0m\r\u001B[2K   \u001B[90m━━━━━━━━━━━━━━━━━━━━━━━━━━━━━━━━━━━━━━━━\u001B[0m \u001B[32m6.3/6.3 MB\u001B[0m \u001B[31m98.8 MB/s\u001B[0m eta \u001B[36m0:00:00\u001B[0m\n\u001B[?25hDownloading faker-37.5.3-py3-none-any.whl (1.9 MB)\n\u001B[?25l   \u001B[90m━━━━━━━━━━━━━━━━━━━━━━━━━━━━━━━━━━━━━━━━\u001B[0m \u001B[32m0.0/1.9 MB\u001B[0m \u001B[31m?\u001B[0m eta \u001B[36m-:--:--\u001B[0m\r\u001B[2K   \u001B[90m━━━━━━━━━━━━━━━━━━━━━━━━━━━━━━━━━━━━━━━━\u001B[0m \u001B[32m1.9/1.9 MB\u001B[0m \u001B[31m60.3 MB/s\u001B[0m eta \u001B[36m0:00:00\u001B[0m\n\u001B[?25hDownloading alembic-1.16.4-py3-none-any.whl (247 kB)\nDownloading docker-7.1.0-py3-none-any.whl (147 kB)\nDownloading flask-3.1.1-py3-none-any.whl (103 kB)\nDownloading graphene-3.4.3-py2.py3-none-any.whl (114 kB)\nDownloading gunicorn-23.0.0-py3-none-any.whl (85 kB)\nDownloading jinja2-3.1.6-py3-none-any.whl (134 kB)\nDownloading markdown-3.8.2-py3-none-any.whl (106 kB)\nDownloading sqlalchemy-2.0.42-cp311-cp311-manylinux_2_17_aarch64.manylinux2014_aarch64.whl (3.3 MB)\n\u001B[?25l   \u001B[90m━━━━━━━━━━━━━━━━━━━━━━━━━━━━━━━━━━━━━━━━\u001B[0m \u001B[32m0.0/3.3 MB\u001B[0m \u001B[31m?\u001B[0m eta \u001B[36m-:--:--\u001B[0m\r\u001B[2K   \u001B[90m━━━━━━━━━━━━━━━━━━━━━━━━━━━━━━━━━━━━━━━━\u001B[0m \u001B[32m3.3/3.3 MB\u001B[0m \u001B[31m87.2 MB/s\u001B[0m eta \u001B[36m0:00:00\u001B[0m\n\u001B[?25hDownloading tzdata-2025.2-py2.py3-none-any.whl (347 kB)\nDownloading sympy-1.14.0-py3-none-any.whl (6.3 MB)\n\u001B[?25l   \u001B[90m━━━━━━━━━━━━━━━━━━━━━━━━━━━━━━━━━━━━━━━━\u001B[0m \u001B[32m0.0/6.3 MB\u001B[0m \u001B[31m?\u001B[0m eta \u001B[36m-:--:--\u001B[0m\r\u001B[2K   \u001B[90m━━━━━━━━━━━━━━━━━━━━━━━━━━━━━━━━━━━━━━━━\u001B[0m \u001B[32m6.3/6.3 MB\u001B[0m \u001B[31m48.1 MB/s\u001B[0m eta \u001B[36m0:00:00\u001B[0m\n\u001B[?25hDownloading blinker-1.9.0-py3-none-any.whl (8.5 kB)\nDownloading click-8.2.1-py3-none-any.whl (102 kB)\nDownloading fastapi-0.116.1-py3-none-any.whl (95 kB)\nDownloading graphql_core-3.2.6-py3-none-any.whl (203 kB)\nDownloading graphql_relay-3.2.0-py3-none-any.whl (16 kB)\nDownloading greenlet-3.2.4-cp311-cp311-manylinux2014_aarch64.manylinux_2_17_aarch64.whl (632 kB)\n\u001B[?25l   \u001B[90m━━━━━━━━━━━━━━━━━━━━━━━━━━━━━━━━━━━━━━━━\u001B[0m \u001B[32m0.0/632.5 kB\u001B[0m \u001B[31m?\u001B[0m eta \u001B[36m-:--:--\u001B[0m\r\u001B[2K   \u001B[90m━━━━━━━━━━━━━━━━━━━━━━━━━━━━━━━━━━━━━━━━\u001B[0m \u001B[32m632.5/632.5 kB\u001B[0m \u001B[31m32.2 MB/s\u001B[0m eta \u001B[36m0:00:00\u001B[0m\n\u001B[?25hDownloading itsdangerous-2.2.0-py3-none-any.whl (16 kB)\nDownloading MarkupSafe-3.0.2-cp311-cp311-manylinux_2_17_aarch64.manylinux2014_aarch64.whl (23 kB)\nDownloading mpmath-1.3.0-py3-none-any.whl (536 kB)\n\u001B[?25l   \u001B[90m━━━━━━━━━━━━━━━━━━━━━━━━━━━━━━━━━━━━━━━━\u001B[0m \u001B[32m0.0/536.2 kB\u001B[0m \u001B[31m?\u001B[0m eta \u001B[36m-:--:--\u001B[0m\r\u001B[2K   \u001B[90m━━━━━━━━━━━━━━━━━━━━━━━━━━━━━━━━━━━━━━━━\u001B[0m \u001B[32m536.2/536.2 kB\u001B[0m \u001B[31m15.8 MB/s\u001B[0m eta \u001B[36m0:00:00\u001B[0m\n\u001B[?25hDownloading opentelemetry_api-1.36.0-py3-none-any.whl (65 kB)\nDownloading opentelemetry_sdk-1.36.0-py3-none-any.whl (119 kB)\nDownloading opentelemetry_semantic_conventions-0.57b0-py3-none-any.whl (201 kB)\nDownloading pydantic-2.11.7-py3-none-any.whl (444 kB)\nDownloading pydantic_core-2.33.2-cp311-cp311-manylinux_2_17_aarch64.manylinux2014_aarch64.whl (1.9 MB)\n\u001B[?25l   \u001B[90m━━━━━━━━━━━━━━━━━━━━━━━━━━━━━━━━━━━━━━━━\u001B[0m \u001B[32m0.0/1.9 MB\u001B[0m \u001B[31m?\u001B[0m eta \u001B[36m-:--:--\u001B[0m\r\u001B[2K   \u001B[90m━━━━━━━━━━━━━━━━━━━━━━━━━━━━━━━━━━━━━━━━\u001B[0m \u001B[32m1.9/1.9 MB\u001B[0m \u001B[31m75.3 MB/s\u001B[0m eta \u001B[36m0:00:00\u001B[0m\n\u001B[?25hDownloading typing_extensions-4.14.1-py3-none-any.whl (43 kB)\nDownloading uvicorn-0.35.0-py3-none-any.whl (66 kB)\nDownloading werkzeug-3.1.3-py3-none-any.whl (224 kB)\nDownloading mako-1.3.10-py3-none-any.whl (78 kB)\nDownloading annotated_types-0.7.0-py3-none-any.whl (13 kB)\nDownloading h11-0.16.0-py3-none-any.whl (37 kB)\nDownloading starlette-0.47.2-py3-none-any.whl (72 kB)\nDownloading typing_inspection-0.4.1-py3-none-any.whl (14 kB)\nDownloading anyio-4.10.0-py3-none-any.whl (107 kB)\nDownloading sniffio-1.3.1-py3-none-any.whl (10 kB)\nBuilding wheels for collected packages: mandrova\n  Building wheel for mandrova (setup.py): started\n  Building wheel for mandrova (setup.py): finished with status 'done'\n  Created wheel for mandrova: filename=mandrova-0.1-py3-none-any.whl size=23650 sha256=6f40f7cbb4ad041a04143285d66bafab0a89eba2a1e399ccf821dbaa0c86d50a\n  Stored in directory: /tmp/pip-ephem-wheel-cache-6z_n1brs/wheels/2d/4b/b6/24b74264ede883f5e63499a661af71d5bdfcaa3ffab4a78910\nSuccessfully built mandrova\nInstalling collected packages: mpmath, tzdata, typing-extensions, sympy, sniffio, numpy, markupsafe, markdown, itsdangerous, h11, gunicorn, greenlet, graphql-core, click, blinker, annotated-types, werkzeug, uvicorn, typing-inspection, sqlalchemy, pydantic-core, pandas, opentelemetry-api, Mako, Jinja2, graphql-relay, faker, docker, anyio, starlette, pydantic, opentelemetry-semantic-conventions, graphene, Flask, alembic, opentelemetry-sdk, mandrova, fastapi, mlflow-skinny, mlflow\n  Attempting uninstall: tzdata\n    Found existing installation: tzdata 2022.1\n    Not uninstalling tzdata at /databricks/python3/lib/python3.11/site-packages, outside environment /local_disk0/.ephemeral_nfs/envs/pythonEnv-c903caf3-c6f7-448c-8f79-e69ba72edbcb\n    Can't uninstall 'tzdata'. No files were found to uninstall.\n  Attempting uninstall: typing-extensions\n    Found existing installation: typing_extensions 4.10.0\n    Not uninstalling typing-extensions at /databricks/python3/lib/python3.11/site-packages, outside environment /local_disk0/.ephemeral_nfs/envs/pythonEnv-c903caf3-c6f7-448c-8f79-e69ba72edbcb\n    Can't uninstall 'typing_extensions'. No files were found to uninstall.\n  Attempting uninstall: numpy\n    Found existing installation: numpy 1.23.5\n    Not uninstalling numpy at /databricks/python3/lib/python3.11/site-packages, outside environment /local_disk0/.ephemeral_nfs/envs/pythonEnv-c903caf3-c6f7-448c-8f79-e69ba72edbcb\n    Can't uninstall 'numpy'. No files were found to uninstall.\n  Attempting uninstall: click\n    Found existing installation: click 8.0.4\n    Not uninstalling click at /databricks/python3/lib/python3.11/site-packages, outside environment /local_disk0/.ephemeral_nfs/envs/pythonEnv-c903caf3-c6f7-448c-8f79-e69ba72edbcb\n    Can't uninstall 'click'. No files were found to uninstall.\n  Attempting uninstall: blinker\n    Found existing installation: blinker 1.4\n    Not uninstalling blinker at /usr/lib/python3/dist-packages, outside environment /local_disk0/.ephemeral_nfs/envs/pythonEnv-c903caf3-c6f7-448c-8f79-e69ba72edbcb\n    Can't uninstall 'blinker'. No files were found to uninstall.\n  Attempting uninstall: pandas\n    Found existing installation: pandas 1.5.3\n    Not uninstalling pandas at /databricks/python3/lib/python3.11/site-packages, outside environment /local_disk0/.ephemeral_nfs/envs/pythonEnv-c903caf3-c6f7-448c-8f79-e69ba72edbcb\n    Can't uninstall 'pandas'. No files were found to uninstall.\n  Attempting uninstall: pydantic\n    Found existing installation: pydantic 1.10.6\n    Not uninstalling pydantic at /databricks/python3/lib/python3.11/site-packages, outside environment /local_disk0/.ephemeral_nfs/envs/pythonEnv-c903caf3-c6f7-448c-8f79-e69ba72edbcb\n    Can't uninstall 'pydantic'. No files were found to uninstall.\n  Attempting uninstall: mlflow-skinny\n    Found existing installation: mlflow-skinny 2.11.4\n    Not uninstalling mlflow-skinny at /databricks/python3/lib/python3.11/site-packages, outside environment /local_disk0/.ephemeral_nfs/envs/pythonEnv-c903caf3-c6f7-448c-8f79-e69ba72edbcb\n    Can't uninstall 'mlflow-skinny'. No files were found to uninstall.\nSuccessfully installed Flask-3.1.1 Jinja2-3.1.6 Mako-1.3.10 alembic-1.16.4 annotated-types-0.7.0 anyio-4.10.0 blinker-1.9.0 click-8.2.1 docker-7.1.0 faker-37.5.3 fastapi-0.116.1 graphene-3.4.3 graphql-core-3.2.6 graphql-relay-3.2.0 greenlet-3.2.4 gunicorn-23.0.0 h11-0.16.0 itsdangerous-2.2.0 mandrova-0.1 markdown-3.8.2 markupsafe-3.0.2 mlflow-2.22.0 mlflow-skinny-2.22.0 mpmath-1.3.0 numpy-1.26.4 opentelemetry-api-1.36.0 opentelemetry-sdk-1.36.0 opentelemetry-semantic-conventions-0.57b0 pandas-2.2.3 pydantic-2.11.7 pydantic-core-2.33.2 sniffio-1.3.1 sqlalchemy-2.0.42 starlette-0.47.2 sympy-1.14.0 typing-extensions-4.14.1 typing-inspection-0.4.1 tzdata-2025.2 uvicorn-0.35.0 werkzeug-3.1.3\n\u001B[43mNote: you may need to restart the kernel using %restart_python or dbutils.library.restartPython() to use updated packages.\u001B[0m\n"
     ]
    },
    {
     "output_type": "display_data",
     "data": {
      "text/markdown": [
       "## Configuration file\n",
       "\n",
       "Please change your catalog and schema here to run the demo on a different catalog.\n",
       "\n",
       " \n",
       "<!-- Collect usage data (view). Remove it to disable collection. View README for more details.  -->\n",
       "<img width=\"1px\" src=\"https://ppxrzfxige.execute-api.us-west-2.amazonaws.com/v1/analytics?category=lakehouse&org_id=4003492105941350&notebook=%2Fconfig&demo_name=lakehouse-iot-platform&event=VIEW&path=%2F_dbdemos%2Flakehouse%2Flakehouse-iot-platform%2Fconfig&version=1\">"
      ]
     },
     "metadata": {},
     "output_type": "display_data"
    },
    {
     "output_type": "display_data",
     "data": {
      "text/markdown": [
       "\n",
       "# Technical Setup notebook. Hide this cell results\n",
       "Initialize dataset to the current user and cleanup data when reset_all_data is set to true\n",
       "\n",
       "Do not edit"
      ]
     },
     "metadata": {},
     "output_type": "display_data"
    },
    {
     "output_type": "stream",
     "name": "stdout",
     "output_type": "stream",
     "text": [
      "USE CATALOG `main`\nusing catalog.database `main`.`dbdemos_iot_turbine`\nfolder doesn't exists, generating the data...\n"
     ]
    },
    {
     "output_type": "stream",
     "name": "stdout",
     "output_type": "stream",
     "text": [
      "saving /Volumes/main/dbdemos_iot_turbine/turbine_raw_landing/historical_turbine_status/part-00000-tid-6324144606306677564-046e9e75-8be6-4cb7-98af-4968e0d745cd-446-1-c000.json\nsaving /Volumes/main/dbdemos_iot_turbine/turbine_raw_landing/parts/part-00001-tid-7121886240773590243-caac67ab-2de6-4dde-8d08-e416821625ec-669-1-c000.json\nsaving /Volumes/main/dbdemos_iot_turbine/turbine_raw_landing/parts/part-00000-tid-7121886240773590243-caac67ab-2de6-4dde-8d08-e416821625ec-668-1-c000.json\nsaving /Volumes/main/dbdemos_iot_turbine/turbine_raw_landing/parts/part-00002-tid-7121886240773590243-caac67ab-2de6-4dde-8d08-e416821625ec-670-1-c000.json\nsaving /Volumes/main/dbdemos_iot_turbine/turbine_raw_landing/turbine/part-00000-tid-3148847613653410419-fcc4166d-87a2-4660-bfb1-a1ea83a470f4-393-1-c000.json\nsaving /Volumes/main/dbdemos_iot_turbine/turbine_raw_landing/turbine/part-00000-tid-9025614560650335470-30d18e88-1904-4393-adec-f936a1012078-340-1-c000.json\nsaving /Volumes/main/dbdemos_iot_turbine/turbine_raw_landing/incoming_data/part-00002-tid-2947338609678659548-efa27e8c-0bc8-4838-8d13-7b999aade6b2-784-1-c000.snappy.parquet\nsaving /Volumes/main/dbdemos_iot_turbine/turbine_raw_landing/incoming_data/part-00004-tid-2947338609678659548-efa27e8c-0bc8-4838-8d13-7b999aade6b2-786-1-c000.snappy.parquet\nsaving /Volumes/main/dbdemos_iot_turbine/turbine_raw_landing/incoming_data/part-00007-tid-2947338609678659548-efa27e8c-0bc8-4838-8d13-7b999aade6b2-789-1-c000.snappy.parquet\nsaving /Volumes/main/dbdemos_iot_turbine/turbine_raw_landing/incoming_data/part-00001-tid-2947338609678659548-efa27e8c-0bc8-4838-8d13-7b999aade6b2-783-1-c000.snappy.parquet\nsaving /Volumes/main/dbdemos_iot_turbine/turbine_raw_landing/incoming_data/part-00006-tid-2947338609678659548-efa27e8c-0bc8-4838-8d13-7b999aade6b2-788-1-c000.snappy.parquet\nsaving /Volumes/main/dbdemos_iot_turbine/turbine_raw_landing/incoming_data/part-00000-tid-2947338609678659548-efa27e8c-0bc8-4838-8d13-7b999aade6b2-782-1-c000.snappy.parquet\nsaving /Volumes/main/dbdemos_iot_turbine/turbine_raw_landing/incoming_data/part-00005-tid-2947338609678659548-efa27e8c-0bc8-4838-8d13-7b999aade6b2-787-1-c000.snappy.parquet\nsaving /Volumes/main/dbdemos_iot_turbine/turbine_raw_landing/incoming_data/part-00003-tid-2947338609678659548-efa27e8c-0bc8-4838-8d13-7b999aade6b2-785-1-c000.snappy.parquet\nsaving /Volumes/main/dbdemos_iot_turbine/turbine_raw_landing/incoming_data/part-00008-tid-2947338609678659548-efa27e8c-0bc8-4838-8d13-7b999aade6b2-790-1-c000.snappy.parquet\nsaving /Volumes/main/dbdemos_iot_turbine/turbine_raw_landing/incoming_data/part-00009-tid-2947338609678659548-efa27e8c-0bc8-4838-8d13-7b999aade6b2-791-1-c000.snappy.parquet\nsaving /Volumes/main/dbdemos_iot_turbine/turbine_raw_landing/incoming_data/part-00010-tid-2947338609678659548-efa27e8c-0bc8-4838-8d13-7b999aade6b2-792-1-c000.snappy.parquet\nsaving /Volumes/main/dbdemos_iot_turbine/turbine_raw_landing/incoming_data/part-00011-tid-2947338609678659548-efa27e8c-0bc8-4838-8d13-7b999aade6b2-793-1-c000.snappy.parquet\nsaving /Volumes/main/dbdemos_iot_turbine/turbine_raw_landing/incoming_data/part-00012-tid-2947338609678659548-efa27e8c-0bc8-4838-8d13-7b999aade6b2-794-1-c000.snappy.parquet\nsaving /Volumes/main/dbdemos_iot_turbine/turbine_raw_landing/incoming_data/part-00013-tid-2947338609678659548-efa27e8c-0bc8-4838-8d13-7b999aade6b2-795-1-c000.snappy.parquet\nsaving /Volumes/main/dbdemos_iot_turbine/turbine_raw_landing/incoming_data/part-00014-tid-2947338609678659548-efa27e8c-0bc8-4838-8d13-7b999aade6b2-796-1-c000.snappy.parquet\nsaving /Volumes/main/dbdemos_iot_turbine/turbine_raw_landing/incoming_data/part-00015-tid-2947338609678659548-efa27e8c-0bc8-4838-8d13-7b999aade6b2-797-1-c000.snappy.parquet\nsaving /Volumes/main/dbdemos_iot_turbine/turbine_raw_landing/incoming_data/part-00016-tid-2947338609678659548-efa27e8c-0bc8-4838-8d13-7b999aade6b2-798-1-c000.snappy.parquet\nsaving /Volumes/main/dbdemos_iot_turbine/turbine_raw_landing/incoming_data/part-00017-tid-2947338609678659548-efa27e8c-0bc8-4838-8d13-7b999aade6b2-799-1-c000.snappy.parquet\nsaving /Volumes/main/dbdemos_iot_turbine/turbine_raw_landing/incoming_data/part-00018-tid-2947338609678659548-efa27e8c-0bc8-4838-8d13-7b999aade6b2-800-1-c000.snappy.parquet\nsaving /Volumes/main/dbdemos_iot_turbine/turbine_raw_landing/incoming_data/part-00019-tid-2947338609678659548-efa27e8c-0bc8-4838-8d13-7b999aade6b2-801-1-c000.snappy.parquet\nsaving /Volumes/main/dbdemos_iot_turbine/turbine_raw_landing/incoming_data/part-00021-tid-2947338609678659548-efa27e8c-0bc8-4838-8d13-7b999aade6b2-803-1-c000.snappy.parquet\nsaving /Volumes/main/dbdemos_iot_turbine/turbine_raw_landing/incoming_data/part-00020-tid-2947338609678659548-efa27e8c-0bc8-4838-8d13-7b999aade6b2-802-1-c000.snappy.parquet\nsaving /Volumes/main/dbdemos_iot_turbine/turbine_raw_landing/incoming_data/part-00023-tid-2947338609678659548-efa27e8c-0bc8-4838-8d13-7b999aade6b2-805-1-c000.snappy.parquet\nsaving /Volumes/main/dbdemos_iot_turbine/turbine_raw_landing/incoming_data/part-00022-tid-2947338609678659548-efa27e8c-0bc8-4838-8d13-7b999aade6b2-804-1-c000.snappy.parquet\nsaving /Volumes/main/dbdemos_iot_turbine/turbine_raw_landing/incoming_data/part-00024-tid-2947338609678659548-efa27e8c-0bc8-4838-8d13-7b999aade6b2-806-1-c000.snappy.parquet\nsaving /Volumes/main/dbdemos_iot_turbine/turbine_raw_landing/incoming_data/part-00025-tid-2947338609678659548-efa27e8c-0bc8-4838-8d13-7b999aade6b2-807-1-c000.snappy.parquet\nsaving /Volumes/main/dbdemos_iot_turbine/turbine_raw_landing/incoming_data/part-00026-tid-2947338609678659548-efa27e8c-0bc8-4838-8d13-7b999aade6b2-808-1-c000.snappy.parquet\nsaving /Volumes/main/dbdemos_iot_turbine/turbine_raw_landing/incoming_data/part-00027-tid-2947338609678659548-efa27e8c-0bc8-4838-8d13-7b999aade6b2-809-1-c000.snappy.parquet\nsaving /Volumes/main/dbdemos_iot_turbine/turbine_raw_landing/incoming_data/part-00028-tid-2947338609678659548-efa27e8c-0bc8-4838-8d13-7b999aade6b2-810-1-c000.snappy.parquet\nsaving /Volumes/main/dbdemos_iot_turbine/turbine_raw_landing/incoming_data/part-00029-tid-2947338609678659548-efa27e8c-0bc8-4838-8d13-7b999aade6b2-811-1-c000.snappy.parquet\nsaving /Volumes/main/dbdemos_iot_turbine/turbine_raw_landing/incoming_data/part-00030-tid-2947338609678659548-efa27e8c-0bc8-4838-8d13-7b999aade6b2-812-1-c000.snappy.parquet\nsaving /Volumes/main/dbdemos_iot_turbine/turbine_raw_landing/incoming_data/part-00031-tid-2947338609678659548-efa27e8c-0bc8-4838-8d13-7b999aade6b2-813-1-c000.snappy.parquet\nsaving /Volumes/main/dbdemos_iot_turbine/turbine_raw_landing/incoming_data/part-00032-tid-2947338609678659548-efa27e8c-0bc8-4838-8d13-7b999aade6b2-814-1-c000.snappy.parquet\nsaving /Volumes/main/dbdemos_iot_turbine/turbine_raw_landing/incoming_data/part-00033-tid-2947338609678659548-efa27e8c-0bc8-4838-8d13-7b999aade6b2-815-1-c000.snappy.parquet\nsaving /Volumes/main/dbdemos_iot_turbine/turbine_raw_landing/incoming_data/part-00034-tid-2947338609678659548-efa27e8c-0bc8-4838-8d13-7b999aade6b2-816-1-c000.snappy.parquet\nsaving /Volumes/main/dbdemos_iot_turbine/turbine_raw_landing/incoming_data/part-00036-tid-2947338609678659548-efa27e8c-0bc8-4838-8d13-7b999aade6b2-818-1-c000.snappy.parquet\nsaving /Volumes/main/dbdemos_iot_turbine/turbine_raw_landing/incoming_data/part-00035-tid-2947338609678659548-efa27e8c-0bc8-4838-8d13-7b999aade6b2-817-1-c000.snappy.parquet\nsaving /Volumes/main/dbdemos_iot_turbine/turbine_raw_landing/incoming_data/part-00038-tid-2947338609678659548-efa27e8c-0bc8-4838-8d13-7b999aade6b2-820-1-c000.snappy.parquet\nsaving /Volumes/main/dbdemos_iot_turbine/turbine_raw_landing/incoming_data/part-00037-tid-2947338609678659548-efa27e8c-0bc8-4838-8d13-7b999aade6b2-819-1-c000.snappy.parquet\nsaving /Volumes/main/dbdemos_iot_turbine/turbine_raw_landing/incoming_data/part-00039-tid-2947338609678659548-efa27e8c-0bc8-4838-8d13-7b999aade6b2-821-1-c000.snappy.parquet\nsaving /Volumes/main/dbdemos_iot_turbine/turbine_raw_landing/incoming_data/part-00040-tid-2947338609678659548-efa27e8c-0bc8-4838-8d13-7b999aade6b2-822-1-c000.snappy.parquet\nsaving /Volumes/main/dbdemos_iot_turbine/turbine_raw_landing/incoming_data/part-00041-tid-2947338609678659548-efa27e8c-0bc8-4838-8d13-7b999aade6b2-823-1-c000.snappy.parquet\nsaving /Volumes/main/dbdemos_iot_turbine/turbine_raw_landing/incoming_data/part-00042-tid-2947338609678659548-efa27e8c-0bc8-4838-8d13-7b999aade6b2-824-1-c000.snappy.parquet\nsaving /Volumes/main/dbdemos_iot_turbine/turbine_raw_landing/incoming_data/part-00043-tid-2947338609678659548-efa27e8c-0bc8-4838-8d13-7b999aade6b2-825-1-c000.snappy.parquet\nsaving /Volumes/main/dbdemos_iot_turbine/turbine_raw_landing/incoming_data/part-00044-tid-2947338609678659548-efa27e8c-0bc8-4838-8d13-7b999aade6b2-826-1-c000.snappy.parquet\nsaving /Volumes/main/dbdemos_iot_turbine/turbine_raw_landing/incoming_data/part-00047-tid-2947338609678659548-efa27e8c-0bc8-4838-8d13-7b999aade6b2-829-1-c000.snappy.parquet\nsaving /Volumes/main/dbdemos_iot_turbine/turbine_raw_landing/incoming_data/part-00045-tid-2947338609678659548-efa27e8c-0bc8-4838-8d13-7b999aade6b2-827-1-c000.snappy.parquet\nsaving /Volumes/main/dbdemos_iot_turbine/turbine_raw_landing/incoming_data/part-00046-tid-2947338609678659548-efa27e8c-0bc8-4838-8d13-7b999aade6b2-828-1-c000.snappy.parquet\nsaving /Volumes/main/dbdemos_iot_turbine/turbine_raw_landing/incoming_data/part-00051-tid-2947338609678659548-efa27e8c-0bc8-4838-8d13-7b999aade6b2-833-1-c000.snappy.parquet\nsaving /Volumes/main/dbdemos_iot_turbine/turbine_raw_landing/incoming_data/part-00048-tid-2947338609678659548-efa27e8c-0bc8-4838-8d13-7b999aade6b2-830-1-c000.snappy.parquet\nsaving /Volumes/main/dbdemos_iot_turbine/turbine_raw_landing/incoming_data/part-00049-tid-2947338609678659548-efa27e8c-0bc8-4838-8d13-7b999aade6b2-831-1-c000.snappy.parquet\nsaving /Volumes/main/dbdemos_iot_turbine/turbine_raw_landing/incoming_data/part-00050-tid-2947338609678659548-efa27e8c-0bc8-4838-8d13-7b999aade6b2-832-1-c000.snappy.parquet\nsaving /Volumes/main/dbdemos_iot_turbine/turbine_raw_landing/incoming_data/part-00052-tid-2947338609678659548-efa27e8c-0bc8-4838-8d13-7b999aade6b2-834-1-c000.snappy.parquet\nsaving /Volumes/main/dbdemos_iot_turbine/turbine_raw_landing/incoming_data/part-00053-tid-2947338609678659548-efa27e8c-0bc8-4838-8d13-7b999aade6b2-835-1-c000.snappy.parquet\nsaving /Volumes/main/dbdemos_iot_turbine/turbine_raw_landing/incoming_data/part-00054-tid-2947338609678659548-efa27e8c-0bc8-4838-8d13-7b999aade6b2-836-1-c000.snappy.parquet\nsaving /Volumes/main/dbdemos_iot_turbine/turbine_raw_landing/incoming_data/part-00056-tid-2947338609678659548-efa27e8c-0bc8-4838-8d13-7b999aade6b2-838-1-c000.snappy.parquet\nsaving /Volumes/main/dbdemos_iot_turbine/turbine_raw_landing/incoming_data/part-00055-tid-2947338609678659548-efa27e8c-0bc8-4838-8d13-7b999aade6b2-837-1-c000.snappy.parquet\nsaving /Volumes/main/dbdemos_iot_turbine/turbine_raw_landing/incoming_data/part-00057-tid-2947338609678659548-efa27e8c-0bc8-4838-8d13-7b999aade6b2-839-1-c000.snappy.parquet\nsaving /Volumes/main/dbdemos_iot_turbine/turbine_raw_landing/incoming_data/part-00058-tid-2947338609678659548-efa27e8c-0bc8-4838-8d13-7b999aade6b2-840-1-c000.snappy.parquet\nsaving /Volumes/main/dbdemos_iot_turbine/turbine_raw_landing/incoming_data/part-00059-tid-2947338609678659548-efa27e8c-0bc8-4838-8d13-7b999aade6b2-841-1-c000.snappy.parquet\nsaving /Volumes/main/dbdemos_iot_turbine/turbine_raw_landing/incoming_data/part-00060-tid-2947338609678659548-efa27e8c-0bc8-4838-8d13-7b999aade6b2-842-1-c000.snappy.parquet\nsaving /Volumes/main/dbdemos_iot_turbine/turbine_raw_landing/incoming_data/part-00061-tid-2947338609678659548-efa27e8c-0bc8-4838-8d13-7b999aade6b2-843-1-c000.snappy.parquet\nsaving /Volumes/main/dbdemos_iot_turbine/turbine_raw_landing/incoming_data/part-00062-tid-2947338609678659548-efa27e8c-0bc8-4838-8d13-7b999aade6b2-844-1-c000.snappy.parquet\nsaving /Volumes/main/dbdemos_iot_turbine/turbine_raw_landing/incoming_data/part-00063-tid-2947338609678659548-efa27e8c-0bc8-4838-8d13-7b999aade6b2-845-1-c000.snappy.parquet\nsaving /Volumes/main/dbdemos_iot_turbine/turbine_raw_landing/incoming_data/part-00064-tid-2947338609678659548-efa27e8c-0bc8-4838-8d13-7b999aade6b2-846-1-c000.snappy.parquet\nsaving /Volumes/main/dbdemos_iot_turbine/turbine_raw_landing/incoming_data/part-00065-tid-2947338609678659548-efa27e8c-0bc8-4838-8d13-7b999aade6b2-847-1-c000.snappy.parquet\nsaving /Volumes/main/dbdemos_iot_turbine/turbine_raw_landing/incoming_data/part-00067-tid-2947338609678659548-efa27e8c-0bc8-4838-8d13-7b999aade6b2-849-1-c000.snappy.parquet\nsaving /Volumes/main/dbdemos_iot_turbine/turbine_raw_landing/incoming_data/part-00066-tid-2947338609678659548-efa27e8c-0bc8-4838-8d13-7b999aade6b2-848-1-c000.snappy.parquet\nsaving /Volumes/main/dbdemos_iot_turbine/turbine_raw_landing/incoming_data/part-00068-tid-2947338609678659548-efa27e8c-0bc8-4838-8d13-7b999aade6b2-850-1-c000.snappy.parquet\nsaving /Volumes/main/dbdemos_iot_turbine/turbine_raw_landing/incoming_data/part-00069-tid-2947338609678659548-efa27e8c-0bc8-4838-8d13-7b999aade6b2-851-1-c000.snappy.parquet\nsaving /Volumes/main/dbdemos_iot_turbine/turbine_raw_landing/incoming_data/part-00070-tid-2947338609678659548-efa27e8c-0bc8-4838-8d13-7b999aade6b2-852-1-c000.snappy.parquet\nsaving /Volumes/main/dbdemos_iot_turbine/turbine_raw_landing/incoming_data/part-00071-tid-2947338609678659548-efa27e8c-0bc8-4838-8d13-7b999aade6b2-853-1-c000.snappy.parquet\nsaving /Volumes/main/dbdemos_iot_turbine/turbine_raw_landing/incoming_data/part-00072-tid-2947338609678659548-efa27e8c-0bc8-4838-8d13-7b999aade6b2-854-1-c000.snappy.parquet\nsaving /Volumes/main/dbdemos_iot_turbine/turbine_raw_landing/incoming_data/part-00074-tid-2947338609678659548-efa27e8c-0bc8-4838-8d13-7b999aade6b2-856-1-c000.snappy.parquet\nsaving /Volumes/main/dbdemos_iot_turbine/turbine_raw_landing/incoming_data/part-00075-tid-2947338609678659548-efa27e8c-0bc8-4838-8d13-7b999aade6b2-857-1-c000.snappy.parquet\nsaving /Volumes/main/dbdemos_iot_turbine/turbine_raw_landing/incoming_data/part-00073-tid-2947338609678659548-efa27e8c-0bc8-4838-8d13-7b999aade6b2-855-1-c000.snappy.parquet\nsaving /Volumes/main/dbdemos_iot_turbine/turbine_raw_landing/incoming_data/part-00076-tid-2947338609678659548-efa27e8c-0bc8-4838-8d13-7b999aade6b2-858-1-c000.snappy.parquet\nsaving /Volumes/main/dbdemos_iot_turbine/turbine_raw_landing/incoming_data/part-00077-tid-2947338609678659548-efa27e8c-0bc8-4838-8d13-7b999aade6b2-859-1-c000.snappy.parquet\nsaving /Volumes/main/dbdemos_iot_turbine/turbine_raw_landing/incoming_data/part-00078-tid-2947338609678659548-efa27e8c-0bc8-4838-8d13-7b999aade6b2-860-1-c000.snappy.parquet\nsaving /Volumes/main/dbdemos_iot_turbine/turbine_raw_landing/incoming_data/part-00082-tid-2947338609678659548-efa27e8c-0bc8-4838-8d13-7b999aade6b2-864-1-c000.snappy.parquet\nsaving /Volumes/main/dbdemos_iot_turbine/turbine_raw_landing/incoming_data/part-00079-tid-2947338609678659548-efa27e8c-0bc8-4838-8d13-7b999aade6b2-861-1-c000.snappy.parquet\nsaving /Volumes/main/dbdemos_iot_turbine/turbine_raw_landing/incoming_data/part-00080-tid-2947338609678659548-efa27e8c-0bc8-4838-8d13-7b999aade6b2-862-1-c000.snappy.parquet\nsaving /Volumes/main/dbdemos_iot_turbine/turbine_raw_landing/incoming_data/part-00083-tid-2947338609678659548-efa27e8c-0bc8-4838-8d13-7b999aade6b2-865-1-c000.snappy.parquet\nsaving /Volumes/main/dbdemos_iot_turbine/turbine_raw_landing/incoming_data/part-00081-tid-2947338609678659548-efa27e8c-0bc8-4838-8d13-7b999aade6b2-863-1-c000.snappy.parquet\nsaving /Volumes/main/dbdemos_iot_turbine/turbine_raw_landing/incoming_data/part-00085-tid-2947338609678659548-efa27e8c-0bc8-4838-8d13-7b999aade6b2-867-1-c000.snappy.parquet\nsaving /Volumes/main/dbdemos_iot_turbine/turbine_raw_landing/incoming_data/part-00084-tid-2947338609678659548-efa27e8c-0bc8-4838-8d13-7b999aade6b2-866-1-c000.snappy.parquet\nsaving /Volumes/main/dbdemos_iot_turbine/turbine_raw_landing/incoming_data/part-00086-tid-2947338609678659548-efa27e8c-0bc8-4838-8d13-7b999aade6b2-868-1-c000.snappy.parquet\nsaving /Volumes/main/dbdemos_iot_turbine/turbine_raw_landing/incoming_data/part-00087-tid-2947338609678659548-efa27e8c-0bc8-4838-8d13-7b999aade6b2-869-1-c000.snappy.parquet\nsaving /Volumes/main/dbdemos_iot_turbine/turbine_raw_landing/incoming_data/part-00088-tid-2947338609678659548-efa27e8c-0bc8-4838-8d13-7b999aade6b2-870-1-c000.snappy.parquet\nsaving /Volumes/main/dbdemos_iot_turbine/turbine_raw_landing/incoming_data/part-00091-tid-2947338609678659548-efa27e8c-0bc8-4838-8d13-7b999aade6b2-873-1-c000.snappy.parquet\nsaving /Volumes/main/dbdemos_iot_turbine/turbine_raw_landing/incoming_data/part-00090-tid-2947338609678659548-efa27e8c-0bc8-4838-8d13-7b999aade6b2-872-1-c000.snappy.parquet\nsaving /Volumes/main/dbdemos_iot_turbine/turbine_raw_landing/incoming_data/part-00092-tid-2947338609678659548-efa27e8c-0bc8-4838-8d13-7b999aade6b2-874-1-c000.snappy.parquet\nsaving /Volumes/main/dbdemos_iot_turbine/turbine_raw_landing/incoming_data/part-00089-tid-2947338609678659548-efa27e8c-0bc8-4838-8d13-7b999aade6b2-871-1-c000.snappy.parquet\nsaving /Volumes/main/dbdemos_iot_turbine/turbine_raw_landing/incoming_data/part-00093-tid-2947338609678659548-efa27e8c-0bc8-4838-8d13-7b999aade6b2-875-1-c000.snappy.parquet\nsaving /Volumes/main/dbdemos_iot_turbine/turbine_raw_landing/incoming_data/part-00095-tid-2947338609678659548-efa27e8c-0bc8-4838-8d13-7b999aade6b2-877-1-c000.snappy.parquet\nsaving /Volumes/main/dbdemos_iot_turbine/turbine_raw_landing/incoming_data/part-00094-tid-2947338609678659548-efa27e8c-0bc8-4838-8d13-7b999aade6b2-876-1-c000.snappy.parquet\nsaving /Volumes/main/dbdemos_iot_turbine/turbine_raw_landing/incoming_data/part-00096-tid-2947338609678659548-efa27e8c-0bc8-4838-8d13-7b999aade6b2-878-1-c000.snappy.parquet\nsaving /Volumes/main/dbdemos_iot_turbine/turbine_raw_landing/incoming_data/part-00097-tid-2947338609678659548-efa27e8c-0bc8-4838-8d13-7b999aade6b2-879-1-c000.snappy.parquet\nsaving /Volumes/main/dbdemos_iot_turbine/turbine_raw_landing/incoming_data/part-00098-tid-2947338609678659548-efa27e8c-0bc8-4838-8d13-7b999aade6b2-880-1-c000.snappy.parquet\nsaving /Volumes/main/dbdemos_iot_turbine/turbine_raw_landing/incoming_data/part-00099-tid-2947338609678659548-efa27e8c-0bc8-4838-8d13-7b999aade6b2-881-1-c000.snappy.parquet\nsaving /Volumes/main/dbdemos_iot_turbine/turbine_raw_landing/maintenance_guide/maintenance_guide_SpinTrak_ORS200.pdf\nsaving /Volumes/main/dbdemos_iot_turbine/turbine_raw_landing/maintenance_guide/maintenance_guide_AeroSense_VTX220.pdf\nsaving /Volumes/main/dbdemos_iot_turbine/turbine_raw_landing/maintenance_guide/maintenance_guide_GyroTrak_YD8000.pdf\nsaving /Volumes/main/dbdemos_iot_turbine/turbine_raw_landing/maintenance_guide/maintenance_guide_HydroFlow_HPC620.pdf\nsaving /Volumes/main/dbdemos_iot_turbine/turbine_raw_landing/maintenance_guide/maintenance_guide_ClimaRotor_CFA9000.pdf\nsaving /Volumes/main/dbdemos_iot_turbine/turbine_raw_landing/maintenance_guide/maintenance_guide_PitchMax_HPA220.pdf\nsaving /Volumes/main/dbdemos_iot_turbine/turbine_raw_landing/maintenance_guide/maintenance_guide_DynoTorque_PMA540.pdf\nsaving /Volumes/main/dbdemos_iot_turbine/turbine_raw_landing/maintenance_guide/maintenance_guide_BrakeTech_SBC1300.pdf\nsaving /Volumes/main/dbdemos_iot_turbine/turbine_raw_landing/maintenance_guide/maintenance_guide_CryoBlade_DCM4500.pdf\nsaving /Volumes/main/dbdemos_iot_turbine/turbine_raw_landing/maintenance_guide/maintenance_guide_StormHold_XBR71.pdf\nsaving /Volumes/main/dbdemos_iot_turbine/turbine_raw_landing/maintenance_guide/maintenance_guide_SyncLogic_GSR850.pdf\nsaving /Volumes/main/dbdemos_iot_turbine/turbine_raw_landing/maintenance_guide/maintenance_guide_VibeGuard_TVS950.pdf\nsaving /Volumes/main/dbdemos_iot_turbine/turbine_raw_landing/maintenance_guide/maintenance_guide_VoltBridge_PCM4400.pdf\nsaving /Volumes/main/dbdemos_iot_turbine/turbine_raw_landing/maintenance_guide/maintenance_guide_VoltEdge_CBX880.pdf\nsaving /Volumes/main/dbdemos_iot_turbine/turbine_raw_landing/maintenance_guide/maintenance_guide_VoltForge_IMX3100.pdf\nsaving /Volumes/main/dbdemos_iot_turbine/turbine_raw_landing/maintenance_guide/maintenance_guide_WindCore_ANA750.pdf\nsaving /Volumes/main/dbdemos_iot_turbine/turbine_raw_landing/maintenance_guide/maintenance_guide_WindSync_ControlMaster_X982.pdf\nsaving /Volumes/main/dbdemos_iot_turbine/turbine_raw_landing/maintenance_guide/maintenance_guide_YawSense_ENC310.pdf\n"
     ]
    },
    {
     "output_type": "stream",
     "name": "stdout",
     "output_type": "stream",
     "text": [
      "Model doesn't exist - saving an empty one\nUsing common experiment under /Shared/dbdemos/experiments/lakehouse-iot-platform/predictive_maintenance_mock\n"
     ]
    },
    {
     "output_type": "stream",
     "name": "stderr",
     "output_type": "stream",
     "text": [
      "2025/08/09 15:19:56 INFO mlflow.tracking.fluent: Experiment with name '/Shared/dbdemos/experiments/lakehouse-iot-platform/predictive_maintenance_mock' does not exist. Creating a new experiment.\n"
     ]
    },
    {
     "output_type": "stream",
     "name": "stdout",
     "output_type": "stream",
     "text": [
      "Experiment on /Shared/dbdemos/experiments/lakehouse-iot-platform/predictive_maintenance_mock was set public\n"
     ]
    },
    {
     "output_type": "stream",
     "name": "stderr",
     "output_type": "stream",
     "text": [
      "Successfully registered model 'main.dbdemos_iot_turbine.dbdemos_turbine_maintenance'.\nCreated version '1' of model 'main.dbdemos_iot_turbine.dbdemos_turbine_maintenance'.\nINFO:py4j.clientserver:Closing down clientserver connection\nINFO:py4j.clientserver:Closing down clientserver connection\nINFO:py4j.clientserver:Closing down clientserver connection\nINFO:py4j.clientserver:Closing down clientserver connection\n"
     ]
    },
    {
     "output_type": "display_data",
     "data": {
      "text/markdown": [
       "<img src=\"https://upload.wikimedia.org/wikipedia/commons/5/52/EERE_illust_large_turbine.gif\">"
      ]
     },
     "metadata": {},
     "output_type": "display_data"
    }
   ],
   "source": [
    "%run ./_resources/01-load-data"
   ]
  }
 ],
 "metadata": {
  "application/vnd.databricks.v1+notebook": {
   "computePreferences": null,
   "dashboards": [],
   "environmentMetadata": {
    "environment_version": "2"
   },
   "inputWidgetPreferences": null,
   "language": "sql",
   "notebookMetadata": {
    "pythonIndentUnit": 4
   },
   "notebookName": "00-IOT-wind-turbine-introduction-DI-platform",
   "widgets": {}
  },
  "language_info": {
   "name": "sql"
  }
 },
 "nbformat": 4,
 "nbformat_minor": 0
}
