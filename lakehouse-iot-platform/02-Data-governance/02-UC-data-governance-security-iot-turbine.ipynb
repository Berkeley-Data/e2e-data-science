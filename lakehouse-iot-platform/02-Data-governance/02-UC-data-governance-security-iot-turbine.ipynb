{
 "cells": [
  {
   "cell_type": "markdown",
   "metadata": {
    "application/vnd.databricks.v1+cell": {
     "cellMetadata": {},
     "inputWidgets": {},
     "isMarkdownSandbox": true,
     "nuid": "78c25fdd-c4f5-40d4-be51-bb63bc98d4e9",
     "showTitle": false,
     "tableResultSettingsMap": {},
     "title": ""
    }
   },
   "source": [
    "# Ensuring Governance and security for our IOT platform\n",
    "\n",
    "Data governance and security is hard when it comes to a complete Data Platform. SQL GRANT on tables isn't enough and security must be enforced for multiple data assets (dashboards, Models, files etc).\n",
    "\n",
    "To reduce risks and driving innovation, Emily's team needs to:\n",
    "\n",
    "- Unify all data assets (Tables, Files, ML models, Features, Dashboards, Queries)\n",
    "- Onboard data with multiple teams\n",
    "- Share & monetize assets with external Organizations\n",
    "\n",
    "<style>\n",
    ".box{\n",
    "  box-shadow: 20px -20px #CCC; height:300px; box-shadow:  0 0 10px  rgba(0,0,0,0.3); padding: 5px 10px 0px 10px;}\n",
    ".badge {\n",
    "  clear: left; float: left; height: 30px; width: 30px;  display: table-cell; vertical-align: middle; border-radius: 50%; background: #fcba33ff; text-align: center; color: white; margin-right: 10px}\n",
    ".badge_b { \n",
    "  height: 35px}\n",
    "</style>\n",
    "<link href='https://fonts.googleapis.com/css?family=DM Sans' rel='stylesheet'>\n",
    "<div style=\"padding: 20px; font-family: 'DM Sans'; color: #1b5162\">\n",
    "  <div style=\"width:200px; float: left; text-align: center\">\n",
    "    <div class=\"box\" style=\"\">\n",
    "      <div style=\"font-size: 26px;\">\n",
    "        <strong>Team A</strong>\n",
    "      </div>\n",
    "      <div style=\"font-size: 13px\">\n",
    "        <img src=\"https://raw.githubusercontent.com/databricks-demos/dbdemos-resources/refs/heads/main/images/alice.png\" style=\"\" width=\"60px\"> <br/>\n",
    "        Data Analysts<br/>\n",
    "        <img src=\"https://raw.githubusercontent.com/databricks-demos/dbdemos-resources/refs/heads/main/images/marc.png\" style=\"\" width=\"60px\"> <br/>\n",
    "        Data Scientists<br/>\n",
    "        <img src=\"https://raw.githubusercontent.com/databricks-demos/dbdemos-resources/refs/heads/main/images/john.png\" style=\"\" width=\"60px\"> <br/>\n",
    "        Data Engineers\n",
    "      </div>\n",
    "    </div>\n",
    "    <div class=\"box\" style=\"height: 80px; margin: 20px 0px 50px 0px\">\n",
    "      <div style=\"font-size: 26px;\">\n",
    "        <strong>Team B</strong>\n",
    "      </div>\n",
    "      <div style=\"font-size: 13px\">...</div>\n",
    "    </div>\n",
    "  </div>\n",
    "  <div style=\"float: left; width: 400px; padding: 0px 20px 0px 20px\">\n",
    "    <div style=\"margin: 20px 0px 0px 20px\">Permissions on queries, dashboards</div>\n",
    "    <img src=\"https://github.com/databricks-demos/dbdemos-resources/raw/main/images/horizontal-arrow-dash.png\" style=\"width: 400px\">\n",
    "    <div style=\"margin: 20px 0px 0px 20px\">Permissions on tables, columns, rows</div>\n",
    "    <img src=\"https://github.com/databricks-demos/dbdemos-resources/raw/main/images/horizontal-arrow-dash.png\" style=\"width: 400px\">\n",
    "    <div style=\"margin: 20px 0px 0px 20px\">Permissions on features, ML models, endpoints, notebooks…</div>\n",
    "    <img src=\"https://github.com/databricks-demos/dbdemos-resources/raw/main/images/horizontal-arrow-dash.png\" style=\"width: 400px\">\n",
    "    <div style=\"margin: 20px 0px 0px 20px\">Permissions on files, jobs</div>\n",
    "    <img src=\"https://github.com/databricks-demos/dbdemos-resources/raw/main/images/horizontal-arrow-dash.png\" style=\"width: 400px\">\n",
    "  </div>\n",
    "  \n",
    "  <div class=\"box\" style=\"width:550px; float: left\">\n",
    "    <img src=\"https://raw.githubusercontent.com/databricks-demos/dbdemos-resources/refs/heads/main/images/emily.png\" style=\"float: left; margin-right: 10px;\" width=\"80px\"> \n",
    "    <div style=\"float: left; font-size: 26px; margin-top: 0px; line-height: 17px;\"><strong>Emily</strong> <br />Governance and Security</div>\n",
    "    <div style=\"font-size: 18px; clear: left; padding-top: 10px\">\n",
    "      <ul style=\"line-height: 2px;\">\n",
    "        <li>Central catalog - all data assets</li>\n",
    "        <li>Data exploration & discovery to unlock new use-cases</li>\n",
    "        <li>Permissions cross-teams</li>\n",
    "        <li>Reduce risk with audit logs</li>\n",
    "        <li>Measure impact with lineage</li>\n",
    "      </ul>\n",
    "      + Monetize & Share data with external organization (Delta Sharing)\n",
    "    </div>\n",
    "  </div>\n",
    "  \n",
    "  \n",
    "</div>\n",
    "\n",
    "\n",
    "<!-- Collect usage data (view). Remove it to disable collection. View README for more details.  -->\n",
    "<img width=\"1px\" src=\"https://ppxrzfxige.execute-api.us-west-2.amazonaws.com/v1/analytics?category=lakehouse&org_id=4003492105941350&notebook=%2F02-Data-governance%2F02-UC-data-governance-security-iot-turbine&demo_name=lakehouse-iot-platform&event=VIEW&path=%2F_dbdemos%2Flakehouse%2Flakehouse-iot-platform%2F02-Data-governance%2F02-UC-data-governance-security-iot-turbine&version=1\">"
   ]
  },
  {
   "cell_type": "markdown",
   "metadata": {
    "application/vnd.databricks.v1+cell": {
     "cellMetadata": {},
     "inputWidgets": {},
     "isMarkdownSandbox": true,
     "nuid": "d2f26f67-b146-430b-98fd-aecd6f616960",
     "showTitle": false,
     "tableResultSettingsMap": {},
     "title": ""
    }
   },
   "source": [
    "# Implementing a global data governance and security with Unity Catalog\n",
    "\n",
    "<img style=\"float: right; margin-top: 30px\" width=\"500px\" src=\"https://raw.githubusercontent.com/databricks-demos/dbdemos-resources/refs/heads/main/images/manufacturing/lakehouse-iot-turbine/team_flow_emily.png\" />\n",
    "\n",
    "Let's see how the Lakehouse can solve this challenge leveraging Unity Catalog.\n",
    "\n",
    "Our Data has been saved as Delta Table by our Data Engineering team.  The next step is to secure this data while allowing cross team to access it. <br>\n",
    "A typical setup would be the following:\n",
    "\n",
    "* Data Engineers / Jobs can read and update the main data/schemas (ETL part)\n",
    "* Data Scientists can read the final tables and update their features tables\n",
    "* Data Analyst have READ access to the Data Engineering and Feature Tables and can ingest/transform additional data in a separate schema.\n",
    "* Data is masked/anonymized dynamically based on each user access level\n",
    "\n",
    "This is made possible by Unity Catalog. When tables are saved in the Unity Catalog, they can be made accessible to the entire organization, cross-workpsaces and cross users.\n",
    "\n",
    "Unity Catalog is key for data governance, including creating data products or organazing teams around datamesh. It brings among other:\n",
    "\n",
    "* Fined grained ACL\n",
    "* Audit log\n",
    "* Data lineage\n",
    "* Data exploration & discovery\n",
    "* Sharing data with external organization (Delta Sharing)\n",
    "\n",
    "\n",
    "<!-- Collect usage data (view). Remove it to disable collection. View README for more details.  -->\n",
    "<img width=\"1px\" src=\"https://ppxrzfxige.execute-api.us-west-2.amazonaws.com/v1/analytics?category=lakehouse&org_id=4003492105941350&notebook=%2F02-Data-governance%2F02-UC-data-governance-security-iot-turbine&demo_name=lakehouse-iot-platform&event=VIEW&path=%2F_dbdemos%2Flakehouse%2Flakehouse-iot-platform%2F02-Data-governance%2F02-UC-data-governance-security-iot-turbine&version=1\">"
   ]
  },
  {
   "cell_type": "markdown",
   "metadata": {
    "application/vnd.databricks.v1+cell": {
     "cellMetadata": {},
     "inputWidgets": {},
     "isMarkdownSandbox": true,
     "nuid": "a20fab20-c3e8-48cc-ae9b-43d79b952f29",
     "showTitle": false,
     "tableResultSettingsMap": {},
     "title": ""
    }
   },
   "source": [
    "## Cluster setup for UC\n",
    "\n",
    "<img src=\"https://github.com/QuentinAmbard/databricks-demo/raw/main/product_demos/uc/uc-cluster-setup-single-user.png\" style=\"float: right; margin-left: 10px\"/>\n",
    "\n",
    "To be able to run this demo, make sure you create a cluster with the security mode enabled & Unity Catalog enabled at the account level (see [documentation](https://docs.databricks.com/data-governance/unity-catalog/get-started.html))\n",
    "\n",
    "In the compute page, make sure you select \"Single User\" and your UC-user (the user needs to exist at the workspace and the account level)\n",
    "\n",
    "If you're using the cluster created by `dbdemos`, you're all good."
   ]
  },
  {
   "cell_type": "code",
   "execution_count": 0,
   "metadata": {
    "application/vnd.databricks.v1+cell": {
     "cellMetadata": {},
     "inputWidgets": {},
     "nuid": "e024fedc-b13a-4930-b21e-acd858580a60",
     "showTitle": false,
     "tableResultSettingsMap": {},
     "title": ""
    },
    "jupyter": {
     "outputs_hidden": true
    }
   },
   "outputs": [],
   "source": [
    "%run ../_resources/00-setup $reset_all_data=false"
   ]
  },
  {
   "cell_type": "markdown",
   "metadata": {
    "application/vnd.databricks.v1+cell": {
     "cellMetadata": {},
     "inputWidgets": {},
     "isMarkdownSandbox": true,
     "nuid": "65d25660-c221-44fc-b9ad-f5e6b7084c83",
     "showTitle": false,
     "tableResultSettingsMap": {},
     "title": ""
    }
   },
   "source": [
    "## Exploring our Iot Platform database\n",
    "\n",
    "<img src=\"https://github.com/QuentinAmbard/databricks-demo/raw/main/product_demos/uc/uc-base-1.png\" style=\"float: right\" width=\"800px\"/> \n",
    "\n",
    "Let's review the data created.\n",
    "\n",
    "Unity Catalog works with 3 layers:\n",
    "\n",
    "* CATALOG\n",
    "* SCHEMA (or DATABASE)\n",
    "* TABLE\n",
    "\n",
    "All unity catalog is available with SQL (`CREATE CATALOG IF NOT EXISTS my_catalog` ...)\n",
    "\n",
    "To access one table, you can specify the full path: `SELECT * FROM &lt;CATALOG&gt;.&lt;SCHEMA&gt;.&lt;TABLE&gt;`"
   ]
  },
  {
   "cell_type": "code",
   "execution_count": 0,
   "metadata": {
    "application/vnd.databricks.v1+cell": {
     "cellMetadata": {},
     "inputWidgets": {},
     "nuid": "54d9da76-98c4-419b-a282-b0c90135be95",
     "showTitle": false,
     "tableResultSettingsMap": {},
     "title": ""
    }
   },
   "outputs": [],
   "source": [
    "-- the catalog has been created for your user and is defined as default. \n",
    "-- make sure you run the 00-setup cell above to init the catalog to your user. \n",
    "SELECT CURRENT_CATALOG();"
   ]
  },
  {
   "cell_type": "markdown",
   "metadata": {
    "application/vnd.databricks.v1+cell": {
     "cellMetadata": {},
     "inputWidgets": {},
     "isMarkdownSandbox": true,
     "nuid": "e884c365-0762-4b4d-a61f-c61c0e132e58",
     "showTitle": false,
     "tableResultSettingsMap": {},
     "title": ""
    }
   },
   "source": [
    "\n",
    "## Let's review the tables we created under our schema\n",
    "\n",
    "<img src=\"https://raw.githubusercontent.com/QuentinAmbard/databricks-demo/main/retail/resources/images/lakehouse-retail/lakehouse-retail-churn-data-explorer.gif\" style=\"float: right\" width=\"800px\"/> \n",
    "\n",
    "Unity Catalog provides a comprehensive Data Explorer that you can access on the left menu.\n",
    "\n",
    "**Open it and navigate under `dbdemos`.`lakehouse_iot` to review the tables created.**\n",
    "\n",
    "You'll find all the options for your data management and governance: review the tables created, add new one, share them with Delta Sharing...\n",
    "\n",
    "**You'll also be able to explore data and GRANT permissions to your users directly using the UI**\n",
    "\n",
    "\n",
    "### Discoverability \n",
    "\n",
    "In addition, Unity catalog also provides explorability and discoverability. \n",
    "\n",
    "Anyone having access to the tables will be able to search it and analyze its main usage. <br>\n",
    "You can use the Search menu (⌘ + P) to navigate in your data assets (tables, notebooks, queries...)"
   ]
  },
  {
   "cell_type": "code",
   "execution_count": 0,
   "metadata": {
    "application/vnd.databricks.v1+cell": {
     "cellMetadata": {},
     "inputWidgets": {},
     "nuid": "e239cd07-7c14-4062-ab65-1d7495f01686",
     "showTitle": true,
     "tableResultSettingsMap": {},
     "title": "As you can see, our tables are available under our catalog."
    }
   },
   "outputs": [],
   "source": [
    "SHOW TABLES;"
   ]
  },
  {
   "cell_type": "code",
   "execution_count": 0,
   "metadata": {
    "application/vnd.databricks.v1+cell": {
     "cellMetadata": {},
     "inputWidgets": {},
     "nuid": "771667f1-7495-4a3a-835e-77593a262ec3",
     "showTitle": true,
     "tableResultSettingsMap": {},
     "title": "Granting access to Analysts & Data Engineers:"
    }
   },
   "outputs": [],
   "source": [
    "-- Let's grant our ANALYSTS a SELECT permission:\n",
    "-- Note: make sure you created an analysts and dataengineers group first.\n",
    "GRANT SELECT ON TABLE main.dbdemos_iot_turbine.sensor_bronze TO `analysts`;\n",
    "GRANT SELECT ON TABLE main.dbdemos_iot_turbine.sensor_hourly TO `analysts`;\n",
    "GRANT SELECT ON TABLE main.dbdemos_iot_turbine.historical_turbine_status TO `analysts`;\n",
    "\n",
    "-- We'll grant an extra MODIFY to our Data Engineer\n",
    "GRANT SELECT, MODIFY ON SCHEMA main.dbdemos_iot_turbine TO `dataengineers`;"
   ]
  },
  {
   "cell_type": "code",
   "execution_count": 0,
   "metadata": {
    "application/vnd.databricks.v1+cell": {
     "cellMetadata": {},
     "inputWidgets": {},
     "nuid": "786eafec-6cd8-44c6-bc09-a101be58a8e5",
     "showTitle": true,
     "tableResultSettingsMap": {},
     "title": "Review grant"
    }
   },
   "outputs": [],
   "source": [
    "SHOW GRANT ON turbine"
   ]
  },
  {
   "cell_type": "markdown",
   "metadata": {
    "application/vnd.databricks.v1+cell": {
     "cellMetadata": {},
     "inputWidgets": {},
     "nuid": "1e799068-8e16-4cae-bb5d-a95feef34734",
     "showTitle": false,
     "tableResultSettingsMap": {},
     "title": ""
    }
   },
   "source": [
    "\n",
    "## Dynamically filtering data base on current user, row and column-level filtering\n",
    "\n",
    "Let's see how Unity Catalog can be used to filter data and return different results based on who is querying it.\n",
    "\n",
    "Let's pretend we're based in Chicago, and we want the `parts` table to only return the parts available in the Chicago location as this is where we operate.\n",
    "\n",
    "We'll add a new table doing a matching between users and the parts locations *(Note: this could also be done with groups)*.\n",
    "\n",
    "You'll be based in Chicago, John in Honolulu and Lea in Denvers:"
   ]
  },
  {
   "cell_type": "code",
   "execution_count": 0,
   "metadata": {
    "application/vnd.databricks.v1+cell": {
     "cellMetadata": {},
     "inputWidgets": {},
     "nuid": "6ad9909e-69d6-4d2d-9bbc-dd9b73f25252",
     "showTitle": false,
     "tableResultSettingsMap": {},
     "title": ""
    }
   },
   "outputs": [],
   "source": [
    "-- create the table matchying the users and the country/location\n",
    "CREATE OR REPLACE TABLE parts_users_country_permission (email STRING, country STRING);\n",
    "\n",
    "INSERT INTO parts_users_country_permission (email, country)\n",
    "  VALUES \n",
    "    (current_user(), 'America/Chicago'),\n",
    "    ('john@mycompany.com', 'America/Honolulu'),\n",
    "    ('lea@mycompany.com', 'America/Denver');"
   ]
  },
  {
   "cell_type": "code",
   "execution_count": 0,
   "metadata": {
    "application/vnd.databricks.v1+cell": {
     "cellMetadata": {},
     "inputWidgets": {},
     "nuid": "40b23bb2-5596-48b2-be18-2a14d87ad433",
     "showTitle": true,
     "tableResultSettingsMap": {},
     "title": "Let's create and try our new protected view"
    }
   },
   "outputs": [],
   "source": [
    "CREATE OR REPLACE VIEW parts_secured AS\n",
    "SELECT\n",
    "  CASE \n",
    "    WHEN is_account_group_member('iot_admin') THEN EAN  -- allow admin to see all\n",
    "    ELSE '***' -- filter other users, they won't be able to see the EAN\n",
    "  END as EAN,\n",
    "  p.* EXCEPT (EAN)\n",
    "FROM parts p \n",
    "INNER JOIN parts_users_country_permission u -- Get the country/location permission table\n",
    "  ON p.stock_location = u.country \n",
    "  AND (u.email = current_user() OR is_account_group_member('iot_admin')); --Filter based on the current user, admin also have all permission\n",
    "\n",
    "\n",
    "-- Let's test our secured view. We'll only see the 'America/Chicago' parts, and the EAN will be filtered.\n",
    "SELECT * FROM parts_secured;"
   ]
  },
  {
   "cell_type": "markdown",
   "metadata": {
    "application/vnd.databricks.v1+cell": {
     "cellMetadata": {},
     "inputWidgets": {},
     "nuid": "8103eef8-3188-455c-ac64-b63eacabe33c",
     "showTitle": false,
     "tableResultSettingsMap": {},
     "title": ""
    }
   },
   "source": [
    "\n",
    "## Sharing data with external organization\n",
    "\n",
    "We've seen how to GRANT access to our tables internally (to any entity within your Databricks account)\n",
    "\n",
    "However, this might not be enough. You'll have to share this data with external organizations (for data monetization, partners etc). \n",
    "\n",
    "The Lakehouse provides this capability while being agnostic about your partners data stack / cloud.\n",
    "\n",
    "This is powered by [Delta Sharing](https://www.databricks.com/en/product/delta-sharing), an open protocol creating open standard and data normalization across industries.\n",
    "\n",
    "For a full example on Delta Sharing, run: `dbdemos.intall('delta-sharing-airlines')`"
   ]
  },
  {
   "cell_type": "markdown",
   "metadata": {
    "application/vnd.databricks.v1+cell": {
     "cellMetadata": {},
     "inputWidgets": {},
     "isMarkdownSandbox": true,
     "nuid": "c1e04163-9790-4ec5-86c1-2ac3935eff84",
     "showTitle": false,
     "tableResultSettingsMap": {},
     "title": ""
    }
   },
   "source": [
    "\n",
    "## Going further with Data governance & security\n",
    "\n",
    "By bringing all your data assets together, Unity Catalog let you build a complete and simple governance to help you scale your teams.\n",
    "\n",
    "Unity Catalog can be leveraged from simple GRANT to building a complete datamesh organization.\n",
    "\n",
    "<img src=\"https://github.com/QuentinAmbard/databricks-demo/raw/main/product_demos/uc/lineage/lineage-table.gif\" style=\"float: right; margin-left: 10px\"/>\n",
    "\n",
    "### Fine-grained ACL\n",
    "\n",
    "Need more advanced control? You can chose to dynamically change your table output based on the user permissions: `dbdemos.intall('uc-01-acl')`\n",
    "\n",
    "### Secure external location (S3/ADLS/GCS)\n",
    "\n",
    "Unity Catatalog let you secure your managed table but also your external locations:  `dbdemos.intall('uc-02-external-location')`\n",
    "\n",
    "### Lineage \n",
    "\n",
    "UC automatically captures table dependencies and let you track how your data is used, including at a row level: `dbdemos.intall('uc-03-data-lineage')`\n",
    "\n",
    "This leat you analyze downstream impact, or monitor sensitive information across the entire organization (GDPR).\n",
    "\n",
    "\n",
    "### Audit log\n",
    "\n",
    "UC captures all events. Need to know who is accessing which data? Query your audit log:  `dbdemos.intall('uc-04-audit-log')`\n",
    "\n",
    "This leat you analyze downstream impact, or monitor sensitive information across the entire organization (GDPR).\n",
    "\n",
    "### Upgrading to UC\n",
    "\n",
    "Already using Databricks without UC? Upgrading your tables to benefit from Unity Catalog is simple:  `dbdemos.intall('uc-05-upgrade')`"
   ]
  },
  {
   "cell_type": "markdown",
   "metadata": {
    "application/vnd.databricks.v1+cell": {
     "cellMetadata": {},
     "inputWidgets": {},
     "nuid": "945e83b6-7aa9-4b8d-883e-2f7124bc399a",
     "showTitle": false,
     "tableResultSettingsMap": {},
     "title": ""
    }
   },
   "source": [
    "# Next: Start building analysis with Databricks SQL\n",
    "\n",
    "Now that these tables are available in our Lakehouse and secured, let's see how our Data Analyst team can start leveraging them to run BI workloads\n",
    "\n",
    "Jump to the [BI / Data warehousing notebook]($../03-BI-data-warehousing/03-BI-Datawarehousing-iot-turbine) or [Go back to the introduction]($../00-IOT-wind-turbine-introduction-lakehouse)"
   ]
  }
 ],
 "metadata": {
  "application/vnd.databricks.v1+notebook": {
   "computePreferences": null,
   "dashboards": [],
   "environmentMetadata": {
    "environment_version": "2"
   },
   "inputWidgetPreferences": null,
   "language": "sql",
   "notebookMetadata": {},
   "notebookName": "02-UC-data-governance-security-iot-turbine",
   "widgets": {}
  },
  "language_info": {
   "name": "sql"
  }
 },
 "nbformat": 4,
 "nbformat_minor": 0
}
