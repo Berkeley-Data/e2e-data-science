{
 "cells": [
  {
   "cell_type": "markdown",
   "metadata": {
    "application/vnd.databricks.v1+cell": {
     "cellMetadata": {},
     "inputWidgets": {},
     "nuid": "ded849b3-28c2-4b03-a540-85315b9c3b35",
     "showTitle": false,
     "tableResultSettingsMap": {},
     "title": ""
    }
   },
   "source": [
    "%md\n",
    "&nbsp;\n",
    "&nbsp;\n",
    "![](../_resources/images/e2eai-3.jpg)"
   ]
  },
  {
   "cell_type": "markdown",
   "metadata": {
    "application/vnd.databricks.v1+cell": {
     "cellMetadata": {},
     "inputWidgets": {},
     "isMarkdownSandbox": true,
     "nuid": "87b4c5fc-3466-42e0-b969-1453fe5b61bb",
     "showTitle": false,
     "tableResultSettingsMap": {},
     "title": ""
    }
   },
   "source": [
    "\n",
    "# Your Lakehouse is the best Warehouse\n",
    "\n",
    "Traditional Data Warehouses can’t keep up with the variety of data and use cases. Business agility requires reliable, real-time data, with insight from ML models.\n",
    "\n",
    "Working with the lakehouse unlock traditional BI analysis but also real time applications having a direct connection to your entire data, while remaining fully secured.\n",
    "\n",
    "<br>\n",
    "\n",
    "<img src=\"https://github.com/databricks-demos/dbdemos-resources/raw/main/images/dbsql.png\" width=\"700px\" style=\"float: left\" />\n",
    "\n",
    "<div style=\"float: left; margin-top: 50px; font-size: 20px\">\n",
    "  Instant, elastic compute<br>\n",
    "  Lower TCO with Serveless<br>\n",
    "  Zero management<br>\n",
    "\n",
    "  Your data. Your schema (star, data vault…)\n",
    "</div>\n",
    "\n",
    "\n",
    "<!-- Collect usage data (view). Remove it to disable collection. View README for more details.  -->\n",
    "<img width=\"1px\" src=\"https://ppxrzfxige.execute-api.us-west-2.amazonaws.com/v1/analytics?category=lakehouse&org_id=4003492105941350&notebook=%2F03-BI-data-warehousing%2F03-BI-Datawarehousing-iot-turbine&demo_name=lakehouse-iot-platform&event=VIEW&path=%2F_dbdemos%2Flakehouse%2Flakehouse-iot-platform%2F03-BI-data-warehousing%2F03-BI-Datawarehousing-iot-turbine&version=1\">"
   ]
  },
  {
   "cell_type": "markdown",
   "metadata": {
    "application/vnd.databricks.v1+cell": {
     "cellMetadata": {},
     "inputWidgets": {},
     "isMarkdownSandbox": true,
     "nuid": "08b3914c-a56f-494d-81f1-efe2c1e74609",
     "showTitle": false,
     "tableResultSettingsMap": {},
     "title": ""
    }
   },
   "source": [
    "# BI & Datawarehousing with Databricks SQL\n",
    "\n",
    "<img style=\"float: right; margin-top: 10px\" width=\"500px\" src=\"https://raw.githubusercontent.com/databricks-demos/dbdemos-resources/refs/heads/main/images/manufacturing/lakehouse-iot-turbine/team_flow_alice.png\" />\n",
    "\n",
    "Our datasets are now properly ingested, secured, with a high quality and easily discoverable within our organization.\n",
    "\n",
    "Let's explore how Databricks SQL support your Data Analyst team with interactive BI and start analyzing our sensor informations.\n",
    "\n",
    "To start with Databricks SQL, open the SQL view on the top left menu.\n",
    "\n",
    "You'll be able to:\n",
    "\n",
    "- Create a SQL Warehouse to run your queries\n",
    "- Use DBSQL to build your own dashboards\n",
    "- Plug any BI tools (Tableau/PowerBI/..) to run your analysis\n",
    "\n",
    "<!-- Collect usage data (view). Remove it to disable collection. View README for more details.  -->\n",
    "<img width=\"1px\" src=\"https://ppxrzfxige.execute-api.us-west-2.amazonaws.com/v1/analytics?category=lakehouse&org_id=4003492105941350&notebook=%2F03-BI-data-warehousing%2F03-BI-Datawarehousing-iot-turbine&demo_name=lakehouse-iot-platform&event=VIEW&path=%2F_dbdemos%2Flakehouse%2Flakehouse-iot-platform%2F03-BI-data-warehousing%2F03-BI-Datawarehousing-iot-turbine&version=1\">"
   ]
  },
  {
   "cell_type": "markdown",
   "metadata": {
    "application/vnd.databricks.v1+cell": {
     "cellMetadata": {},
     "inputWidgets": {},
     "isMarkdownSandbox": true,
     "nuid": "114cf687-17a0-4838-beae-570e0dc59ced",
     "showTitle": false,
     "tableResultSettingsMap": {},
     "title": ""
    }
   },
   "source": [
    "## Databricks SQL Warehouses: best-in-class BI engine\n",
    "\n",
    "<img style=\"float: right; margin-left: 10px\" width=\"600px\" src=\"https://www.databricks.com/wp-content/uploads/2022/06/how-does-it-work-image-5.svg\" />\n",
    "\n",
    "Databricks SQL is a warehouse engine packed with thousands of optimizations to provide you with the best performance for all your tools, query types and real-world applications. <a href='https://www.databricks.com/blog/2021/11/02/databricks-sets-official-data-warehousing-performance-record.html'>It won the Data Warehousing Performance Record.</a>\n",
    "\n",
    "This includes the next-generation vectorized query engine Photon, which together with SQL warehouses, provides up to 12x better price/performance than other cloud data warehouses.\n",
    "\n",
    "**Serverless warehouse** provide instant, elastic SQL compute — decoupled from storage — and will automatically scale to provide unlimited concurrency without disruption, for high concurrency use cases.\n",
    "\n",
    "Make no compromise. Your best Datawarehouse is a Lakehouse.\n",
    "\n",
    "### Creating a SQL Warehouse\n",
    "\n",
    "SQL Warehouse are managed by databricks. [Creating a warehouse](/sql/warehouses) is a 1-click step: "
   ]
  },
  {
   "cell_type": "markdown",
   "metadata": {
    "application/vnd.databricks.v1+cell": {
     "cellMetadata": {},
     "inputWidgets": {},
     "isMarkdownSandbox": true,
     "nuid": "d78780b2-acf1-4c12-b422-edfc31b36de2",
     "showTitle": false,
     "tableResultSettingsMap": {},
     "title": ""
    }
   },
   "source": [
    "\n",
    "## Creating your first Query\n",
    "\n",
    "<img style=\"float: right; margin-left: 10px\" width=\"600px\" src=\"https://raw.githubusercontent.com/QuentinAmbard/databricks-demo/main/retail/resources/images/lakehouse-retail/lakehouse-retail-dbsql-query.png\" />\n",
    "\n",
    "Our users can now start running SQL queries using the SQL editor and add new visualizations.\n",
    "\n",
    "By leveraging auto-completion and the schema browser, we can start running adhoc queries on top of our data.\n",
    "\n",
    "While this is ideal for Data Analyst to start analysing our customer Churn, other personas can also leverage DBSQL to track our data ingestion pipeline, the data quality, model behavior etc.\n",
    "\n",
    "Open the [Queries menu](/sql/queries) to start writting your first analysis."
   ]
  },
  {
   "cell_type": "markdown",
   "metadata": {
    "application/vnd.databricks.v1+cell": {
     "cellMetadata": {},
     "inputWidgets": {},
     "nuid": "545b9936-d40c-4b7a-b955-ff74043f57b4",
     "showTitle": false,
     "tableResultSettingsMap": {},
     "title": ""
    }
   },
   "source": [
    "## AI/BI Genie Spaces\n",
    "\n",
    "AI/BI Genie is a built-in feature of Databricks that allows business teams to interact with their data using natural language.  It uses generative AI tailored to your organization's terminology and data with the ability to monitor and refine its performance through user feedback.\n",
    "\n",
    "<img src=\"../_resources/images/genie-space.gif\">\n",
    "\n",
    "To get started, select `Genie` from the left menu under SQL and ask some wind turbine related questions.  Genie is based on the data registered in Unity Catalog and uses the names and descriptions of your data assests to generate queries and answer questions.  You can improve it my adding sample queries and improving the descriptions of your tables, views, columns in your tables, etc. "
   ]
  },
  {
   "cell_type": "markdown",
   "metadata": {
    "application/vnd.databricks.v1+cell": {
     "cellMetadata": {},
     "inputWidgets": {},
     "isMarkdownSandbox": true,
     "nuid": "23e06c7a-d854-42cb-a82c-92d85fc076f4",
     "showTitle": false,
     "tableResultSettingsMap": {},
     "title": ""
    }
   },
   "source": [
    "\n",
    "## Creating our Wind Turbine farm Dashboards\n",
    "\n",
    "<img style=\"float: right; margin-left: 10px\" width=\"600px\" src=\"https://github.com/databricks-demos/dbdemos-resources/raw/main/images/manufacturing/lakehouse-iot-turbine/lakehouse-manuf-iot-dashboard-1.png\" />\n",
    "\n",
    "The next step is now to assemble our queries and their visualization in a comprehensive SQL dashboard that our business will be able to track.\n",
    "\n",
    "Two dashboards have been loaded for you. Open `Turbine analysis` in the `_dashboards` folder in this repo to start reviewing our Wind Turbine Farm stats.  If you may need to review the data tab of the dashboard and set the correct catalog and schema for the queries running the dashboard to work correctly.\n",
    "\n",
    "## AI/BI Genie in Dashbaords &#x1f9de;\n",
    "\n",
    "Once your dashboard is ready to publish, you can include an automatic chat with your data agent for the data represented in your dashboard.  Follow the steps [here](https://docs.databricks.com/aws/en/dashboards/#enable-a-genie-space-from-your-dashboard) to enable Genie on your dashboard."
   ]
  },
  {
   "cell_type": "markdown",
   "metadata": {
    "application/vnd.databricks.v1+cell": {
     "cellMetadata": {},
     "inputWidgets": {},
     "isMarkdownSandbox": true,
     "nuid": "1eed25c9-e21f-4a4f-b408-b697b8529181",
     "showTitle": false,
     "tableResultSettingsMap": {},
     "title": ""
    }
   },
   "source": [
    "\n",
    "## Using Third party BI tools\n",
    "\n",
    "<iframe style=\"float: right\" width=\"560\" height=\"315\" src=\"https://www.youtube.com/embed/EcKqQV0rCnQ\" title=\"YouTube video player\" frameborder=\"0\" allow=\"accelerometer; autoplay; clipboard-write; encrypted-media; gyroscope; picture-in-picture\" allowfullscreen></iframe>\n",
    "\n",
    "SQL warehouse can also be used with an external BI tool such as Tableau or PowerBI.\n",
    "\n",
    "This will allow you to run direct queries on top of your table, with a unified security model and Unity Catalog (ex: through SSO). Now analysts can use their favorite tools to discover new business insights on the most complete and freshest data.\n",
    "\n",
    "To start using your Warehouse with third party BI tool, click on \"Partner Connect\" on the bottom left and chose your provider."
   ]
  },
  {
   "cell_type": "markdown",
   "metadata": {
    "application/vnd.databricks.v1+cell": {
     "cellMetadata": {},
     "inputWidgets": {},
     "isMarkdownSandbox": true,
     "nuid": "68199738-eac9-4c27-835e-7311964919d5",
     "showTitle": false,
     "tableResultSettingsMap": {},
     "title": ""
    }
   },
   "source": [
    "## Going further with DBSQL & Databricks Warehouse\n",
    "\n",
    "Databricks SQL offers much more and provides a full warehouse capabilities\n",
    "\n",
    "<img style=\"float: right\" width=\"400px\" src=\"https://raw.githubusercontent.com/QuentinAmbard/databricks-demo/main/retail/resources/images/lakehouse-retail/lakehouse-retail-dbsql-pk-fk.png\" />\n",
    "\n",
    "### Data modeling\n",
    "\n",
    "Comprehensive data modeling. Save your data based on your requirements: Data vault, Star schema, Inmon...\n",
    "\n",
    "Databricks let you create your PK/FK, identity columns (auto-increment): `dbdemos.install('identity-pk-fk')`\n",
    "\n",
    "### Data ingestion made easy with DBSQL & DBT\n",
    "\n",
    "Turnkey capabilities allow analysts and analytic engineers to easily ingest data from anything like cloud storage to enterprise applications such as Salesforce, Google Analytics, or Marketo using Fivetran. It’s just one click away. \n",
    "\n",
    "Then, simply manage dependencies and transform data in-place with built-in ETL capabilities on the Data Intelligence Platform (Delta Live Table), or using your favorite tools like dbt on Databricks SQL for best-in-class performance.\n",
    "\n",
    "### Query federation\n",
    "\n",
    "Need to access cross-system data? Databricks SQL query federation let you define datasources outside of databricks (ex: PostgreSQL)\n",
    "\n",
    "### Materialized view\n",
    "\n",
    "Avoid expensive queries and materialize your tables. The engine will recompute only what's required when your data get updated. "
   ]
  },
  {
   "cell_type": "markdown",
   "metadata": {
    "application/vnd.databricks.v1+cell": {
     "cellMetadata": {},
     "inputWidgets": {},
     "nuid": "a383f45f-4bd4-42a9-9646-b5fcfd623694",
     "showTitle": false,
     "tableResultSettingsMap": {},
     "title": ""
    }
   },
   "source": [
    "\n",
    "# Taking our analysis one step further: Predicting Maintenance\n",
    "\n",
    "Being able to run analysis on our past data already gives us a lot of insight. We can better understand how various wind turbines are performing.\n",
    "\n",
    "We now need to take it to the next level and build a predictive model to predict which turbine sensors are likely to fail and will require maintenance.\n",
    "\n",
    "Let's see how this can be done with [Databricks Machine Learning notebook]($../04-Data-Science-ML/04.1-automl-iot-turbine-predictive-maintenance)"
   ]
  }
 ],
 "metadata": {
  "application/vnd.databricks.v1+notebook": {
   "computePreferences": null,
   "dashboards": [],
   "environmentMetadata": {
    "environment_version": "2"
   },
   "inputWidgetPreferences": null,
   "language": "sql",
   "notebookMetadata": {
    "pythonIndentUnit": 4
   },
   "notebookName": "03-BI-Datawarehousing-iot-turbine",
   "widgets": {}
  },
  "language_info": {
   "name": "sql"
  }
 },
 "nbformat": 4,
 "nbformat_minor": 0
}
