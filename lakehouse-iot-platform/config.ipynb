{
 "cells": [
  {
   "cell_type": "markdown",
   "metadata": {
    "application/vnd.databricks.v1+cell": {
     "cellMetadata": {},
     "inputWidgets": {},
     "nuid": "78d278ff-7cdb-4917-be5a-66349d4b02a1",
     "showTitle": false,
     "tableResultSettingsMap": {},
     "title": ""
    }
   },
   "source": [
    "## Configuration file\n",
    "\n",
    "Please change your catalog and schema here to run the demo on a different catalog.\n",
    "\n",
    " \n",
    "<!-- Collect usage data (view). Remove it to disable collection. View README for more details.  -->\n",
    "<img width=\"1px\" src=\"https://ppxrzfxige.execute-api.us-west-2.amazonaws.com/v1/analytics?category=lakehouse&org_id=4003492105941350&notebook=%2Fconfig&demo_name=lakehouse-iot-platform&event=VIEW&path=%2F_dbdemos%2Flakehouse%2Flakehouse-iot-platform%2Fconfig&version=1\">"
   ]
  },
  {
   "cell_type": "code",
   "execution_count": 0,
   "metadata": {
    "application/vnd.databricks.v1+cell": {
     "cellMetadata": {},
     "inputWidgets": {},
     "nuid": "9ff0c88e-24aa-4529-aec1-89c444176e4d",
     "showTitle": false,
     "tableResultSettingsMap": {},
     "title": ""
    }
   },
   "outputs": [],
   "source": [
    "catalog = \"main\"\n",
    "schema = dbName = db = \"e2eai_iot_turbine\"\n",
    "\n",
    "secret_scope_name = \"e2eai\"\n",
    "secret_key_name = \"ai_agent_sp_token\"\n",
    "\n",
    "MODEL_SERVING_ENDPOINT_NAME   = \"e2eai_iot_turbine_prediction_endpoint\"\n",
    "VECTOR_SEARCH_ENDPOINT_NAME   = \"e2eai_vs_endpoint\"\n",
    "FEATURE_SERVING_ENDPOINT_NAME = \"e2eai_iot_turbine_feature_endpoint\"\n",
    "\n",
    "volume_name = \"e2eai_turbine_raw_landing\"\n",
    "model_name = \"e2eai_turbine_maintenance\"\n",
    "agent_name = \"e2eai_agent_prescriptive_maintenance\""
   ]
  }
 ],
 "metadata": {
  "application/vnd.databricks.v1+notebook": {
   "computePreferences": null,
   "dashboards": [],
   "environmentMetadata": {
    "environment_version": "2"
   },
   "inputWidgetPreferences": null,
   "language": "python",
   "notebookMetadata": {
    "pythonIndentUnit": 4
   },
   "notebookName": "config",
   "widgets": {}
  },
  "language_info": {
   "name": "python"
  }
 },
 "nbformat": 4,
 "nbformat_minor": 0
}
