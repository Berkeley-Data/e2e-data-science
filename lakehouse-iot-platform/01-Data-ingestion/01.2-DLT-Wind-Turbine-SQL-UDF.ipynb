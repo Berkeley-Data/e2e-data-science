{
 "cells": [
  {
   "cell_type": "code",
   "execution_count": 0,
   "metadata": {
    "application/vnd.databricks.v1+cell": {
     "cellMetadata": {},
     "inputWidgets": {},
     "nuid": "06a9f259-6745-43b5-a587-e978e38abedb",
     "showTitle": true,
     "tableResultSettingsMap": {},
     "title": "Let's install mlflow to load our model"
    }
   },
   "outputs": [],
   "source": [
    "# %pip install mlflow==2.22.0\n",
    "# %pip install azure-core azure-storage-file-datalake #for the display() in Azure only\n",
    "# dbutils.library.restartPython()"
   ]
  },
  {
   "cell_type": "markdown",
   "metadata": {
    "application/vnd.databricks.v1+cell": {
     "cellMetadata": {},
     "inputWidgets": {},
     "nuid": "78def182-e646-4199-8cce-3b539630083b",
     "showTitle": false,
     "tableResultSettingsMap": {},
     "title": ""
    }
   },
   "source": [
    "#Registering python UDF to a SQL function\n",
    "This is a companion notebook to load the wind turbine prediction model as a spark udf and save it as a SQL function\n",
    " \n",
    "Make sure you add this notebook in your DLT job to have access to the `get_turbine_status` function. (Currently mixing python in a SQL DLT notebook won't run the python)\n",
    "\n",
    "\n",
    "<!-- Collect usage data (view). Remove it to disable collection. View README for more details.  -->\n",
    "<img width=\"1px\" src=\"https://ppxrzfxige.execute-api.us-west-2.amazonaws.com/v1/analytics?category=lakehouse&org_id=4003492105941350&notebook=%2F01-Data-ingestion%2F01.2-DLT-Wind-Turbine-SQL-UDF&demo_name=lakehouse-iot-platform&event=VIEW&path=%2F_dbdemos%2Flakehouse%2Flakehouse-iot-platform%2F01-Data-ingestion%2F01.2-DLT-Wind-Turbine-SQL-UDF&version=1\">"
   ]
  },
  {
   "cell_type": "code",
   "execution_count": 0,
   "metadata": {
    "application/vnd.databricks.v1+cell": {
     "cellMetadata": {},
     "inputWidgets": {},
     "nuid": "0684ae69-1888-49f7-85e4-0db4b44adaed",
     "showTitle": false,
     "tableResultSettingsMap": {},
     "title": ""
    }
   },
   "outputs": [],
   "source": [
    "# import mlflow\n",
    "# mlflow.set_registry_uri('databricks-uc')\n",
    "# #                                                                                                                        Stage/version  \n",
    "# #                                                                                           Model name                          |        \n",
    "# #                                                                                               |                               |        \n",
    "# predict_maintenance_udf = mlflow.pyfunc.spark_udf(spark, \n",
    "#                                                   \"models:/main.dbdemos_iot_turbine.dbdemos_turbine_maintenance@prod\", \n",
    "#                                                   \"string\", \n",
    "#                                                   env_manager='virtualenv')\n",
    "\n",
    "# spark.udf.register(\"predict_maintenance\", predict_maintenance_udf)"
   ]
  },
  {
   "cell_type": "markdown",
   "metadata": {
    "application/vnd.databricks.v1+cell": {
     "cellMetadata": {},
     "inputWidgets": {},
     "nuid": "90a99122-a9ec-4916-ac3b-0a261eb157f0",
     "showTitle": false,
     "tableResultSettingsMap": {},
     "title": ""
    }
   },
   "source": [
    "### Setting up the DLT \n",
    "\n",
    "This notebook must be included in your DLT \"libraries\" parameter:\n",
    "\n",
    "```\n",
    "{\n",
    "    \"id\": \"b5dbbef6-aab1-45d8-9fa3-04d0da636a05\",\n",
    "    \"pipeline_type\": \"WORKSPACE\",\n",
    "    \"clusters\": [\n",
    "        {\n",
    "            \"label\": \"default\",\n",
    "            \"autoscale\": {\n",
    "                \"min_workers\": 1,\n",
    "                \"max_workers\": 5,\n",
    "                \"mode\": \"ENHANCED\"\n",
    "            }\n",
    "        }\n",
    "    ],\n",
    "    \"development\": true,\n",
    "    \"event_log\": {\n",
    "        \"catalog\": \"main_build\",\n",
    "        \"schema\": \"dbdemos_iot_platform\",\n",
    "        \"name\": \"event_log\"\n",
    "    },\n",
    "    \"continuous\": false,\n",
    "    \"channel\": \"CURRENT\",\n",
    "    \"photon\": false,\n",
    "    \"libraries\": [\n",
    "        {\n",
    "            \"notebook\": {\n",
    "                \"path\": \"/Repos/quentin.ambard@databricks.com/dbdemos-notebooks/demo-manufacturing/lakehouse-iot-platform/01-Data-ingestion/01.1-DLT-Wind-Turbine-SQL\"\n",
    "            }\n",
    "        },\n",
    "        {\n",
    "            \"notebook\": {\n",
    "                \"path\": \"/Repos/quentin.ambard@databricks.com/dbdemos-notebooks/demo-manufacturing/lakehouse-iot-platform/01-Data-ingestion/01.2-DLT-Wind-Turbine-SQL-UDF\"\n",
    "            }\n",
    "        }\n",
    "    ],\n",
    "    \"name\": \"dbdemos-build-manuf-iot-turbine\",\n",
    "    \"edition\": \"ADVANCED\",\n",
    "    \"catalog\": \"main_build\",\n",
    "    \"schema\": \"dbdemos_iot_platform\",\n",
    "    \"data_sampling\": false\n",
    "}\n",
    "```"
   ]
  }
 ],
 "metadata": {
  "application/vnd.databricks.v1+notebook": {
   "computePreferences": null,
   "dashboards": [],
   "environmentMetadata": {
    "environment_version": "2"
   },
   "inputWidgetPreferences": null,
   "language": "python",
   "notebookMetadata": {
    "pythonIndentUnit": 4
   },
   "notebookName": "01.2-DLT-Wind-Turbine-SQL-UDF",
   "widgets": {}
  },
  "language_info": {
   "name": "python"
  }
 },
 "nbformat": 4,
 "nbformat_minor": 0
}
