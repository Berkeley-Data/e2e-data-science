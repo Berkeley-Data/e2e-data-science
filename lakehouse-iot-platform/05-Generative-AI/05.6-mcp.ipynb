{
 "cells": [
  {
   "cell_type": "markdown",
   "metadata": {
    "application/vnd.databricks.v1+cell": {
     "cellMetadata": {},
     "inputWidgets": {},
     "nuid": "8c125e2b-0fe8-4ed0-847d-60e22727f647",
     "showTitle": false,
     "tableResultSettingsMap": {},
     "title": ""
    }
   },
   "source": [
    "&nbsp;\n",
    "&nbsp;\n",
    "![](../_resources/images/e2eai-5.jpg)"
   ]
  },
  {
   "cell_type": "markdown",
   "metadata": {
    "application/vnd.databricks.v1+cell": {
     "cellMetadata": {},
     "inputWidgets": {},
     "nuid": "704a7160-15a4-404e-8088-ec8382d53cf7",
     "showTitle": false,
     "tableResultSettingsMap": {},
     "title": ""
    }
   },
   "source": [
    "# MCP and Model / Agent Communication"
   ]
  },
  {
   "cell_type": "markdown",
   "metadata": {
    "application/vnd.databricks.v1+cell": {
     "cellMetadata": {},
     "inputWidgets": {},
     "nuid": "6af338fe-1700-44af-8f80-ecdb5e54a936",
     "showTitle": false,
     "tableResultSettingsMap": {},
     "title": ""
    }
   },
   "source": [
    "At this time this demo was created, we are seeing a large movement toward protocols for standard agent communication.  There are several that exist: [MCP](https://www.anthropic.com/news/model-context-protocol), [Agent2Agent](https://developers.googleblog.com/en/a2a-a-new-era-of-agent-interoperability/) and [AGNTCY](https://outshift.cisco.com/blog/building-the-internet-of-agents-introducing-the-agntcy), to name a few.\n",
    "\n",
    "Databricks has added support for MCP, which is a standard protocol for agent communication and tool calling.  There is a pre-built MCP server that allows MCP serving of any Unity Catalog tool/function.  Or, you can create a custom MCP server using a Databricks App.  However, this is not yet available in Free Edition.  \n",
    "\n",
    "![](https://www.descope.com/_next/image?url=https%3A%2F%2Fimages.ctfassets.net%2Fxqb1f63q68s1%2F2x3R1j8peZzdnweb5m1RK3%2Fa8628561358334a605e7f291560fc7cc%2FMCP_learning_center_image_1-min__1_.png&w=1080&q=75)\n",
    "\n",
    "We encourage you to read more and be familiar with MCP and Databricks features:\n",
    "- [MCP Overview](https://levelup.gitconnected.com/a-hands-on-guide-to-model-context-protocol-mcp-a4ce405e9c41)\n",
    "- [MCP on Databricks](https://docs.databricks.com/aws/en/generative-ai/mcp/)"
   ]
  }
 ],
 "metadata": {
  "application/vnd.databricks.v1+notebook": {
   "computePreferences": null,
   "dashboards": [],
   "environmentMetadata": {
    "base_environment": "",
    "environment_version": "2"
   },
   "inputWidgetPreferences": null,
   "language": "python",
   "notebookMetadata": {
    "pythonIndentUnit": 4
   },
   "notebookName": "05.6-mcp",
   "widgets": {}
  },
  "language_info": {
   "name": "python"
  }
 },
 "nbformat": 4,
 "nbformat_minor": 0
}
