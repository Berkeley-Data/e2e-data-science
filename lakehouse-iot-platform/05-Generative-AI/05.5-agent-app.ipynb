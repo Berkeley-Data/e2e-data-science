{
 "cells": [
  {
   "cell_type": "markdown",
   "metadata": {
    "application/vnd.databricks.v1+cell": {
     "cellMetadata": {},
     "inputWidgets": {},
     "nuid": "47a6b685-f037-4f20-9d1b-92d0f3c4b7ae",
     "showTitle": false,
     "tableResultSettingsMap": {},
     "title": ""
    }
   },
   "source": [
    "&nbsp;\n",
    "&nbsp;\n",
    "![](../_resources/images/e2eai-5.jpg)"
   ]
  },
  {
   "cell_type": "markdown",
   "metadata": {
    "application/vnd.databricks.v1+cell": {
     "cellMetadata": {},
     "inputWidgets": {},
     "nuid": "12a7292b-0d67-4a0b-b4d7-6cc243a93abe",
     "showTitle": false,
     "tableResultSettingsMap": {},
     "title": ""
    }
   },
   "source": [
    "# Build an Agent App"
   ]
  },
  {
   "cell_type": "markdown",
   "metadata": {
    "application/vnd.databricks.v1+cell": {
     "cellMetadata": {},
     "inputWidgets": {},
     "nuid": "ac05ac53-6431-4b20-9fb4-229f0a5292ed",
     "showTitle": false,
     "tableResultSettingsMap": {},
     "title": ""
    }
   },
   "source": [
    "## Create a Databricks App\n",
    "As with many things in Free Edition, you are limited to 1 app (as well as 1 serving endpoint).  We've choosen to use this app slot to walk through the process of creating an app on Databricks to use the agent that we built in prior steps.\n",
    "\n",
    "## Step 1: Create the App\n",
    "Navigate to Compute, then select App.  Click the button to create an app. On the Create New App screen, select `Create a custom app`. \n",
    "\n",
    "<img src=\"../_resources/images/app_create.png\">\n",
    "\n",
    "Give your app a name, then click ``.\n",
    "\n",
    "Databricks does several things in the background, including creating a service principal, and spinning up a container and compute.\n",
    "\n",
    "Once the compute is up, you can click the `Deploy` button. This will prompt for the directory where your app code lives.  Point it to e2e-data-science/lakehouse-iot-platform/_app/. Click `Deploy`."
   ]
  },
  {
   "cell_type": "markdown",
   "metadata": {
    "application/vnd.databricks.v1+cell": {
     "cellMetadata": {},
     "inputWidgets": {},
     "nuid": "8218f7b7-3444-44f3-91d9-5a72a7831b6f",
     "showTitle": false,
     "tableResultSettingsMap": {},
     "title": ""
    }
   },
   "source": [
    "## Step 2: Modify the App\n",
    "To work within the Free Edition limitations, we have loaded our agent in our app using a python import.  Please note that this option does not take advantage of the auto-scaling that is built into Databricks Enterprise.\n",
    "\n",
    "If you make any changes to your app, you need to click `Deploy` again to apply the changes."
   ]
  },
  {
   "cell_type": "markdown",
   "metadata": {
    "application/vnd.databricks.v1+cell": {
     "cellMetadata": {},
     "inputWidgets": {},
     "nuid": "321fcd3c-7be9-4123-9883-56233147032c",
     "showTitle": false,
     "tableResultSettingsMap": {},
     "title": ""
    }
   },
   "source": [
    "## Step 3: Grant permissions\n",
    "You may have noticed that your app has some errors.  We need to grant permissions to make it work.\n",
    "\n",
    "Go to the Authorizations tab for your app and find the Service Principal. \n",
    "\n",
    "<img src=\"../_resources/images/app_service_principal.png\">\n",
    "\n",
    "In Unity Catalog, you will need to grant execute permissions for all of your AI functions to this service principle.\n",
    "\n",
    "In AI/ML Serving, you will need to add query permissions on the prediction endpoint you created in notebook 04.3 for this service principal.\n",
    "\n",
    "<img src=\"../_resources/images/app_permissions.png\">"
   ]
  },
  {
   "cell_type": "markdown",
   "metadata": {
    "application/vnd.databricks.v1+cell": {
     "cellMetadata": {},
     "inputWidgets": {},
     "nuid": "ac812cf9-2797-4dc8-bec6-0c415989bf1a",
     "showTitle": false,
     "tableResultSettingsMap": {},
     "title": ""
    }
   },
   "source": [
    "## Step 3: Deploy and Run\n",
    "Run your app by clicking on the `Running` link on the app screen.  With limited compute on Free Edition, it can take a while for your app to load the first time.\n",
    "\n",
    "<img src=\"../_resources/images/app_run.png\">\n",
    "\n",
    "You should now be able to chat with your tool using agent.\n",
    "\n",
    "NOTE: Apps on free edition are automatically terminated after an idle time-out, so the next time you login, you will need to re-deploy your app to spin the compute back up.\n",
    "\n",
    "Using an app on Databricks provides a lot of options for customization and the app uses Unity Catalog permissions to ensure the correct user access."
   ]
  }
 ],
 "metadata": {
  "application/vnd.databricks.v1+notebook": {
   "computePreferences": null,
   "dashboards": [],
   "environmentMetadata": {
    "base_environment": "",
    "environment_version": "2"
   },
   "inputWidgetPreferences": null,
   "language": "python",
   "notebookMetadata": {
    "pythonIndentUnit": 4
   },
   "notebookName": "05.5-agent-app",
   "widgets": {}
  },
  "language_info": {
   "name": "python"
  }
 },
 "nbformat": 4,
 "nbformat_minor": 0
}
