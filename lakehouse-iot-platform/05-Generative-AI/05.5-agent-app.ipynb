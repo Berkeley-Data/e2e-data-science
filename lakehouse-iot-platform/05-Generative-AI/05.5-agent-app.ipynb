{
 "cells": [
  {
   "cell_type": "markdown",
   "metadata": {
    "application/vnd.databricks.v1+cell": {
     "cellMetadata": {},
     "inputWidgets": {},
     "nuid": "12a7292b-0d67-4a0b-b4d7-6cc243a93abe",
     "showTitle": false,
     "tableResultSettingsMap": {},
     "title": ""
    }
   },
   "source": [
    "# Build an Agent App"
   ]
  },
  {
   "cell_type": "markdown",
   "metadata": {
    "application/vnd.databricks.v1+cell": {
     "cellMetadata": {},
     "inputWidgets": {},
     "nuid": "ac05ac53-6431-4b20-9fb4-229f0a5292ed",
     "showTitle": false,
     "tableResultSettingsMap": {},
     "title": ""
    }
   },
   "source": [
    "## Create a Databricks App\n",
    "As with many things in Free Edition, you are limited to 1 app (as well as 1 serving endpoint).  We've choosen to use this app slot to walk through the process of creating an app on Databricks to use the agent that we built in prior steps.\n",
    "\n",
    "## Step 1: Create the App\n",
    "Navigate to Compute, then select App.  Click the button to create an app. On the Create New App screen, select a Streamlit Chatbot. \n",
    "\n",
    "<img src=\"../_resources/images/app_create.png\">\n",
    "\n",
    "It will ask you to select a model endpoint.  If we had another serving endpoint and had been able to serve our agent, we could select it here.  But, with the FE limitations, select 'databricks-meta-llama-3-3-70b-instruct' or which ever model you used when building your agent.\n",
    "\n",
    "Databricks does several things in the background, including creating a service principal, spinning up a container and compute, and creating some app code.\n",
    "\n",
    "Once the deployment is complete, you can click the 'Running' link to view your app. This is just a simple LLM chat and not our agent yet."
   ]
  },
  {
   "cell_type": "markdown",
   "metadata": {
    "application/vnd.databricks.v1+cell": {
     "cellMetadata": {},
     "inputWidgets": {},
     "nuid": "8218f7b7-3444-44f3-91d9-5a72a7831b6f",
     "showTitle": false,
     "tableResultSettingsMap": {},
     "title": ""
    }
   },
   "source": [
    "## Step 2: Modify the App\n",
    "To work within the Free Edition limitations, we will load our agent in our app using a python import.  Please note that this option is does not take advantage of the auto-scaling that is built into Databricks Enterprise.\n",
    "\n",
    "When Databricks creates an app, it creates a directory for it to live in.  Follow the Deployment link to view the app code.\n",
    "\n",
    "<img src=\"../_resources/images/app_deployment.png\">\n",
    "\n",
    "To run our agent, copy 'app.py', 'app.yml', and 'requirements.txt' from this repo (lakehouse_iot_platform/_app) into the deployment directory created for your app.  Also copy 'agent.py' from the GenAI folder in to the same deployment directory for your app.  Make sure to replace the auto generated files with these version from our repo.\n",
    "\n",
    "Once these changes are complete, click the 'Deploy' button to re-deploy your app. Any time you make changes to the app code, you will need to re-deploy. "
   ]
  },
  {
   "cell_type": "markdown",
   "metadata": {
    "application/vnd.databricks.v1+cell": {
     "cellMetadata": {},
     "inputWidgets": {},
     "nuid": "321fcd3c-7be9-4123-9883-56233147032c",
     "showTitle": false,
     "tableResultSettingsMap": {},
     "title": ""
    }
   },
   "source": [
    "## Step 3: Grant permissions\n",
    "You may have noticed that your app has some errors.  We need to grant permissions to make it work.\n",
    "\n",
    "Go to the Authorizations tab for your app and find the Service Principal. \n",
    "\n",
    "<img src=\"../_resources/images/app_service_principal.png\">\n",
    "\n",
    "In Unity Catalog, you will need to grant execute permissions for all of your AI functions to this service principle.\n",
    "\n",
    "In AI/ML Serving, you will need to add view permissions on the prediction endpoint you created in notebook 04.3 for this service principal.\n",
    "\n",
    "<img src=\"../_resources/images/app_permissions.png\">"
   ]
  },
  {
   "cell_type": "markdown",
   "metadata": {
    "application/vnd.databricks.v1+cell": {
     "cellMetadata": {},
     "inputWidgets": {},
     "nuid": "ac812cf9-2797-4dc8-bec6-0c415989bf1a",
     "showTitle": false,
     "tableResultSettingsMap": {},
     "title": ""
    }
   },
   "source": [
    "## Step 3: Deploy and Run\n",
    "Deploy your app code a final time by clicking the 'Deploy' button and close / re-launch the app.  You should not be able to chat with your tool using agent.\n",
    "\n",
    "NOTE: Apps on free edition are automatically terminated after an idle time-out, so the next time you login, you will need to re-deploy your app to spin the compute back up.\n",
    "\n",
    "Using an app on Databricks provides a lot of options for customization and the app uses Unity Catalog permissions to ensure the correct user access."
   ]
  }
 ],
 "metadata": {
  "application/vnd.databricks.v1+notebook": {
   "computePreferences": null,
   "dashboards": [],
   "environmentMetadata": {
    "base_environment": "",
    "environment_version": "2"
   },
   "inputWidgetPreferences": null,
   "language": "python",
   "notebookMetadata": {
    "pythonIndentUnit": 4
   },
   "notebookName": "05.5-agent-app",
   "widgets": {}
  },
  "language_info": {
   "name": "python"
  }
 },
 "nbformat": 4,
 "nbformat_minor": 0
}
