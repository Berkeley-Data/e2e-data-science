{
 "cells": [
  {
   "cell_type": "markdown",
   "metadata": {
    "application/vnd.databricks.v1+cell": {
     "cellMetadata": {},
     "inputWidgets": {},
     "nuid": "8a88d062-bf06-4542-8b67-807332715266",
     "showTitle": false,
     "tableResultSettingsMap": {},
     "title": ""
    }
   },
   "source": [
    "# 🚀 Deploying Your AI Functions with Databricks AI Agents\n",
    "\n",
    "In this notebook, you'll learn how to take the functions you defined in your previous Databricks notebook and integrate them into a **Databricks AI Agent**. This will allow you to use them in applications, the Databricks Playground, or other contexts where AI-driven functionality is needed.\n",
    "\n",
    "We'll walk through the process step by step, with **GIFs** to guide you along the way. By the end, you'll have a working AI Agent powered by your own functions, ready to deploy and use. Let's get started!\n",
    "\n",
    "<!-- Collect usage data (view). Remove it to disable collection or disable tracker during installation. View README for more details.  -->\n",
    "<img width=\"1px\" src=\"https://ppxrzfxige.execute-api.us-west-2.amazonaws.com/v1/analytics?category=lakehouse&org_id=4003492105941350&notebook=%2F05-Generative-AI%2F05.2-agent-creation-guide&demo_name=lakehouse-iot-platform&event=VIEW&path=%2F_dbdemos%2Flakehouse%2Flakehouse-iot-platform%2F05-Generative-AI%2F05.2-agent-creation-guide&version=1\">"
   ]
  },
  {
   "cell_type": "markdown",
   "metadata": {
    "application/vnd.databricks.v1+cell": {
     "cellMetadata": {},
     "inputWidgets": {},
     "nuid": "88acfad0-bd3b-418c-b616-ef826cb83a5d",
     "showTitle": false,
     "tableResultSettingsMap": {},
     "title": ""
    }
   },
   "source": [
    "## Step 1: Prepare Your Workspace\n",
    "\n",
    "### Quick Setup Tips\n",
    "* 📌 Duplicate this browser window\n",
    "* 💡 Keep this guide open for reference\n",
    "* 🎯 Arrange windows side-by-side\n",
    "\n",
    "This simple preparation will make your journey much smoother! 😎"
   ]
  },
  {
   "cell_type": "markdown",
   "metadata": {
    "application/vnd.databricks.v1+cell": {
     "cellMetadata": {},
     "inputWidgets": {},
     "isMarkdownSandbox": true,
     "nuid": "fb5e9e6a-6923-4848-830e-3a218c20e1b6",
     "showTitle": false,
     "tableResultSettingsMap": {},
     "title": ""
    }
   },
   "source": [
    "## Step 2: Access the Databricks Playground\n",
    "\n",
    "<hr>\n",
    "\n",
    "<div style=\"float: right; width: 70%;\">\n",
    "  <img \n",
    "    src=\"https://raw.githubusercontent.com/databricks-demos/dbdemos-resources/refs/heads/main/images/\\\n",
    "cross_demo_assets/AI_Agent_GIFs/AI_agent_open_playground.gif\" \n",
    "    alt=\"Opening the Playground\" \n",
    "    width=\"100%\"\n",
    "  >\n",
    "</div>\n",
    "\n",
    "### Location Guide\n",
    "\n",
    "Find the **Playground** under the **Machine Learning** section in your Databricks Workspace's left sidebar."
   ]
  },
  {
   "cell_type": "markdown",
   "metadata": {
    "application/vnd.databricks.v1+cell": {
     "cellMetadata": {},
     "inputWidgets": {},
     "isMarkdownSandbox": true,
     "nuid": "1b736b1d-9d79-43ec-aa59-d6db2a1f7a6e",
     "showTitle": false,
     "tableResultSettingsMap": {},
     "title": ""
    }
   },
   "source": [
    "## Step 3: Configure Your Agent Functions\n",
    "\n",
    "<hr>\n",
    "\n",
    "<div style=\"float: right; width: 70%;\">\n",
    "  <img \n",
    "    src=\"https://raw.githubusercontent.com/databricks-demos/dbdemos-resources/refs/heads/main/images/\\\n",
    "cross_demo_assets/AI_Agent_GIFs/AI_agent_function_selection.gif\" \n",
    "    alt=\"Function Selection\" \n",
    "    width=\"100%\"\n",
    "  >\n",
    "</div>\n",
    "\n",
    "### Location Guide\n",
    "\n",
    "Your functions are organized in Unity Catalog using this structure:\n",
    "\n",
    "#### Example Path:\n",
    "`my_catalog.my_schema.my_awesome_function`\n",
    "\n",
    "💡 Note: Replace the example names with your actual catalog and schema names."
   ]
  },
  {
   "cell_type": "markdown",
   "metadata": {
    "application/vnd.databricks.v1+cell": {
     "cellMetadata": {},
     "inputWidgets": {},
     "nuid": "317c21e3-b879-4085-ae2a-9e14b413edd1",
     "showTitle": false,
     "tableResultSettingsMap": {},
     "title": ""
    }
   },
   "source": [
    "### Make sure you add a proper system prompt so that your agent knows how to use the AI function you provided.\n",
    "\n",
    "Here is an example:\n",
    "\n",
    "```\n",
    "Act as an assistant for wind turbine maintenance technicians.\n",
    "    These are the tools you can use to answer questions:\n",
    "      - turbine_maintenance_predictor: takes as input sensor_readings and predicts whether or not a turbine is at risk of failure. \n",
    "        Use turbine_specifications_retriever to get the current status.\n",
    "      - turbine_maintenance_guide_retriever: send the question, model and error code to get the relevant turbine part maintenance guide to assist the user with maintenance operation.\n",
    "      - turbine_specifications_retriever: takes turbine_id as input and retrieves turbine specifications.\n",
    "    \n",
    "\n",
    "If a user gives you a turbine ID, first look up that turbine's information with turbine_specifications_retriever. \n",
    "If a user asks for recommendations on how to do maintenance on a turbine, use the maintenance guide to search how to maintain the parts and provide guidance on the steps required to fix the turbines\n",
    "```\n",
    "\n",
    "\n",
    "### You can now ask questions such as:\n",
    "\n",
    "\n",
    "* Get met the status of the wind turnbine ID '25b2116a-ae6c-ff55-ce0c-3f08e12656f1'? Is it at risk of failure?\n",
    "* The VibeGuard TVS-950 is giving me an error code TVS-001. What does it means?"
   ]
  },
  {
   "cell_type": "markdown",
   "metadata": {
    "application/vnd.databricks.v1+cell": {
     "cellMetadata": {},
     "inputWidgets": {},
     "isMarkdownSandbox": true,
     "nuid": "af6a5492-057f-4bfc-9bf5-71c3207989f4",
     "showTitle": false,
     "tableResultSettingsMap": {},
     "title": ""
    }
   },
   "source": [
    "## Step 4: Export Your Agent\n",
    "\n",
    "<hr>\n",
    "\n",
    "<div style=\"float: right; width: 70%;\">\n",
    "  <img \n",
    "    src=\"https://raw.githubusercontent.com/databricks-demos/dbdemos-resources/refs/heads/main/images/\\\n",
    "cross_demo_assets/AI_Agent_GIFs/AI_agent_export_from_playground.gif\" \n",
    "    alt=\"Exporting Agent\" \n",
    "    width=\"100%\"\n",
    "  >\n",
    "</div>\n",
    "\n",
    "### Export Checklist\n",
    "* ✅ Verify all of the functions from 05.1-Agent-Functions-Creation (_or more that you may have added_) are **selected tools** in the Playground.\n",
    "* ✅ Click the \"_Export_\" button in the Playground\n",
    "* ✅ Save the exported notebooks to this directory (**\"YOUR_WORKSPACE_PATH/05-Generative-AI/\"**)"
   ]
  },
  {
   "cell_type": "markdown",
   "metadata": {
    "application/vnd.databricks.v1+cell": {
     "cellMetadata": {},
     "inputWidgets": {},
     "nuid": "ce0ae8ec-016c-4c6a-8c45-c931a9ff1b3e",
     "showTitle": false,
     "tableResultSettingsMap": {},
     "title": ""
    }
   },
   "source": [
    "## 🚀 Step 5: Deploy Your AI Agent\n",
    "\n",
    "### Final Steps\n",
    "1. Navigate to where your exported \"driver\" notebook is located.\n",
    "2. Follow that notebook's documentation and guide.\n",
    "3. Close this notebook. You may proceeed to using the \"driver\" and \"agent\" notebooks from here. \n",
    "\n"
   ]
  },
  {
   "cell_type": "markdown",
   "metadata": {
    "application/vnd.databricks.v1+cell": {
     "cellMetadata": {},
     "inputWidgets": {},
     "nuid": "8fa0b2ad-657a-4dea-b4dc-53a1f39c653e",
     "showTitle": false,
     "tableResultSettingsMap": {},
     "title": ""
    }
   },
   "source": [
    "## Congratulations! You have deployed your first Agent System for Prescriptive Maintenance! \n",
    "\n",
    "We have seen how Databricks Mosaic AI provides all the capabilities needed to move these components to production quickly and cost-effectively, while maintaining complete control and governance:\n",
    "- Simplifying model deployment by creating an API endpoint.\n",
    "- Scaling similarity search against unstructured data to support billions of embeddings.\n",
    "- Leveraging structured data by serving features on an endpoint.\n",
    "- Deploying open models, while keeping the flexibility to swap them as needed.\n",
    "- Integrating everything using popular orchestration frameworks like Langchain or LlamaIndex.\n",
    "- Managing AI tools using Unity Catalog for security and re-use.\n",
    "- Composing the AI system with the Mosaic AI Agent Framework.\n",
    "\n",
    "\n",
    "### What's next after you finish this notebook?\n",
    "* 🔍 **Agent Evaluation:** Test and validate performance\n",
    "* 🌟 **Agent Deployment:** Place your agent in a Databricks App or in the Playground for others to use!\n",
    "* ⚙️ **Additional Agent Features:** _and much more!_\n",
    "\n",
    "\n",
    "## Potential next steps four our agent system:\n",
    "Enhance the Agent System by incorporating:\n",
    "- **Automated Technician Assignment for Work Orders:** Automatically asign maintenance work orders to technicians based on availability, distance to turbines and skill set.\n",
    "- **Automated Field Service Route Optimization:** optimizes field service routes for technicians to execute the maintenance work orders based on priority levels of work orders, travel time and real-time traffic conditions.\n"
   ]
  },
  {
   "cell_type": "markdown",
   "metadata": {
    "application/vnd.databricks.v1+cell": {
     "cellMetadata": {},
     "inputWidgets": {},
     "nuid": "265eeca2-316a-4434-8c00-1c2400961202",
     "showTitle": false,
     "tableResultSettingsMap": {},
     "title": ""
    }
   },
   "source": [
    "Interested in finishing up this demo? Check out [in the orchestration notebook]($../06-Workflow-orchestration/06-Workflow-orchestration-churn)"
   ]
  }
 ],
 "metadata": {
  "application/vnd.databricks.v1+notebook": {
   "computePreferences": null,
   "dashboards": [],
   "environmentMetadata": {
    "environment_version": "2"
   },
   "inputWidgetPreferences": null,
   "language": "python",
   "notebookMetadata": {},
   "notebookName": "05.2-agent-creation-guide",
   "widgets": {}
  },
  "language_info": {
   "name": "python"
  }
 },
 "nbformat": 4,
 "nbformat_minor": 0
}
