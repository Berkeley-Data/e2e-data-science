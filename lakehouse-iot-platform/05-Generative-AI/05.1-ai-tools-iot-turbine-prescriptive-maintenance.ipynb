{
 "cells": [
  {
   "cell_type": "markdown",
   "metadata": {
    "application/vnd.databricks.v1+cell": {
     "cellMetadata": {},
     "inputWidgets": {},
     "isMarkdownSandbox": true,
     "nuid": "ed8876c9-27ae-4355-96fe-685a57d58395",
     "showTitle": false,
     "tableResultSettingsMap": {},
     "title": ""
    }
   },
   "source": [
    "\n",
    "# Generative AI with Databricks\n",
    "\n",
    "## From Predictive to Prescriptive Maintenance\n",
    "Manufacturers face labor shortages, supply chain disruptions, and rising costs, making efficient maintenance essential. Despite investments in maintenance programs, many struggle to boost asset productivity due to technician shortages and poor knowledge-sharing systems. This leads to knowledge loss and operational inefficiencies.\n",
    "\n",
    "<div style=\"font-family: 'DM Sans';\">\n",
    "  <div style=\"width: 400px; color: #1b3139; margin-left: 50px; margin-right: 50px; float: left;\">\n",
    "    <div style=\"color: #ff5f46; font-size:50px;\">73%</div>\n",
    "    <div style=\"font-size:25px; margin-top: -20px; line-height: 30px;\">\n",
    "      of manufacturers struggle to recruit maintenance technicians — McKinsey (2023)\n",
    "    </div>\n",
    "    <div style=\"color: #ff5f46; font-size:50px;\">55%</div>\n",
    "    <div style=\"font-size:25px; margin-top: -20px; line-height: 30px;\">\n",
    "      of manufacturers lack formal knowledge-sharing systems — McKinsey (2023)\n",
    "    </div>\n",
    "  </div>\n",
    "</div>\n",
    "\n",
    "Generative AI can transform maintenance by reducing downtime and improving productivity. While predictive maintenance anticipates failures, Generative AI enables prescriptive maintenance. Using historical data, AI systems can identify issues, generate solutions, and assist technicians, allowing junior staff to perform effectively and freeing experts for complex tasks.\n",
    "<br><br>\n",
    "\n",
    "### From Models to Agent Systems\n",
    "Generative AI is moving from standalone models to modular agent systems ([Zaharia et al., 2024](https://bair.berkeley.edu/blog/2024/02/18/compound-ai-systems/)). These systems integrate retrievers, models, prompts, and tools to handle complex tasks. Their modular design allows seamless upgrades (e.g., integrating a new LLM) and adaptation to changing needs.\n",
    "\n",
    "<br><br>\n",
    "<img style=\"float: right; margin-top: 10px;\" width=\"700px\" src=\"https://raw.githubusercontent.com/databricks-demos/dbdemos-resources/refs/heads/main/images/manufacturing/lakehouse-iot-turbine/team_flow_liza.png\" />\n",
    "\n",
    "\n",
    "<br>\n",
    "<div style=\"font-size: 19px; margin-left: 0px; clear: left; padding-top: 10px; \">\n",
    "<img src=\"https://raw.githubusercontent.com/databricks-demos/dbdemos-resources/refs/heads/main/images/liza.png\" style=\"float: left;\" width=\"80px\"> \n",
    "<h3 style=\"padding: 10px 0px 0px 5px;\">Liza, a Generative AI engineer, uses the Databricks Intelligence Platform to:</h3>\n",
    "<ul style=\"list-style: none; padding: 0; margin-left: 05%;\">\n",
    "  <li style=\"margin-bottom: 10px; display: flex; align-items: center;\">\n",
    "    <div class=\"badge\" style=\"height: 30px; width: 30px; border-radius: 50%; background: #fcba33; color: white; text-align: center; line-height: 30px; font-weight: bold; margin-right: 10px;\">1</div>\n",
    "    Build real-time data pipelines\n",
    "  </li>\n",
    "  <li style=\"margin-bottom: 10px; display: flex; align-items: center;\">\n",
    "    <div class=\"badge\" style=\"height: 30px; width: 30px; border-radius: 50%; background: #fcba33; color: white; text-align: center; line-height: 30px; font-weight: bold; margin-right: 10px;\">2</div>\n",
    "    Retrieve vectors & features\n",
    "  </li>\n",
    "  <li style=\"margin-bottom: 10px; display: flex; align-items: center;\">\n",
    "    <div class=\"badge\" style=\"height: 30px; width: 30px; border-radius: 50%; background: #fcba33; color: white; text-align: center; line-height: 30px; font-weight: bold; margin-right: 10px;\">3</div>\n",
    "    Create AI agent tools\n",
    "  </li>\n",
    "  <li style=\"margin-bottom: 10px; display: flex; align-items: center;\">\n",
    "    <div class=\"badge\" style=\"height: 30px; width: 30px; border-radius: 50%; background: #fcba33; color: white; text-align: center; line-height: 30px; font-weight: bold; margin-right: 10px;\">4</div>\n",
    "    Build & deploy agents\n",
    "  </li>\n",
    "  <li style=\"margin-bottom: 10px; display: flex; align-items: center;\">\n",
    "    <div class=\"badge\" style=\"height: 30px; width: 30px; border-radius: 50%; background: #fcba33; color: white; text-align: center; line-height: 30px; font-weight: bold; margin-right: 10px;\">5</div>\n",
    "    Operate in batch or real-time\n",
    "  </li>\n",
    "  <li style=\"display: flex; align-items: center;\">\n",
    "    <div class=\"badge\" style=\"height: 30px; width: 30px; border-radius: 50%; background: #fcba33; color: white; text-align: center; line-height: 30px; font-weight: bold; margin-right: 10px;\">6</div>\n",
    "    Evaluate agent performance\n",
    "  </li>\n",
    "</ul>\n",
    "</div>\n",
    "\n",
    "**Databricks empowers Liza with a Data + AI platform for Prescriptive Maintenance.** Let’s explore how to deploy this in production.\n",
    "\n",
    "<img width=\"1px\" src=\"https://ppxrzfxige.execute-api.us-west-2.amazonaws.com/v1/analytics?category=lakehouse&org_id=4003492105941350&notebook=%2F05-Generative-AI%2F05.1-ai-tools-iot-turbine-prescriptive-maintenance&demo_name=lakehouse-iot-platform&event=VIEW&path=%2F_dbdemos%2Flakehouse%2Flakehouse-iot-platform%2F05-Generative-AI%2F05.1-ai-tools-iot-turbine-prescriptive-maintenance&version=1\">"
   ]
  },
  {
   "cell_type": "markdown",
   "metadata": {
    "application/vnd.databricks.v1+cell": {
     "cellMetadata": {},
     "inputWidgets": {},
     "isMarkdownSandbox": true,
     "nuid": "59e1e932-8e37-4dfc-94da-1e699932eb5c",
     "showTitle": false,
     "tableResultSettingsMap": {},
     "title": ""
    }
   },
   "source": [
    "## Building Agent Systems with Databricks Mosaic AI agent framework\n",
    "\n",
    "We will build an Agent System designed to generate prescriptive work orders for wind turbine maintenance technicians. This system integrates multiple interacting components to ensure proactive and efficient maintenance, thereby optimizing the overall equipment effectiveness.\n",
    "\n",
    "<img src=\"https://raw.githubusercontent.com/databricks-demos/dbdemos-resources/refs/heads/main/images/manufacturing/lakehouse-iot-turbine/iot_agent_graph_v2_0.png\" style=\"margin-left: 5px; float: right\"  width=\"1000px;\">\n",
    "\n",
    "Databricks simplifies this by providing a built-in service to:\n",
    "\n",
    "- Create and store your AI tools leveraging UC functions\n",
    "- Execute the AI tools in a safe way\n",
    "- Use agents to reason about the tools you selected and chain them together to properly answer your question. \n",
    "\n",
    "\n",
    "This notebook creates the three Mosaic AI tools and associated Mosaic AI endpoints, which will be composed together into a agent in notebook [05.2-agent-creation-guide]($./05.2-agent-creation-guide).\n",
    "1. **Turbine predictor** which uses a Model Serving endpoint to predict turbines at risk of failure.\n",
    "2. **Turbine specifications retriever** which retrieve the turbine specifications based on its id.\n",
    "3. **Turbine maintenance guide**  which uses a Vector Search endpoint to retrieve maintenance guide based on the turbines and issues being adressed."
   ]
  },
  {
   "cell_type": "code",
   "execution_count": 0,
   "metadata": {
    "application/vnd.databricks.v1+cell": {
     "cellMetadata": {
      "byteLimit": 2048000,
      "rowLimit": 10000
     },
     "inputWidgets": {},
     "nuid": "6760fd38-9a07-4df9-a04d-63e3b975e9ae",
     "showTitle": true,
     "tableResultSettingsMap": {},
     "title": "Install required external libraries"
    }
   },
   "outputs": [],
   "source": [
    "%pip install mlflow==2.22.0 databricks-vectorsearch==0.49 databricks-feature-engineering==0.8.0 databricks-sdk==0.40.0\n",
    "dbutils.library.restartPython()"
   ]
  },
  {
   "cell_type": "code",
   "execution_count": 0,
   "metadata": {
    "application/vnd.databricks.v1+cell": {
     "cellMetadata": {
      "byteLimit": 2048000,
      "rowLimit": 10000
     },
     "inputWidgets": {},
     "nuid": "8edbbc63-4184-4f4f-9a32-631fc0387c0e",
     "showTitle": true,
     "tableResultSettingsMap": {},
     "title": "Initializing the Application"
    },
    "jupyter": {
     "outputs_hidden": true
    }
   },
   "outputs": [],
   "source": [
    "%run ../_resources/00-setup $reset_all_data=false"
   ]
  },
  {
   "cell_type": "markdown",
   "metadata": {
    "application/vnd.databricks.v1+cell": {
     "cellMetadata": {},
     "inputWidgets": {},
     "isMarkdownSandbox": true,
     "nuid": "fd9c59e1-2893-43cd-83cd-d4599c908242",
     "showTitle": false,
     "tableResultSettingsMap": {},
     "title": ""
    }
   },
   "source": [
    "## Part 1: Create the Turbine Predictor as a tool to predict turbine failure\n",
    "\n",
    "<img src=\"https://raw.githubusercontent.com/databricks-demos/dbdemos-resources/refs/heads/main/images/manufacturing/lakehouse-iot-turbine/iot_agent_graph_v2_1.png\" style=\"float: right; width: 600px; margin-left: 10px\">\n",
    "\n",
    "To enable our Agent System to predict turbine failtures based on industrial IoT sensor readings, we will rely on the model we deployed previously in the  [./04.3-running-inference-iot-turbine]($./04.3-running-inference-iot-turbine) notebook. \n",
    "\n",
    "**Make sure you run this ML notebook to create the model serving endpoint!**\n",
    "\n",
    "\n",
    "### Using the Model Serving as tool to predict faulty turbines\n",
    "Let's define the turbine predictor tool function our LLM agent will be able to execute. \n",
    "\n",
    "AI agents use [AI Agent Tools](https://docs.databricks.com/en/generative-ai/create-log-agent.html#create-ai-agent-tools) to perform actions besides language generation, for example to retrieve structured or unstructured data, execute code, or talk to remote services (e.g. send an email or Slack message). \n",
    "\n",
    "These functions can contain any logic, from simple SQL to advanced python. Below we wrap the model serving endpoint in a SQL function using '[ai_query function](https://docs.databricks.com/en/sql/language-manual/functions/ai_query.html)'."
   ]
  },
  {
   "cell_type": "code",
   "execution_count": 0,
   "metadata": {
    "application/vnd.databricks.v1+cell": {
     "cellMetadata": {
      "byteLimit": 2048000,
      "implicitDf": true,
      "rowLimit": 10000
     },
     "inputWidgets": {},
     "nuid": "2295789d-121e-48fb-900a-6474329e1b64",
     "showTitle": false,
     "tableResultSettingsMap": {},
     "title": ""
    }
   },
   "outputs": [],
   "source": [
    "%sql\n",
    "DROP FUNCTION IF EXISTS turbine_maintenance_predictor;\n",
    "\n",
    "CREATE OR REPLACE FUNCTION \n",
    "\n",
    "turbine_maintenance_predictor(\n",
    "    sensor_values ARRAY<DOUBLE>\n",
    "    )\n",
    "RETURNS STRING\n",
    "LANGUAGE SQL\n",
    "COMMENT 'This tool predicts whether or not a turbine is faulty to facilitate proactive maintenance'\n",
    "RETURN\n",
    "(\n",
    "    SELECT ai_query(\n",
    "        'dbdemos_iot_turbine_prediction_endpoint', \n",
    "        \n",
    "        array(\n",
    "            sensor_values[0],\n",
    "            sensor_values[1],\n",
    "            sensor_values[2],\n",
    "            sensor_values[3],\n",
    "            sensor_values[4],\n",
    "            sensor_values[5],\n",
    "            sensor_values[6]\n",
    "            ),\n",
    "        'DOUBLE'\n",
    "    )\n",
    ");"
   ]
  },
  {
   "cell_type": "code",
   "execution_count": 0,
   "metadata": {
    "application/vnd.databricks.v1+cell": {
     "cellMetadata": {
      "byteLimit": 2048000,
      "implicitDf": true,
      "rowLimit": 10000
     },
     "inputWidgets": {},
     "nuid": "a24bb067-a830-4d4e-bdcf-b53bd61c460e",
     "showTitle": false,
     "tableResultSettingsMap": {},
     "title": ""
    }
   },
   "outputs": [],
   "source": [
    "%sql\n",
    "SELECT turbine_maintenance_predictor(\n",
    "    ARRAY(\n",
    " 0.9000803742589635,\n",
    " 2.2081154200781867,\n",
    " 2.6012126574143823,\n",
    " 2.1075958066966423,\n",
    " 2.2081154200781867,\n",
    " 2.6012126574143823,\n",
    " 1.0\n",
    "    )\n",
    ") AS prediction;"
   ]
  },
  {
   "cell_type": "code",
   "execution_count": 0,
   "metadata": {
    "application/vnd.databricks.v1+cell": {
     "cellMetadata": {
      "byteLimit": 2048000,
      "implicitDf": true,
      "rowLimit": 10000
     },
     "inputWidgets": {},
     "nuid": "a199c687-32e3-4a66-967c-244c9fd43f2d",
     "showTitle": false,
     "tableResultSettingsMap": {},
     "title": ""
    }
   },
   "outputs": [],
   "source": [
    "# %sql\n",
    "# DROP FUNCTION IF EXISTS turbine_maintenance_predictor;\n",
    "\n",
    "# CREATE OR REPLACE FUNCTION \n",
    "\n",
    "# turbine_maintenance_predictor(\n",
    "#     -- hourly_timestamp TIMESTAMP, \n",
    "#     avg_energy DOUBLE, \n",
    "#     std_sensor_A DOUBLE, \n",
    "#     std_sensor_B DOUBLE, \n",
    "#     std_sensor_C DOUBLE, \n",
    "#     std_sensor_D DOUBLE, \n",
    "#     std_sensor_E DOUBLE, \n",
    "#     std_sensor_F DOUBLE\n",
    "#     -- location STRING, \n",
    "#     -- model STRING, \n",
    "#     -- state STRING\n",
    "#     )\n",
    "# RETURNS STRING\n",
    "# LANGUAGE SQL\n",
    "# COMMENT 'This tool predicts whether or not a turbine is faulty to facilitate proactive maintenance'\n",
    "# RETURN\n",
    "# (\n",
    "#     SELECT ai_query(\n",
    "#         'dbdemos_iot_turbine_prediction_endpoint', \n",
    "        \n",
    "#         named_struct(\n",
    "#             -- 'hourly_timestamp', hourly_timestamp,\n",
    "#             'avg_energy', avg_energy,\n",
    "#             'std_sensor_A', std_sensor_A,\n",
    "#             'std_sensor_B', std_sensor_B,\n",
    "#             'std_sensor_C', std_sensor_C,\n",
    "#             'std_sensor_D', std_sensor_D,\n",
    "#             'std_sensor_E', std_sensor_E,\n",
    "#             'std_sensor_F', std_sensor_F\n",
    "#             -- 'location', location,\n",
    "#             -- 'model', model,\n",
    "#             -- 'state', state        \n",
    "#             ),\n",
    "#         'STRING'\n",
    "#     )\n",
    "# );"
   ]
  },
  {
   "cell_type": "markdown",
   "metadata": {
    "application/vnd.databricks.v1+cell": {
     "cellMetadata": {},
     "inputWidgets": {},
     "nuid": "2bf7899d-7d02-4034-a7dd-3d2e1211fb52",
     "showTitle": false,
     "tableResultSettingsMap": {},
     "title": ""
    }
   },
   "source": [
    "Now we can test out our function below:"
   ]
  },
  {
   "cell_type": "code",
   "execution_count": 0,
   "metadata": {
    "application/vnd.databricks.v1+cell": {
     "cellMetadata": {
      "byteLimit": 2048000,
      "rowLimit": 10000
     },
     "inputWidgets": {},
     "nuid": "3bf76713-47ca-4b0d-8325-8de151c7e06a",
     "showTitle": false,
     "tableResultSettingsMap": {},
     "title": ""
    }
   },
   "outputs": [],
   "source": [
    "# Index(['avg_energy', 'std_sensor_A', 'std_sensor_B', 'std_sensor_C',\n",
    "#        'std_sensor_D', 'std_sensor_E', 'std_sensor_F'],\n",
    "#       dtype='object')"
   ]
  },
  {
   "cell_type": "code",
   "execution_count": 0,
   "metadata": {
    "application/vnd.databricks.v1+cell": {
     "cellMetadata": {
      "byteLimit": 2048000,
      "implicitDf": true,
      "rowLimit": 10000
     },
     "inputWidgets": {},
     "nuid": "10c44764-8cdf-480e-8ebc-e9496e89e934",
     "showTitle": false,
     "tableResultSettingsMap": {},
     "title": ""
    }
   },
   "outputs": [],
   "source": [
    "# %sql\n",
    "# SELECT turbine_maintenance_predictor(\n",
    "#     -- TIMESTAMP '2025-01-14T16:00:00.000+00:00',    -- hourly_timestamp\n",
    "#     0.9000803742589635,                           -- avg_energy\n",
    "#     2.2081154200781867,                           -- std_sensor_A\n",
    "#     2.6012126574143823,                           -- std_sensor_B\n",
    "#     2.1075958066966423,                           -- std_sensor_C\n",
    "#     2.2081154200781867,                           -- std_sensor_D\n",
    "#     2.6012126574143823,                           -- std_sensor_E\n",
    "#     2.1075958066966423--,                           -- std_sensor_F\n",
    "#     -- 'Lexington',                                  -- location\n",
    "#     -- 'EpicWind',                                   -- model\n",
    "#     -- 'America/New_York'                           -- state\n",
    "# ) AS prediction"
   ]
  },
  {
   "cell_type": "markdown",
   "metadata": {
    "application/vnd.databricks.v1+cell": {
     "cellMetadata": {},
     "inputWidgets": {},
     "isMarkdownSandbox": true,
     "nuid": "8ca12188-e739-4226-bddc-3f1a4b6485f8",
     "showTitle": false,
     "tableResultSettingsMap": {},
     "title": ""
    }
   },
   "source": [
    "## Part 3: Add a tool to access our maintenance guide content and provide support to the operator during maintenance operation\n",
    "\n",
    "<img src=\"https://raw.githubusercontent.com/databricks-demos/dbdemos-resources/refs/heads/main/images/manufacturing/lakehouse-iot-turbine/iot_agent_graph_v2_3.png\" style=\"float: right; width: 600px; margin-left: 10px\">\n",
    "\n",
    "\n",
    "We were provided with PDF guide containing all the error code and maintenance steps for the critical components of our wind turbine. The're saved as pdf file in our volume.\n",
    "\n",
    "Let's parse them and index them so that we can properly retrieve them. We'll save them in a Vector Search endpoint and leverage it to guide the operators with the maintenance step and recommendations.\n",
    "\n",
    "We'll use a Managed embedding index to make it simple. In this section we will:\n",
    "\n",
    "1. Parse and save our PDF text in a Delta Table using Databricks AI Query `ai_parse_document`\n",
    "2. Create a `Vector Search endpoint` (required to host your vector search index)\n",
    "3. Create a `Vector Search Direct Index`  (the actual index)\n",
    "4. Create a `Tool (UC function)` using our vector search "
   ]
  },
  {
   "cell_type": "markdown",
   "metadata": {
    "application/vnd.databricks.v1+cell": {
     "cellMetadata": {},
     "inputWidgets": {},
     "nuid": "1732888c-4571-469b-925b-88a471a5cb84",
     "showTitle": false,
     "tableResultSettingsMap": {},
     "title": ""
    }
   },
   "source": [
    "\n",
    "### 2.1. Parse and save our PDF text\n",
    "Let's start by parsing the maintenance guide documents, saved as pdf in our volume:"
   ]
  },
  {
   "cell_type": "code",
   "execution_count": 0,
   "metadata": {
    "application/vnd.databricks.v1+cell": {
     "cellMetadata": {
      "byteLimit": 2048000,
      "implicitDf": true,
      "rowLimit": 10000
     },
     "inputWidgets": {},
     "nuid": "0914421b-8289-4917-8a78-418e27cbc52b",
     "showTitle": false,
     "tableResultSettingsMap": {},
     "title": ""
    }
   },
   "outputs": [],
   "source": [
    "%sql\n",
    "CREATE TABLE IF NOT EXISTS turbine_maintenance_guide (\n",
    "  id BIGINT GENERATED ALWAYS AS IDENTITY,\n",
    "  EAN STRING,\n",
    "  weight STRING,\n",
    "  component_type STRING,\n",
    "  component_name STRING,\n",
    "  full_guide STRING)\n",
    "  TBLPROPERTIES (delta.enableChangeDataFeed = true);"
   ]
  },
  {
   "cell_type": "code",
   "execution_count": 0,
   "metadata": {
    "application/vnd.databricks.v1+cell": {
     "cellMetadata": {
      "byteLimit": 2048000,
      "implicitDf": true,
      "rowLimit": 10000
     },
     "inputWidgets": {},
     "nuid": "af4fd257-c291-4892-9d11-e6d9b4be1166",
     "showTitle": false,
     "tableResultSettingsMap": {},
     "title": ""
    }
   },
   "outputs": [],
   "source": [
    "# %sql\n",
    "\n",
    "# SELECT\n",
    "#   path,\n",
    "#   ai_parse_document(content)\n",
    "# FROM READ_FILES('/Volumes/main/dbdemos_iot_turbine/turbine_raw_landing/maintenance_guide', format => 'binaryFile');\n"
   ]
  },
  {
   "cell_type": "code",
   "execution_count": 0,
   "metadata": {
    "application/vnd.databricks.v1+cell": {
     "cellMetadata": {
      "byteLimit": 2048000,
      "implicitDf": true,
      "rowLimit": 10000
     },
     "inputWidgets": {},
     "nuid": "c77a6be8-5e4a-4f3e-a0a0-38e036455078",
     "showTitle": true,
     "tableResultSettingsMap": {},
     "title": "Read the pdf and"
    }
   },
   "outputs": [],
   "source": [
    "%sql\n",
    "\n",
    "-- Overwrite the table 'turbine_maintenance_guide' with new data\n",
    "INSERT OVERWRITE TABLE turbine_maintenance_guide (EAN, weight, component_type, component_name, full_guide)\n",
    "\n",
    "\n",
    "SELECT ai_extract.*, \n",
    "      full_guide \n",
    "FROM (\n",
    "  SELECT \n",
    "    ai_extract(full_guide, array('EAN', 'weight', 'component_type', 'component_name')) AS ai_extract,\n",
    "    full_guide\n",
    "  FROM (\n",
    "    -- TODO: review why parsed_document:document.pages[*].content isn't working\n",
    "\n",
    "     -- Combine the content of all pages into a single string separated by new lines\n",
    "    SELECT array_join(\n",
    "\n",
    "            -- Transform each page struct in the array to just its 'content' field (extract text from each page)\n",
    "            transform(\n",
    "              parsed_document:document.pages::ARRAY<STRUCT<content:STRING>>, -- Array of page structs from the parsed document\n",
    "              x -> x.content -- For each struct (page), extract the 'content' string\n",
    "             ), \n",
    "             \n",
    "             '\\n' -- Join all extracted page contents with a newline character as the separator\n",
    "             ) \n",
    "             \n",
    "             AS full_guide\n",
    "    FROM (\n",
    "      -- Parse the document content\n",
    "      SELECT ai_parse_document(content) AS parsed_document\n",
    "      FROM READ_FILES(\"/Volumes/main/dbdemos_iot_turbine/turbine_raw_landing/maintenance_guide\", format => 'binaryFile')\n",
    "    )\n",
    "  ));\n",
    "\n",
    "SELECT * FROM turbine_maintenance_guide"
   ]
  },
  {
   "cell_type": "markdown",
   "metadata": {
    "application/vnd.databricks.v1+cell": {
     "cellMetadata": {},
     "inputWidgets": {},
     "isMarkdownSandbox": true,
     "nuid": "485d17d8-caf6-4c39-b76a-05aa901270e8",
     "showTitle": false,
     "tableResultSettingsMap": {},
     "title": ""
    }
   },
   "source": [
    "### 2.2. Creating the Vector Search endpoint\n",
    "\n",
    "Let's create a new Vector search endpoint. You can also use the [UI under Compute](#/setting/clusters/vector-search) to directly create your endpoint."
   ]
  },
  {
   "cell_type": "code",
   "execution_count": 0,
   "metadata": {
    "application/vnd.databricks.v1+cell": {
     "cellMetadata": {
      "byteLimit": 2048000,
      "rowLimit": 10000
     },
     "inputWidgets": {},
     "nuid": "0c53199e-8cd3-4e52-b667-5e6954b92bbd",
     "showTitle": true,
     "tableResultSettingsMap": {},
     "title": "Creating the Vector Search endpoint"
    }
   },
   "outputs": [],
   "source": [
    "from databricks.vector_search.client import VectorSearchClient\n",
    "vsc = VectorSearchClient(disable_notice=True)\n",
    "\n",
    "if not endpoint_exists(vsc, VECTOR_SEARCH_ENDPOINT_NAME):\n",
    "    vsc.create_endpoint(name=VECTOR_SEARCH_ENDPOINT_NAME, \n",
    "                        endpoint_type=\"STANDARD\")\n",
    "\n",
    "wait_for_vs_endpoint_to_be_ready(vsc, \n",
    "                                 VECTOR_SEARCH_ENDPOINT_NAME)\n",
    "\n",
    "\n",
    "print(f\"Endpoint named {VECTOR_SEARCH_ENDPOINT_NAME} is ready.\")"
   ]
  },
  {
   "cell_type": "markdown",
   "metadata": {
    "application/vnd.databricks.v1+cell": {
     "cellMetadata": {},
     "inputWidgets": {},
     "isMarkdownSandbox": true,
     "nuid": "f2cb98b0-7524-4527-8ea4-c1ae678ffda7",
     "showTitle": false,
     "tableResultSettingsMap": {},
     "title": ""
    }
   },
   "source": [
    "\n",
    "### 2.3 Creating the Vector Search Index\n",
    "\n",
    "<img src=\"https://github.com/databricks-demos/dbdemos-resources/blob/main/images/index_creation.gif?raw=true\" width=\"600px\" style=\"float: right; margin-left: 10px\">\n",
    "\n",
    "You can view your endpoint on the [Vector Search Endpoints UI](#/setting/clusters/vector-search). Click on the endpoint name to see all indexes that are served by the endpoint.\n",
    "\n",
    "All we now have to do is to as Databricks to create the index on top of our table. The Delta Table will automatically be synched with the index.\n",
    "\n",
    "\n",
    "Again, you can do that using your Unity Catalog UI, and selecting the turbine_maintenance_guide table in your Unity Catalog, and click on add a vector search. "
   ]
  },
  {
   "cell_type": "code",
   "execution_count": 0,
   "metadata": {
    "application/vnd.databricks.v1+cell": {
     "cellMetadata": {
      "byteLimit": 2048000,
      "rowLimit": 10000
     },
     "inputWidgets": {},
     "nuid": "ffee79f3-e685-4a4d-ba3c-7242ed95f093",
     "showTitle": false,
     "tableResultSettingsMap": {},
     "title": ""
    }
   },
   "outputs": [],
   "source": [
    "db"
   ]
  },
  {
   "cell_type": "code",
   "execution_count": 0,
   "metadata": {
    "application/vnd.databricks.v1+cell": {
     "cellMetadata": {
      "byteLimit": 2048000,
      "rowLimit": 10000
     },
     "inputWidgets": {},
     "nuid": "75fa4683-3aec-42ed-ae97-83d56bbd5790",
     "showTitle": true,
     "tableResultSettingsMap": {},
     "title": "Creating the VS from the maintenance table"
    }
   },
   "outputs": [],
   "source": [
    "import databricks.sdk.service.catalog as c\n",
    "\n",
    "# Where we want to store our index\n",
    "vs_index_fullname = f\"{catalog}.{db}.turbine_maintenance_guide_vs_index\"\n",
    "\n",
    "if not index_exists(vsc, VECTOR_SEARCH_ENDPOINT_NAME, vs_index_fullname):\n",
    "  print(f\"Creating index {vs_index_fullname} on endpoint {VECTOR_SEARCH_ENDPOINT_NAME}...\")\n",
    "  \n",
    "  index = vsc.create_delta_sync_index(\n",
    "    endpoint_name=VECTOR_SEARCH_ENDPOINT_NAME,\n",
    "    source_table_name=f\"{catalog}.{db}.turbine_maintenance_guide\",\n",
    "    index_name=vs_index_fullname,\n",
    "    pipeline_type=\"TRIGGERED\",\n",
    "    primary_key='id',\n",
    "    embedding_source_column=\"full_guide\",\n",
    "    embedding_model_endpoint_name=\"databricks-gte-large-en\"\n",
    "  )\n",
    "else:\n",
    "  print(f\"Grabbing existing index {vs_index_fullname} on endpoint {VECTOR_SEARCH_ENDPOINT_NAME}...\")\n",
    "  index = vsc.get_index(VECTOR_SEARCH_ENDPOINT_NAME, vs_index_fullname)"
   ]
  },
  {
   "cell_type": "markdown",
   "metadata": {
    "application/vnd.databricks.v1+cell": {
     "cellMetadata": {},
     "inputWidgets": {},
     "isMarkdownSandbox": true,
     "nuid": "01310d1f-28fb-4aeb-8f84-b11ccb15eab9",
     "showTitle": false,
     "tableResultSettingsMap": {},
     "title": ""
    }
   },
   "source": [
    "### 2.4 Create our tool\n",
    "Below, we utilize the _VECTOR\\_SEARCH_ SQL function from Databricks to easily set up our maintenance reports retriever function. Our agent will utilize this function in the subsequent steps!"
   ]
  },
  {
   "cell_type": "code",
   "execution_count": 0,
   "metadata": {
    "application/vnd.databricks.v1+cell": {
     "cellMetadata": {},
     "inputWidgets": {},
     "nuid": "95418fdd-74b7-43e7-95ed-540d1818ff40",
     "showTitle": false,
     "tableResultSettingsMap": {},
     "title": ""
    }
   },
   "outputs": [],
   "source": [
    "spark.sql(\"DROP FUNCTION IF EXISTS turbine_maintenance_guide_retriever\")\n",
    "spark.sql(f\"\"\"\n",
    "CREATE OR REPLACE FUNCTION turbine_maintenance_guide_retriever(question STRING)\n",
    "RETURNS ARRAY<STRING>\n",
    "LANGUAGE SQL\n",
    "RETURN (\n",
    "  SELECT collect_list(full_guide) FROM VECTOR_SEARCH(index => '{catalog}.{schema}.turbine_maintenance_guide_vs_index', query => question, num_results => 1) ) \"\"\")"
   ]
  },
  {
   "cell_type": "code",
   "execution_count": 0,
   "metadata": {
    "application/vnd.databricks.v1+cell": {
     "cellMetadata": {},
     "inputWidgets": {},
     "nuid": "fdbce0ab-1b1b-4026-8a44-a959be479ab6",
     "showTitle": false,
     "tableResultSettingsMap": {},
     "title": ""
    }
   },
   "outputs": [],
   "source": [
    "%sql \n",
    "-- Let's test the tool we created\n",
    "SELECT turbine_maintenance_guide_retriever('The VibeGuard TVS-950 is giving me an error code TVS-001.') AS reports"
   ]
  },
  {
   "cell_type": "markdown",
   "metadata": {
    "application/vnd.databricks.v1+cell": {
     "cellMetadata": {},
     "inputWidgets": {},
     "nuid": "4a6c9473-c398-4a3c-89ee-b109c1823267",
     "showTitle": false,
     "tableResultSettingsMap": {},
     "title": ""
    }
   },
   "source": [
    "## Exploring Mosaic AI Tools in Unity Catalog\n",
    "\n",
    "Our tools are ready! \n",
    "\n",
    "You can now view the UC function tools in Catalog Explorer. Click **Catalog** in the sidebar. In the Catalog Explorer, navigate to your catalog and schema. \n",
    "\n",
    "The UC function tools appears under **Functions**. \n",
    "\n",
    "<img src=\"https://github.com/Datastohne/demo/blob/main/Screenshot%202024-09-18%20at%2016.24.24.png?raw=true\"/>"
   ]
  },
  {
   "cell_type": "markdown",
   "metadata": {
    "application/vnd.databricks.v1+cell": {
     "cellMetadata": {},
     "inputWidgets": {},
     "nuid": "5e98df57-c2ef-4aa5-acf1-4f637f760c70",
     "showTitle": false,
     "tableResultSettingsMap": {},
     "title": ""
    }
   },
   "source": [
    "## What’s next: test your Agents with Databricks Playground\n",
    "\n",
    "Now that we have our AI Tools ready and registered in Unity Catalog, we can compose them into an agent system that generates maintenance work orders using the Mosaic AI agent framework.\n",
    "\n",
    "Open the [05.2-agent-creation-guide]($./05.2-agent-creation-guide) notebook to create and deploy the system."
   ]
  }
 ],
 "metadata": {
  "application/vnd.databricks.v1+notebook": {
   "computePreferences": null,
   "dashboards": [],
   "environmentMetadata": {
    "environment_version": "2"
   },
   "inputWidgetPreferences": null,
   "language": "python",
   "notebookMetadata": {
    "mostRecentlyExecutedCommandWithImplicitDF": {
     "commandId": -1,
     "dataframes": [
      "_sqldf"
     ]
    },
    "pythonIndentUnit": 4
   },
   "notebookName": "05.1-ai-tools-iot-turbine-prescriptive-maintenance",
   "widgets": {}
  },
  "language_info": {
   "name": "python"
  }
 },
 "nbformat": 4,
 "nbformat_minor": 0
}
