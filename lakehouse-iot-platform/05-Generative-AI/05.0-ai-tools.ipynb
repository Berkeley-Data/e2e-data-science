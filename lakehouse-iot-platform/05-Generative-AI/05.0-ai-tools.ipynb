{
 "cells": [
  {
   "cell_type": "markdown",
   "metadata": {
    "application/vnd.databricks.v1+cell": {
     "cellMetadata": {},
     "inputWidgets": {},
     "nuid": "0c0c9b5c-1822-403d-81ca-c3c6865fbc4b",
     "showTitle": false,
     "tableResultSettingsMap": {},
     "title": ""
    }
   },
   "source": [
    "&nbsp;\n",
    "&nbsp;\n",
    "![](../_resources/images/e2e-5.png)"
   ]
  },
  {
   "cell_type": "markdown",
   "metadata": {
    "application/vnd.databricks.v1+cell": {
     "cellMetadata": {},
     "inputWidgets": {},
     "isMarkdownSandbox": true,
     "nuid": "ed8876c9-27ae-4355-96fe-685a57d58395",
     "showTitle": false,
     "tableResultSettingsMap": {},
     "title": ""
    }
   },
   "source": [
    "\n",
    "# Generative AI with Databricks\n",
    "\n",
    "## From Predictive to Prescriptive Maintenance\n",
    "Manufacturers face labor shortages, supply chain disruptions, and rising costs, making efficient maintenance essential. Despite investments in maintenance programs, many struggle to boost asset productivity due to technician shortages and poor knowledge-sharing systems. This leads to knowledge loss and operational inefficiencies.\n",
    "\n",
    "<div style=\"font-family: 'DM Sans';\">\n",
    "  <div style=\"width: 400px; color: #1b3139; margin-left: 50px; margin-right: 50px; float: left;\">\n",
    "    <div style=\"color: #ff5f46; font-size:50px;\">73%</div>\n",
    "    <div style=\"font-size:25px; margin-top: -20px; line-height: 30px;\">\n",
    "      of manufacturers struggle to recruit maintenance technicians — McKinsey (2023)\n",
    "    </div>\n",
    "    <div style=\"color: #ff5f46; font-size:50px;\">55%</div>\n",
    "    <div style=\"font-size:25px; margin-top: -20px; line-height: 30px;\">\n",
    "      of manufacturers lack formal knowledge-sharing systems — McKinsey (2023)\n",
    "    </div>\n",
    "  </div>\n",
    "</div>\n",
    "\n",
    "Generative AI can transform maintenance by reducing downtime and improving productivity. While predictive maintenance anticipates failures, Generative AI enables prescriptive maintenance. Using historical data, AI systems can identify issues, generate solutions, and assist technicians, allowing junior staff to perform effectively and freeing experts for complex tasks.\n",
    "<br><br>\n",
    "\n",
    "### From Models to Agent Systems\n",
    "Generative AI is moving from standalone models to modular agent systems ([Zaharia et al., 2024](https://bair.berkeley.edu/blog/2024/02/18/compound-ai-systems/)). These systems integrate retrievers, models, prompts, and tools to handle complex tasks. Their modular design allows seamless upgrades (e.g., integrating a new LLM) and adaptation to changing needs.\n",
    "\n",
    "<br><br>\n",
    "<img style=\"float: right; margin-top: 10px;\" width=\"700px\" src=\"https://raw.githubusercontent.com/databricks-demos/dbdemos-resources/refs/heads/main/images/manufacturing/lakehouse-iot-turbine/team_flow_liza.png\" />\n",
    "\n",
    "\n",
    "<br>\n",
    "<div style=\"font-size: 19px; margin-left: 0px; clear: left; padding-top: 10px; \">\n",
    "<img src=\"https://raw.githubusercontent.com/databricks-demos/dbdemos-resources/refs/heads/main/images/liza.png\" style=\"float: left;\" width=\"80px\"> \n",
    "<h3 style=\"padding: 10px 0px 0px 5px;\">Liza, a Generative AI engineer, uses the Databricks Intelligence Platform to:</h3>\n",
    "<ul style=\"list-style: none; padding: 0; margin-left: 05%;\">\n",
    "  <li style=\"margin-bottom: 10px; display: flex; align-items: center;\">\n",
    "    <div class=\"badge\" style=\"height: 30px; width: 30px; border-radius: 50%; background: #fcba33; color: white; text-align: center; line-height: 30px; font-weight: bold; margin-right: 10px;\">1</div>\n",
    "    Build real-time data pipelines\n",
    "  </li>\n",
    "  <li style=\"margin-bottom: 10px; display: flex; align-items: center;\">\n",
    "    <div class=\"badge\" style=\"height: 30px; width: 30px; border-radius: 50%; background: #fcba33; color: white; text-align: center; line-height: 30px; font-weight: bold; margin-right: 10px;\">2</div>\n",
    "    Retrieve vectors & features\n",
    "  </li>\n",
    "  <li style=\"margin-bottom: 10px; display: flex; align-items: center;\">\n",
    "    <div class=\"badge\" style=\"height: 30px; width: 30px; border-radius: 50%; background: #fcba33; color: white; text-align: center; line-height: 30px; font-weight: bold; margin-right: 10px;\">3</div>\n",
    "    Create AI agent tools\n",
    "  </li>\n",
    "  <li style=\"margin-bottom: 10px; display: flex; align-items: center;\">\n",
    "    <div class=\"badge\" style=\"height: 30px; width: 30px; border-radius: 50%; background: #fcba33; color: white; text-align: center; line-height: 30px; font-weight: bold; margin-right: 10px;\">4</div>\n",
    "    Build & deploy agents\n",
    "  </li>\n",
    "  <li style=\"margin-bottom: 10px; display: flex; align-items: center;\">\n",
    "    <div class=\"badge\" style=\"height: 30px; width: 30px; border-radius: 50%; background: #fcba33; color: white; text-align: center; line-height: 30px; font-weight: bold; margin-right: 10px;\">5</div>\n",
    "    Operate in batch or real-time\n",
    "  </li>\n",
    "  <li style=\"display: flex; align-items: center;\">\n",
    "    <div class=\"badge\" style=\"height: 30px; width: 30px; border-radius: 50%; background: #fcba33; color: white; text-align: center; line-height: 30px; font-weight: bold; margin-right: 10px;\">6</div>\n",
    "    Evaluate agent performance\n",
    "  </li>\n",
    "</ul>\n",
    "</div>\n",
    "\n",
    "**Databricks empowers Liza with a Data + AI platform for Prescriptive Maintenance.** Let’s explore how to deploy this in production.\n",
    "\n",
    "<img width=\"1px\" src=\"https://ppxrzfxige.execute-api.us-west-2.amazonaws.com/v1/analytics?category=lakehouse&org_id=4003492105941350&notebook=%2F05-Generative-AI%2F05.1-ai-tools-iot-turbine-prescriptive-maintenance&demo_name=lakehouse-iot-platform&event=VIEW&path=%2F_dbdemos%2Flakehouse%2Flakehouse-iot-platform%2F05-Generative-AI%2F05.1-ai-tools-iot-turbine-prescriptive-maintenance&version=1\">"
   ]
  },
  {
   "cell_type": "markdown",
   "metadata": {
    "application/vnd.databricks.v1+cell": {
     "cellMetadata": {},
     "inputWidgets": {},
     "isMarkdownSandbox": true,
     "nuid": "59e1e932-8e37-4dfc-94da-1e699932eb5c",
     "showTitle": false,
     "tableResultSettingsMap": {},
     "title": ""
    }
   },
   "source": [
    "## Building Agent Systems with Databricks Mosaic AI agent framework\n",
    "\n",
    "We will build an Agent System designed to generate prescriptive work orders for wind turbine maintenance technicians. This system integrates multiple interacting components to ensure proactive and efficient maintenance, thereby optimizing the overall equipment effectiveness.\n",
    "\n",
    "<img src=\"https://raw.githubusercontent.com/databricks-demos/dbdemos-resources/refs/heads/main/images/manufacturing/lakehouse-iot-turbine/iot_agent_graph_v2_0.png\" style=\"margin-left: 5px; float: right\"  width=\"1000px;\">\n",
    "\n",
    "Databricks simplifies this by providing a built-in service to:\n",
    "\n",
    "- Create and store your AI tools leveraging UC functions\n",
    "- Execute the AI tools in a safe way\n",
    "- Use agents to reason about the tools you selected and chain them together to properly answer your question. \n",
    "\n",
    "\n",
    "This notebook creates the three Mosaic AI tools and associated Mosaic AI endpoints, which will be composed together into a agent in notebook [05.2-agent-creation-guide]($./05.2-agent-creation-guide).\n",
    "1. **Turbine predictor** which uses a Model Serving endpoint to predict turbines at risk of failure.\n",
    "2. **Turbine specifications retriever** which retrieve the turbine specifications based on its id.\n",
    "3. **Turbine maintenance guide**  which uses a Vector Search endpoint to retrieve maintenance guide based on the turbines and issues being adressed."
   ]
  },
  {
   "cell_type": "code",
   "execution_count": 0,
   "metadata": {
    "application/vnd.databricks.v1+cell": {
     "cellMetadata": {
      "byteLimit": 2048000,
      "rowLimit": 10000
     },
     "inputWidgets": {},
     "nuid": "6760fd38-9a07-4df9-a04d-63e3b975e9ae",
     "showTitle": true,
     "tableResultSettingsMap": {},
     "title": "Install required external libraries"
    }
   },
   "outputs": [
    {
     "output_type": "stream",
     "name": "stdout",
     "output_type": "stream",
     "text": [
      "Requirement already satisfied: databricks-sdk==0.40.0 in /databricks/python3/lib/python3.11/site-packages (0.40.0)\nRequirement already satisfied: requests<3,>=2.28.1 in /databricks/python3/lib/python3.11/site-packages (from databricks-sdk==0.40.0) (2.31.0)\nRequirement already satisfied: google-auth~=2.0 in /databricks/python3/lib/python3.11/site-packages (from databricks-sdk==0.40.0) (2.35.0)\nRequirement already satisfied: cachetools<6.0,>=2.0.0 in /databricks/python3/lib/python3.11/site-packages (from google-auth~=2.0->databricks-sdk==0.40.0) (5.5.0)\nRequirement already satisfied: pyasn1-modules>=0.2.1 in /databricks/python3/lib/python3.11/site-packages (from google-auth~=2.0->databricks-sdk==0.40.0) (0.2.8)\nRequirement already satisfied: rsa<5,>=3.1.4 in /databricks/python3/lib/python3.11/site-packages (from google-auth~=2.0->databricks-sdk==0.40.0) (4.9)\nRequirement already satisfied: charset-normalizer<4,>=2 in /databricks/python3/lib/python3.11/site-packages (from requests<3,>=2.28.1->databricks-sdk==0.40.0) (2.0.4)\nRequirement already satisfied: idna<4,>=2.5 in /databricks/python3/lib/python3.11/site-packages (from requests<3,>=2.28.1->databricks-sdk==0.40.0) (3.4)\nRequirement already satisfied: urllib3<3,>=1.21.1 in /databricks/python3/lib/python3.11/site-packages (from requests<3,>=2.28.1->databricks-sdk==0.40.0) (1.26.16)\nRequirement already satisfied: certifi>=2017.4.17 in /databricks/python3/lib/python3.11/site-packages (from requests<3,>=2.28.1->databricks-sdk==0.40.0) (2023.7.22)\nRequirement already satisfied: pyasn1<0.5.0,>=0.4.6 in /databricks/python3/lib/python3.11/site-packages (from pyasn1-modules>=0.2.1->google-auth~=2.0->databricks-sdk==0.40.0) (0.4.8)\n\u001B[43mNote: you may need to restart the kernel using %restart_python or dbutils.library.restartPython() to use updated packages.\u001B[0m\n"
     ]
    }
   ],
   "source": [
    "%pip install databricks-sdk==0.40.0 \n",
    "dbutils.library.restartPython()"
   ]
  },
  {
   "cell_type": "code",
   "execution_count": 0,
   "metadata": {
    "application/vnd.databricks.v1+cell": {
     "cellMetadata": {
      "byteLimit": 2048000,
      "rowLimit": 10000
     },
     "inputWidgets": {},
     "nuid": "8edbbc63-4184-4f4f-9a32-631fc0387c0e",
     "showTitle": true,
     "tableResultSettingsMap": {},
     "title": "Initializing the Application"
    },
    "jupyter": {
     "outputs_hidden": true
    }
   },
   "outputs": [
    {
     "output_type": "display_data",
     "data": {
      "text/markdown": [
       "## Configuration file\n",
       "\n",
       "Please change your catalog and schema here to run the demo on a different catalog.\n",
       "\n",
       " \n",
       "<!-- Collect usage data (view). Remove it to disable collection. View README for more details.  -->\n",
       "<img width=\"1px\" src=\"https://ppxrzfxige.execute-api.us-west-2.amazonaws.com/v1/analytics?category=lakehouse&org_id=4003492105941350&notebook=%2Fconfig&demo_name=lakehouse-iot-platform&event=VIEW&path=%2F_dbdemos%2Flakehouse%2Flakehouse-iot-platform%2Fconfig&version=1\">"
      ]
     },
     "metadata": {},
     "output_type": "display_data"
    },
    {
     "output_type": "display_data",
     "data": {
      "text/markdown": [
       "\n",
       "# Technical Setup notebook. Hide this cell results\n",
       "Initialize dataset to the current user and cleanup data when reset_all_data is set to true\n",
       "\n",
       "Do not edit"
      ]
     },
     "metadata": {},
     "output_type": "display_data"
    },
    {
     "output_type": "stream",
     "name": "stdout",
     "output_type": "stream",
     "text": [
      "USE CATALOG `main`\nusing catalog.database `main`.`dbdemos_iot_turbine`\n"
     ]
    },
    {
     "output_type": "stream",
     "name": "stdout",
     "output_type": "stream",
     "text": [
      "data already existing. Run with reset_all_data=true to force a data cleanup for your local demo.\n"
     ]
    }
   ],
   "source": [
    "%run ../_resources/00-setup $reset_all_data=false"
   ]
  },
  {
   "cell_type": "code",
   "execution_count": 0,
   "metadata": {
    "application/vnd.databricks.v1+cell": {
     "cellMetadata": {
      "byteLimit": 2048000,
      "implicitDf": true,
      "rowLimit": 10000
     },
     "inputWidgets": {},
     "nuid": "dac142d0-6b92-412c-849a-e55d562d8790",
     "showTitle": false,
     "tableResultSettingsMap": {},
     "title": ""
    }
   },
   "outputs": [],
   "source": [
    "%sql\n",
    "DROP FUNCTION IF EXISTS turbine_specifications_retriever;\n",
    "\n",
    "--turbine_specifications_retriever to get the current status of a turbine\n",
    "--This function is used to retrieve the turbine specifications based on its id\n",
    "\n",
    "CREATE OR REPLACE FUNCTION \n",
    "turbine_specifications_retriever(turbine_id STRING COMMENT 'ID of the wind turbine to look up')\n",
    "RETURNS TABLE (\n",
    "  avg_energy DOUBLE COMMENT 'Average energy reading',\n",
    "  std_sensor_A DOUBLE COMMENT 'Sensor A reading',\n",
    "  std_sensor_B DOUBLE COMMENT 'Sensor B reading',\n",
    "  std_sensor_C DOUBLE COMMENT 'Sensor C reading',\n",
    "  std_sensor_D DOUBLE COMMENT 'Sensor D reading',\n",
    "  std_sensor_E DOUBLE COMMENT 'Sensor E reading',\n",
    "  std_sensor_F DOUBLE COMMENT 'Sensor F reading'\n",
    ")\n",
    "LANGUAGE SQL\n",
    "COMMENT 'This function retrieves the turbine sensor readings / specifications based on the turbine_id'\n",
    "RETURN\n",
    "(\n",
    "SELECT \n",
    "\n",
    "avg_energy, std_sensor_A, std_sensor_B, std_sensor_C, std_sensor_D, std_sensor_E, std_sensor_F\n",
    "FROM main.dbdemos_iot_turbine.turbine_current_features\n",
    "WHERE turbine_id = turbine_specifications_retriever.turbine_id\n",
    "SORT BY hourly_timestamp DESC\n",
    "limit 1\n",
    ");"
   ]
  },
  {
   "cell_type": "code",
   "execution_count": 0,
   "metadata": {
    "application/vnd.databricks.v1+cell": {
     "cellMetadata": {
      "byteLimit": 2048000,
      "implicitDf": true,
      "rowLimit": 10000
     },
     "inputWidgets": {},
     "nuid": "f0a8eb73-5828-4bfe-ab98-c1f83c727102",
     "showTitle": false,
     "tableResultSettingsMap": {
      "0": {
       "dataGridStateBlob": "{\"version\":1,\"tableState\":{\"columnPinning\":{\"left\":[\"#row_number#\"],\"right\":[]},\"columnSizing\":{},\"columnVisibility\":{}},\"settings\":{\"columns\":{}},\"syncTimestamp\":1753544700778}",
       "filterBlob": null,
       "queryPlanFiltersBlob": null,
       "tableResultIndex": 0
      }
     },
     "title": ""
    }
   },
   "outputs": [],
   "source": [
    "%sql\n",
    "SELECT * FROM turbine_specifications_retriever('004a641f-e9e5-9fff-d421-1bf88319420b')\n",
    "\n"
   ]
  }
 ],
 "metadata": {
  "application/vnd.databricks.v1+notebook": {
   "computePreferences": {
    "hardware": {
     "accelerator": null,
     "gpuPoolId": null,
     "memory": null
    }
   },
   "dashboards": [],
   "environmentMetadata": {
    "environment_version": "2"
   },
   "inputWidgetPreferences": null,
   "language": "python",
   "notebookMetadata": {
    "mostRecentlyExecutedCommandWithImplicitDF": {
     "commandId": 7927879488542261,
     "dataframes": [
      "_sqldf"
     ]
    },
    "pythonIndentUnit": 4
   },
   "notebookName": "05.0-ai-tools",
   "widgets": {}
  },
  "language_info": {
   "name": "python"
  }
 },
 "nbformat": 4,
 "nbformat_minor": 0
}
