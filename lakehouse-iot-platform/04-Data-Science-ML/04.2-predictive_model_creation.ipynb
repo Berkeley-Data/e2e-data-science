{
 "cells": [
  {
   "cell_type": "markdown",
   "metadata": {
    "application/vnd.databricks.v1+cell": {
     "cellMetadata": {
      "byteLimit": 2048000,
      "rowLimit": 10000
     },
     "inputWidgets": {},
     "nuid": "796dbd51-d7e2-4efd-8b98-fa0fe6ae863e",
     "showTitle": false,
     "tableResultSettingsMap": {},
     "title": ""
    }
   },
   "source": [
    "&nbsp;\n",
    "&nbsp;\n",
    "![](../_resources/images/e2eai-4.jpg)"
   ]
  },
  {
   "cell_type": "markdown",
   "metadata": {
    "application/vnd.databricks.v1+cell": {
     "cellMetadata": {
      "byteLimit": 2048000,
      "rowLimit": 10000
     },
     "inputWidgets": {},
     "isMarkdownSandbox": true,
     "nuid": "fff79d53-904b-42c3-96ef-1e22969cbd3a",
     "showTitle": false,
     "tableResultSettingsMap": {},
     "title": ""
    }
   },
   "source": [
    "\n",
    "# Data Science with Databricks\n",
    "\n",
    "## ML is key to wind turbine farm optimization\n",
    "\n",
    "The current market makes energy even more strategic than before. Being able to ingest and analyze our Wind turbine state is a first step, but this isn't enough to thrive in a very competitive market.\n",
    "\n",
    "We need to go further to optimize our energy production, reduce maintenance cost and reduce downtime. Modern data company achieve this with AI.\n",
    "\n",
    "<style>\n",
    ".right_box{\n",
    "  margin: 30px; box-shadow: 10px -10px #CCC; width:650px;height:300px; background-color: #1b3139ff; box-shadow:  0 0 10px  rgba(0,0,0,0.6);\n",
    "  border-radius:25px;font-size: 35px; float: left; padding: 20px; color: #f9f7f4; }\n",
    ".badge {\n",
    "  clear: left; float: left; height: 30px; width: 30px;  display: table-cell; vertical-align: middle; border-radius: 50%; background: #fcba33ff; text-align: center; color: white; margin-right: 10px}\n",
    ".badge_b { \n",
    "  height: 35px}\n",
    "</style>\n",
    "<link href='https://fonts.googleapis.com/css?family=DM Sans' rel='stylesheet'>\n",
    "<div style=\"font-family: 'DM Sans'; display: flex; align-items: flex-start;\">\n",
    "  <!-- Left Section -->\n",
    "  <div style=\"width: 50%; color: #1b3139; padding-right: 20px;\">\n",
    "    <div style=\"color: #ff5f46; font-size:80px;\">90%</div>\n",
    "    <div style=\"font-size:30px; margin-top: -20px; line-height: 30px;\">\n",
    "      Enterprise applications will be AI-augmented by 2025 —IDC\n",
    "    </div>\n",
    "    <div style=\"color: #ff5f46; font-size:80px;\">$10T+</div>\n",
    "    <div style=\"font-size:30px; margin-top: -20px; line-height: 30px;\">\n",
    "       Projected business value creation by AI in 2030 —PWC\n",
    "    </div>\n",
    "  </div>\n",
    "\n",
    "  <!-- Right Section -->\n",
    "  <div class=\"right_box\", style=\"width: 50%; color: red; font-size: 30px; line-height: 1.5; padding-left: 20px;\">\n",
    "    But—huge challenges getting ML to work at scale!<br/><br/>\n",
    "    In fact, most ML projects still fail before getting to production\n",
    "  </div>\n",
    "</div>\n",
    "\n",
    "## Machine learning is data + transforms.\n",
    "\n",
    "ML is hard because delivering value to business lines isn't only about building a Model. <br>\n",
    "The ML lifecycle is made of data pipelines: Data-preprocessing, feature engineering, training, inference, monitoring and retraining...<br>\n",
    "Stepping back, all pipelines are data + code.\n",
    "\n",
    "\n",
    "<img style=\"float: right; margin-top: 10px\" width=\"500px\" src=\"https://raw.githubusercontent.com/databricks-demos/dbdemos-resources/refs/heads/main/images/manufacturing/lakehouse-iot-turbine/team_flow_marc.png\" />\n",
    "\n",
    "<img src=\"https://raw.githubusercontent.com/databricks-demos/dbdemos-resources/refs/heads/main/images/marc.png\" style=\"float: left;\" width=\"80px\"> \n",
    "<h3 style=\"padding: 10px 0px 0px 5px\">Marc, as a Data Scientist, needs a data + ML platform accelerating all the ML & DS steps:</h3>\n",
    "\n",
    "<div style=\"font-size: 19px; margin-left: 73px; clear: left\">\n",
    "<div class=\"badge_b\"><div class=\"badge\">1</div> Build Data Pipeline</div>\n",
    "<div class=\"badge_b\"><div class=\"badge\">2</div> Data Exploration</div>\n",
    "<div class=\"badge_b\"><div class=\"badge\">3</div> Feature creation</div>\n",
    "<div class=\"badge_b\"><div class=\"badge\">4</div> Build & train model</div>\n",
    "<div class=\"badge_b\"><div class=\"badge\">5</div> Deploy Model (Batch or serverless realtime)</div>\n",
    "<div class=\"badge_b\"><div class=\"badge\">6</div> Monitoring</div>\n",
    "</div>\n",
    "\n",
    "**Marc needs a Data Intelligence Platform**. Let's see how we can deploy a Predictive Maintenance model in production with Databricks."
   ]
  },
  {
   "cell_type": "markdown",
   "metadata": {
    "application/vnd.databricks.v1+cell": {
     "cellMetadata": {
      "byteLimit": 2048000,
      "rowLimit": 10000
     },
     "inputWidgets": {},
     "nuid": "035b2c73-69a2-4668-af0f-9c61370a10a6",
     "showTitle": false,
     "tableResultSettingsMap": {},
     "title": ""
    }
   },
   "source": [
    "\n",
    "# Predictive maintenance\n",
    "\n",
    "Let's see how we can now leverage the sensor data to build a model predictive maintenance model.\n",
    "\n",
    "Our first step as Data Scientist is to analyze and build the features we'll use to train our model.\n",
    "\n",
    "The sensor table enriched with turbine data has been saved within our Delta Live Table pipeline. All we have to do is read this information, analyze it and create an ML model.\n",
    "\n",
    "<img src=\"https://github.com/databricks-demos/dbdemos-resources/raw/main/images/manufacturing/lakehouse-iot-turbine/lakehouse-manuf-iot-ds-flow.png\" width=\"1000px\">\n",
    "\n",
    "\n",
    "\n",
    "<!-- Collect usage data (view). Remove it to disable collection. View README for more details.  -->\n",
    "<img width=\"1px\" src=\"https://ppxrzfxige.execute-api.us-west-2.amazonaws.com/v1/analytics?category=lakehouse&org_id=4003492105941350&notebook=%2F04-Data-Science-ML%2F04.1-automl-iot-turbine-predictive-maintenance&demo_name=lakehouse-iot-platform&event=VIEW&path=%2F_dbdemos%2Flakehouse%2Flakehouse-iot-platform%2F04-Data-Science-ML%2F04.1-automl-iot-turbine-predictive-maintenance&version=1\">"
   ]
  },
  {
   "cell_type": "code",
   "execution_count": 0,
   "metadata": {
    "application/vnd.databricks.v1+cell": {
     "cellMetadata": {
      "byteLimit": 2048000,
      "rowLimit": 10000
     },
     "inputWidgets": {},
     "nuid": "6be02e7b-2438-4986-95e3-2d4c8c68a12b",
     "showTitle": false,
     "tableResultSettingsMap": {},
     "title": ""
    }
   },
   "outputs": [
    {
     "output_type": "stream",
     "name": "stdout",
     "output_type": "stream",
     "text": [
      "\u001B[31mERROR: pip's dependency resolver does not currently take into account all the packages that are installed. This behaviour is the source of the following dependency conflicts.\ndatabricks-connect 16.4.6 requires databricks-sdk>=0.46.0, but you have databricks-sdk 0.40.0 which is incompatible.\u001B[0m\u001B[31m\n\u001B[0m\u001B[43mNote: you may need to restart the kernel using %restart_python or dbutils.library.restartPython() to use updated packages.\u001B[0m\n"
     ]
    }
   ],
   "source": [
    "%pip install --quiet databricks-sdk==0.40.0 mlflow==2.22.0 optuna optuna-integration[mlflow] xgboost\n",
    "dbutils.library.restartPython()"
   ]
  },
  {
   "cell_type": "code",
   "execution_count": 0,
   "metadata": {
    "application/vnd.databricks.v1+cell": {
     "cellMetadata": {
      "byteLimit": 2048000,
      "rowLimit": 10000
     },
     "inputWidgets": {},
     "nuid": "fbca96a8-dd37-43ae-88b3-1202b9bc77a2",
     "showTitle": false,
     "tableResultSettingsMap": {},
     "title": ""
    },
    "jupyter": {
     "outputs_hidden": true
    }
   },
   "outputs": [
    {
     "output_type": "display_data",
     "data": {
      "text/markdown": [
       "## Configuration file\n",
       "\n",
       "Please change your catalog and schema here to run the demo on a different catalog.\n",
       "\n",
       " \n",
       "<!-- Collect usage data (view). Remove it to disable collection. View README for more details.  -->\n",
       "<img width=\"1px\" src=\"https://ppxrzfxige.execute-api.us-west-2.amazonaws.com/v1/analytics?category=lakehouse&org_id=4003492105941350&notebook=%2Fconfig&demo_name=lakehouse-iot-platform&event=VIEW&path=%2F_dbdemos%2Flakehouse%2Flakehouse-iot-platform%2Fconfig&version=1\">"
      ]
     },
     "metadata": {},
     "output_type": "display_data"
    },
    {
     "output_type": "display_data",
     "data": {
      "text/markdown": [
       "\n",
       "# Technical Setup notebook. Hide this cell results\n",
       "Initialize dataset to the current user and cleanup data when reset_all_data is set to true\n",
       "\n",
       "Do not edit"
      ]
     },
     "metadata": {},
     "output_type": "display_data"
    },
    {
     "output_type": "stream",
     "name": "stdout",
     "output_type": "stream",
     "text": [
      "USE CATALOG `main`\nusing catalog.database `main`.`e2eai_iot_turbine`\n"
     ]
    },
    {
     "output_type": "stream",
     "name": "stdout",
     "output_type": "stream",
     "text": [
      "data already existing. Run with reset_all_data=true to force a data cleanup for your local demo.\n"
     ]
    }
   ],
   "source": [
    "%run ../_resources/00-setup $reset_all_data=false"
   ]
  },
  {
   "cell_type": "code",
   "execution_count": 0,
   "metadata": {
    "application/vnd.databricks.v1+cell": {
     "cellMetadata": {
      "byteLimit": 2048000,
      "rowLimit": 10000
     },
     "inputWidgets": {},
     "nuid": "5f0410a6-bf3e-41e8-979b-b07425dde7bc",
     "showTitle": false,
     "tableResultSettingsMap": {},
     "title": ""
    }
   },
   "outputs": [
    {
     "output_type": "stream",
     "name": "stderr",
     "output_type": "stream",
     "text": [
      "Exception ignored on calling ctypes callback function: <function _ThreadpoolInfo._find_modules_with_dl_iterate_phdr.<locals>.match_module_callback at 0xffea35db1e40>\nTraceback (most recent call last):\n  File \"/databricks/python/lib/python3.12/site-packages/threadpoolctl.py\", line 400, in match_module_callback\n    self._make_module_from_path(filepath)\n  File \"/databricks/python/lib/python3.12/site-packages/threadpoolctl.py\", line 515, in _make_module_from_path\n    module = module_class(filepath, prefix, user_api, internal_api)\n             ^^^^^^^^^^^^^^^^^^^^^^^^^^^^^^^^^^^^^^^^^^^^^^^^^^^^^^\n  File \"/databricks/python/lib/python3.12/site-packages/threadpoolctl.py\", line 606, in __init__\n    self.version = self.get_version()\n                   ^^^^^^^^^^^^^^^^^^\n  File \"/databricks/python/lib/python3.12/site-packages/threadpoolctl.py\", line 646, in get_version\n    config = get_config().split()\n             ^^^^^^^^^^^^^^^^^^\nAttributeError: 'NoneType' object has no attribute 'split'\n"
     ]
    }
   ],
   "source": [
    "\n",
    "from sklearn.model_selection import train_test_split\n",
    "from sklearn.preprocessing import StandardScaler\n",
    "from sklearn.linear_model import LogisticRegression\n",
    "from sklearn.metrics import (\n",
    "    accuracy_score,\n",
    "    precision_score,\n",
    "    recall_score,\n",
    "    f1_score\n",
    ")\n",
    "\n",
    "from xgboost import XGBClassifier\n",
    "import numpy as np\n",
    "import pandas as pd\n",
    "import mlflow\n",
    "from mlflow.models import infer_signature\n",
    "from mlflow import MlflowClient\n",
    "from mlflow.deployments import get_deploy_client\n",
    "import optuna\n",
    "from optuna.integration.mlflow import MLflowCallback\n",
    "import os\n",
    "import requests\n",
    "import json\n"
   ]
  },
  {
   "cell_type": "markdown",
   "metadata": {
    "application/vnd.databricks.v1+cell": {
     "cellMetadata": {
      "byteLimit": 2048000,
      "rowLimit": 10000
     },
     "inputWidgets": {},
     "isMarkdownSandbox": true,
     "nuid": "3c8305a2-5b76-49f1-ae8d-ad13c436e3b2",
     "showTitle": false,
     "tableResultSettingsMap": {},
     "title": ""
    }
   },
   "source": [
    "\n",
    "## Accelerating Predictive maintenance model creation using MLFlow in Databricks\n",
    "\n",
    "MLflow is an open source project allowing model tracking, packaging and deployment. Everytime your datascientist team work on a model, Databricks will track all the parameter and data used and will save it. This ensure ML traceability and reproductibility, making it easy to know which model was build using which parameters/data.\n",
    "\n",
    "### A glass-box solution that empowers data teams without taking away control\n",
    "\n",
    "While Databricks simplify model deployment and governance (MLOps) with MLFlow, bootstraping new ML projects can still be long and inefficient. \n",
    "\n",
    "\n",
    "<img width=\"1000\" src=\"https://github.com/QuentinAmbard/databricks-demo/raw/main/retail/resources/images/auto-ml-full.png\"/>\n",
    "\n",
    "\n",
    "Models can be directly deployed, or instead leverage generated notebooks to boostrap projects with best-practices, saving you weeks of efforts.\n",
    "\n",
    "<br style=\"clear: both\">\n",
    "\n",
    "<img width=\"600\" src=\"https://github.com/QuentinAmbard/databricks-demo/raw/main/retail/resources/images/churn-auto-ml.png\"/>\n",
    "\n"
   ]
  },
  {
   "cell_type": "code",
   "execution_count": 0,
   "metadata": {
    "application/vnd.databricks.v1+cell": {
     "cellMetadata": {
      "byteLimit": 2048000,
      "rowLimit": 10000
     },
     "inputWidgets": {},
     "nuid": "2f127e71-d271-4c54-93c3-a8487dafe0e3",
     "showTitle": false,
     "tableResultSettingsMap": {},
     "title": ""
    }
   },
   "outputs": [],
   "source": [
    "mlflow.set_registry_uri('databricks-uc')"
   ]
  },
  {
   "cell_type": "markdown",
   "metadata": {
    "application/vnd.databricks.v1+cell": {
     "cellMetadata": {
      "byteLimit": 2048000,
      "rowLimit": 10000
     },
     "inputWidgets": {},
     "nuid": "0480eb80-fdee-4b76-b0c4-5ca2fcd5dbda",
     "showTitle": false,
     "tableResultSettingsMap": {},
     "title": ""
    }
   },
   "source": [
    "### Create Train / Test Splits"
   ]
  },
  {
   "cell_type": "code",
   "execution_count": 0,
   "metadata": {
    "application/vnd.databricks.v1+cell": {
     "cellMetadata": {
      "byteLimit": 2048000,
      "rowLimit": 10000
     },
     "inputWidgets": {},
     "nuid": "3184677c-828e-4d27-9fcd-3cf671d80d50",
     "showTitle": false,
     "tableResultSettingsMap": {},
     "title": ""
    }
   },
   "outputs": [],
   "source": [
    "features_table_name=f'{catalog}.{db}.turbine_hourly_features'\n",
    "\n",
    "# Read training dataset from catalog\n",
    "training_dataset = spark.table(features_table_name).drop('turbine_id')\n",
    "\n",
    "# Prepare features and labels\n",
    "X = training_dataset.toPandas()[['avg_energy', 'std_sensor_A', 'std_sensor_B', 'std_sensor_C', 'std_sensor_D', 'std_sensor_E', 'std_sensor_F']]\n",
    "\n",
    "y = training_dataset.toPandas()['abnormal_sensor']\n",
    "\n",
    "# Encode labels\n",
    "y_encoded = pd.factorize(y)[0]\n",
    "\n",
    "# Split the dataset into train and test\n",
    "X_train, X_test, y_train, y_test = train_test_split(\n",
    "    X,\n",
    "    y_encoded,\n",
    "    test_size=0.2, \n",
    "    random_state=42\n",
    ")\n"
   ]
  },
  {
   "cell_type": "code",
   "execution_count": 0,
   "metadata": {
    "application/vnd.databricks.v1+cell": {
     "cellMetadata": {
      "byteLimit": 2048000,
      "rowLimit": 10000
     },
     "inputWidgets": {},
     "nuid": "4d68cc5c-19aa-437e-b9c8-75887cb025a7",
     "showTitle": false,
     "tableResultSettingsMap": {},
     "title": ""
    }
   },
   "outputs": [
    {
     "output_type": "execute_result",
     "data": {
      "text/plain": [
       "inputs: \n",
       "  ['avg_energy': double (required), 'std_sensor_A': double (required), 'std_sensor_B': double (required), 'std_sensor_C': double (required), 'std_sensor_D': double (required), 'std_sensor_E': double (required), 'std_sensor_F': double (required)]\n",
       "outputs: \n",
       "  [Tensor('int64', (-1,))]\n",
       "params: \n",
       "  None"
      ]
     },
     "execution_count": 16,
     "metadata": {},
     "output_type": "execute_result"
    }
   ],
   "source": [
    "\n",
    "# Save the signature (an example of the model input)\n",
    "signature = infer_signature(X_train, y_train)\n",
    "signature"
   ]
  },
  {
   "cell_type": "code",
   "execution_count": 0,
   "metadata": {
    "application/vnd.databricks.v1+cell": {
     "cellMetadata": {
      "byteLimit": 2048000,
      "rowLimit": 10000
     },
     "inputWidgets": {},
     "nuid": "1e6c59c1-4d3b-453c-acb0-d8d589292192",
     "showTitle": false,
     "tableResultSettingsMap": {},
     "title": ""
    }
   },
   "outputs": [
    {
     "output_type": "execute_result",
     "data": {
      "text/html": [
       "<div>\n",
       "<style scoped>\n",
       "    .dataframe tbody tr th:only-of-type {\n",
       "        vertical-align: middle;\n",
       "    }\n",
       "\n",
       "    .dataframe tbody tr th {\n",
       "        vertical-align: top;\n",
       "    }\n",
       "\n",
       "    .dataframe thead th {\n",
       "        text-align: right;\n",
       "    }\n",
       "</style>\n",
       "<table border=\"1\" class=\"dataframe\">\n",
       "  <thead>\n",
       "    <tr style=\"text-align: right;\">\n",
       "      <th></th>\n",
       "      <th>avg_energy</th>\n",
       "      <th>std_sensor_A</th>\n",
       "      <th>std_sensor_B</th>\n",
       "      <th>std_sensor_C</th>\n",
       "      <th>std_sensor_D</th>\n",
       "      <th>std_sensor_E</th>\n",
       "      <th>std_sensor_F</th>\n",
       "    </tr>\n",
       "  </thead>\n",
       "  <tbody>\n",
       "    <tr>\n",
       "      <th>2279</th>\n",
       "      <td>0.927237</td>\n",
       "      <td>1.100594</td>\n",
       "      <td>2.021509</td>\n",
       "      <td>3.124961</td>\n",
       "      <td>2.277981</td>\n",
       "      <td>3.052224</td>\n",
       "      <td>5.503263</td>\n",
       "    </tr>\n",
       "  </tbody>\n",
       "</table>\n",
       "</div>"
      ],
      "text/plain": [
       "      avg_energy  std_sensor_A  ...  std_sensor_E  std_sensor_F\n",
       "2279    0.927237      1.100594  ...      3.052224      5.503263\n",
       "\n",
       "[1 rows x 7 columns]"
      ]
     },
     "execution_count": 17,
     "metadata": {},
     "output_type": "execute_result"
    },
    {
     "output_type": "display_data",
     "data": {
      "application/vnd.databricks.v1+display_df_hint": {
       "mode": "should_hint",
       "name": "input_example",
       "type": "pandas.core.frame.DataFrame"
      }
     },
     "metadata": {},
     "output_type": "display_data"
    }
   ],
   "source": [
    "\n",
    "# This ensures column names are included\n",
    "input_example = X_train.iloc[[0]]  # Picks first row, keeps column names!\n",
    "input_example"
   ]
  },
  {
   "cell_type": "markdown",
   "metadata": {
    "application/vnd.databricks.v1+cell": {
     "cellMetadata": {
      "byteLimit": 2048000,
      "rowLimit": 10000
     },
     "inputWidgets": {},
     "nuid": "41bd3e1e-e912-4c91-9584-d97efafd111f",
     "showTitle": false,
     "tableResultSettingsMap": {},
     "title": ""
    }
   },
   "source": [
    "### Build Logistic Regression Model"
   ]
  },
  {
   "cell_type": "code",
   "execution_count": 0,
   "metadata": {
    "application/vnd.databricks.v1+cell": {
     "cellMetadata": {
      "byteLimit": 2048000,
      "rowLimit": 10000
     },
     "inputWidgets": {},
     "nuid": "4a7adcad-84f7-4cc2-a20e-2c5f13de9f42",
     "showTitle": false,
     "tableResultSettingsMap": {},
     "title": ""
    }
   },
   "outputs": [
    {
     "output_type": "display_data",
     "data": {
      "application/vnd.jupyter.widget-view+json": {
       "model_id": "22a3c3a0c44d48e39058a29609ef5571",
       "version_major": 2,
       "version_minor": 0
      },
      "text/plain": [
       "Uploading artifacts:   0%|          | 0/11 [00:00<?, ?it/s]"
      ]
     },
     "metadata": {},
     "output_type": "display_data"
    },
    {
     "output_type": "stream",
     "name": "stdout",
     "output_type": "stream",
     "text": [
      "Logged with accuracy: 0.9693165969316597\n"
     ]
    }
   ],
   "source": [
    "# ML model versions in UC must have a model signature (Or input example). If you want to set a signature on a model that's already logged or saved, the mlflow.models.set_signature() API is available for this purpose.\n",
    "\n",
    "\n",
    "# Start MLflow run\n",
    "with mlflow.start_run(run_name=\"Logistic Regression Run\"):\n",
    "\n",
    "    # Define and train the model\n",
    "    lr_model = LogisticRegression(max_iter=200)\n",
    "    lr_model.fit(X_train, y_train)\n",
    "\n",
    "\n",
    "    # Predict and evaluate\n",
    "    predictions = lr_model.predict(X_test)\n",
    "\n",
    "    acc = accuracy_score(y_test, predictions)\n",
    "    precision = precision_score(y_test, predictions, average=\"macro\")\n",
    "    recall = recall_score(y_test, predictions, average=\"macro\")\n",
    "    f1 = f1_score(y_test, predictions, average=\"macro\")\n",
    "\n",
    "    # Log model parameters\n",
    "    mlflow.set_tag(\"model_family\", \"LogisticRegression\")\n",
    "    mlflow.log_param(\"max_iter\", 200)\n",
    "\n",
    "    # Log metrics\n",
    "    mlflow.log_metric(\"accuracy\", acc)\n",
    "    mlflow.log_metric(\"precision\", precision)\n",
    "    mlflow.log_metric(\"recall\", recall)\n",
    "    mlflow.log_metric(\"f1_score\", f1)\n",
    "\n",
    "    # Log the model\n",
    "    mlflow.sklearn.log_model(lr_model, \n",
    "                            artifact_path=\"logreg_model\",\n",
    "                            input_example=input_example,\n",
    "                            signature=signature,\n",
    "                            #  registered_model_name=\"main.dbdemos_iot_turbine.dbdemos_turbine_maintenance\"\n",
    "                            )\n",
    "\n",
    "    print(f\"Logged with accuracy: {acc}\")\n"
   ]
  },
  {
   "cell_type": "markdown",
   "metadata": {
    "application/vnd.databricks.v1+cell": {
     "cellMetadata": {
      "byteLimit": 2048000,
      "rowLimit": 10000
     },
     "inputWidgets": {},
     "nuid": "56fa11e8-b2e5-4132-bde3-57fce41267e4",
     "showTitle": false,
     "tableResultSettingsMap": {},
     "title": ""
    }
   },
   "source": [
    "### Build XGBoost Model"
   ]
  },
  {
   "cell_type": "code",
   "execution_count": 0,
   "metadata": {
    "application/vnd.databricks.v1+cell": {
     "cellMetadata": {
      "byteLimit": 2048000,
      "rowLimit": 10000
     },
     "inputWidgets": {},
     "nuid": "7c19529a-8ddb-43c0-ab3e-bf6bbb031111",
     "showTitle": false,
     "tableResultSettingsMap": {},
     "title": ""
    }
   },
   "outputs": [
    {
     "output_type": "display_data",
     "data": {
      "application/vnd.jupyter.widget-view+json": {
       "model_id": "fbce040f58594e0fa2464d14fc9e2512",
       "version_major": 2,
       "version_minor": 0
      },
      "text/plain": [
       "Uploading artifacts:   0%|          | 0/11 [00:00<?, ?it/s]"
      ]
     },
     "metadata": {},
     "output_type": "display_data"
    },
    {
     "output_type": "stream",
     "name": "stdout",
     "output_type": "stream",
     "text": [
      "Logged with accuracy: 0.9790794979079498\n"
     ]
    }
   ],
   "source": [
    "# Start MLflow run\n",
    "with mlflow.start_run(run_name=\"XGBoost Run\"):\n",
    "\n",
    "    # Define and train the model\n",
    "    xgb_model = XGBClassifier(\n",
    "        objective=\"multi:softprob\",\n",
    "        num_class=3,\n",
    "        max_depth=3,\n",
    "        n_estimators=100,\n",
    "        learning_rate=0.1,\n",
    "        use_label_encoder=False,\n",
    "        eval_metric=\"mlogloss\"\n",
    "    )\n",
    "    xgb_model.fit(X_train, y_train)\n",
    "\n",
    "\n",
    "    # Predict and evaluate\n",
    "    predictions = xgb_model.predict(X_test)\n",
    "\n",
    "    acc = accuracy_score(y_test, predictions)\n",
    "    precision = precision_score(y_test, predictions, average=\"macro\")\n",
    "    recall = recall_score(y_test, predictions, average=\"macro\")\n",
    "    f1 = f1_score(y_test, predictions, average=\"macro\")\n",
    "\n",
    "    # Log model parameters\n",
    "    mlflow.set_tag(\"model_family\", \"XGBOOST\")\n",
    "    mlflow.log_param(\"max_depth\", 3)\n",
    "    mlflow.log_param(\"n_estimators\", 100)\n",
    "    mlflow.log_param(\"learning_rate\", 0.1)\n",
    "\n",
    "    # Log metrics\n",
    "    mlflow.log_metric(\"accuracy\", acc)\n",
    "    mlflow.log_metric(\"precision\", precision)\n",
    "    mlflow.log_metric(\"recall\", recall)\n",
    "    mlflow.log_metric(\"f1_score\", f1)\n",
    "\n",
    "    mlflow.xgboost.log_model(xgb_model, \n",
    "                             artifact_path=\"xgb_model\",\n",
    "                             input_example=input_example,\n",
    "                             signature=signature,\n",
    "                             )\n",
    "    print(f\"Logged with accuracy: {acc}\")\n"
   ]
  },
  {
   "cell_type": "markdown",
   "metadata": {
    "application/vnd.databricks.v1+cell": {
     "cellMetadata": {
      "byteLimit": 2048000,
      "rowLimit": 10000
     },
     "inputWidgets": {},
     "nuid": "0ff8ff66-3111-4147-a0f6-c8ad883dc5cc",
     "showTitle": false,
     "tableResultSettingsMap": {},
     "title": ""
    }
   },
   "source": [
    "### Compare ML models to find best performing"
   ]
  },
  {
   "cell_type": "code",
   "execution_count": 0,
   "metadata": {
    "application/vnd.databricks.v1+cell": {
     "cellMetadata": {
      "byteLimit": 2048000,
      "rowLimit": 10000
     },
     "inputWidgets": {},
     "nuid": "9cac711a-a32d-474f-919d-6d9f29fcffc5",
     "showTitle": false,
     "tableResultSettingsMap": {},
     "title": ""
    }
   },
   "outputs": [
    {
     "output_type": "stream",
     "name": "stderr",
     "output_type": "stream",
     "text": [
      "INFO:py4j.clientserver:Received command c on object id p0\n"
     ]
    },
    {
     "output_type": "execute_result",
     "data": {
      "text/html": [
       "<div>\n",
       "<style scoped>\n",
       "    .dataframe tbody tr th:only-of-type {\n",
       "        vertical-align: middle;\n",
       "    }\n",
       "\n",
       "    .dataframe tbody tr th {\n",
       "        vertical-align: top;\n",
       "    }\n",
       "\n",
       "    .dataframe thead th {\n",
       "        text-align: right;\n",
       "    }\n",
       "</style>\n",
       "<table border=\"1\" class=\"dataframe\">\n",
       "  <thead>\n",
       "    <tr style=\"text-align: right;\">\n",
       "      <th></th>\n",
       "      <th>run_id</th>\n",
       "      <th>experiment_id</th>\n",
       "      <th>status</th>\n",
       "      <th>artifact_uri</th>\n",
       "      <th>start_time</th>\n",
       "      <th>end_time</th>\n",
       "      <th>metrics.recall</th>\n",
       "      <th>metrics.accuracy</th>\n",
       "      <th>metrics.precision</th>\n",
       "      <th>metrics.f1_score</th>\n",
       "      <th>params.learning_rate</th>\n",
       "      <th>params.n_estimators</th>\n",
       "      <th>params.max_depth</th>\n",
       "      <th>params.model_type</th>\n",
       "      <th>params.max_iter</th>\n",
       "      <th>tags.model_family</th>\n",
       "      <th>tags.mlflow.databricks.gitRepoCommit</th>\n",
       "      <th>tags.mlflow.user</th>\n",
       "      <th>tags.mlflow.source.name</th>\n",
       "      <th>tags.mlflow.runName</th>\n",
       "      <th>tags.mlflow.databricks.cluster.info.error</th>\n",
       "      <th>tags.mlflow.runColor</th>\n",
       "      <th>tags.mlflow.databricks.notebook.commandID</th>\n",
       "      <th>tags.mlflow.databricks.gitRepoProvider</th>\n",
       "      <th>tags.mlflow.databricks.workspaceURL</th>\n",
       "      <th>tags.mlflow.databricks.gitRepoStatus</th>\n",
       "      <th>tags.mlflow.databricks.gitRepoRelativePath</th>\n",
       "      <th>tags.mlflow.log-model.history</th>\n",
       "      <th>tags.mlflow.databricks.cluster.id</th>\n",
       "      <th>tags.mlflow.databricks.cluster.libraries.error</th>\n",
       "      <th>tags.mlflow.databricks.gitRepoReferenceType</th>\n",
       "      <th>tags.mlflow.databricks.notebookID</th>\n",
       "      <th>tags.mlflow.databricks.notebookPath</th>\n",
       "      <th>tags.mlflow.databricks.workspaceID</th>\n",
       "      <th>tags.mlflow.databricks.gitRepoUrl</th>\n",
       "      <th>tags.mlflow.databricks.gitRepoReference</th>\n",
       "      <th>tags.mlflow.databricks.webappURL</th>\n",
       "      <th>tags.mlflow.source.type</th>\n",
       "      <th>tags.mlflow.databricks.cluster.info</th>\n",
       "      <th>tags.mlflow.databricks.cluster.libraries</th>\n",
       "    </tr>\n",
       "  </thead>\n",
       "  <tbody>\n",
       "    <tr>\n",
       "      <th>0</th>\n",
       "      <td>50b4b3f21e2a4caeafd89010a92df935</td>\n",
       "      <td>01751c9c53794379b592485104bc6ab0</td>\n",
       "      <td>FINISHED</td>\n",
       "      <td>dbfs:/databricks/mlflow-tracking/01751c9c53794...</td>\n",
       "      <td>2025-10-15 19:07:08.375000+00:00</td>\n",
       "      <td>2025-10-15 19:07:13.409000+00:00</td>\n",
       "      <td>0.969357</td>\n",
       "      <td>0.979079</td>\n",
       "      <td>0.976699</td>\n",
       "      <td>0.972979</td>\n",
       "      <td>0.1</td>\n",
       "      <td>100</td>\n",
       "      <td>3</td>\n",
       "      <td>None</td>\n",
       "      <td>None</td>\n",
       "      <td>XGBOOST</td>\n",
       "      <td>f4a651fbeb75be2fba52badb789bbc515600d2d3</td>\n",
       "      <td>kemalcan@berkeley.edu</td>\n",
       "      <td>/Users/kemalcan@berkeley.edu/e2e-data-science/...</td>\n",
       "      <td>XGBoost Run</td>\n",
       "      <td>INVALID_PARAMETER_VALUE: Cluster 0809-154351-l...</td>\n",
       "      <td>#7d54b2</td>\n",
       "      <td>1760555170114_7218925565958051044_85acce513b25...</td>\n",
       "      <td>gitHub</td>\n",
       "      <td>https://dbc-3a8de830-d6a2.cloud.databricks.com</td>\n",
       "      <td>unknown</td>\n",
       "      <td>lakehouse-iot-platform/04-Data-Science-ML/04.2...</td>\n",
       "      <td>[{\"artifact_path\":\"xgb_model\",\"flavors\":{\"pyth...</td>\n",
       "      <td>0809-154351-lgw1ydqn-v2n</td>\n",
       "      <td>INVALID_ARGUMENT: INVALID_PARAMETER_VALUE: Clu...</td>\n",
       "      <td>branch</td>\n",
       "      <td>4368963137813901</td>\n",
       "      <td>/Users/kemalcan@berkeley.edu/e2e-data-science/...</td>\n",
       "      <td>4259139077557821</td>\n",
       "      <td>https://github.com/Berkeley-Data/e2e-data-scie...</td>\n",
       "      <td>kemalcan-feature-2</td>\n",
       "      <td>https://dbc-3a8de830-d6a2.cloud.databricks.com</td>\n",
       "      <td>NOTEBOOK</td>\n",
       "      <td>None</td>\n",
       "      <td>None</td>\n",
       "    </tr>\n",
       "    <tr>\n",
       "      <th>1</th>\n",
       "      <td>5d4cc080ec414352806cef86432d7c44</td>\n",
       "      <td>01751c9c53794379b592485104bc6ab0</td>\n",
       "      <td>FINISHED</td>\n",
       "      <td>dbfs:/databricks/mlflow-tracking/01751c9c53794...</td>\n",
       "      <td>2025-08-09 15:45:23.954000+00:00</td>\n",
       "      <td>2025-08-09 15:45:31.312000+00:00</td>\n",
       "      <td>0.969357</td>\n",
       "      <td>0.979079</td>\n",
       "      <td>0.976699</td>\n",
       "      <td>0.972979</td>\n",
       "      <td>0.1</td>\n",
       "      <td>100</td>\n",
       "      <td>3</td>\n",
       "      <td>XGBOOST</td>\n",
       "      <td>None</td>\n",
       "      <td>None</td>\n",
       "      <td>2268011268b41a756fcf8b247f32353b11fb18bf</td>\n",
       "      <td>kemalcan@berkeley.edu</td>\n",
       "      <td>/Users/kemalcan@berkeley.edu/e2e-data-science/...</td>\n",
       "      <td>XGBoost Run</td>\n",
       "      <td>None</td>\n",
       "      <td>#da4c4c</td>\n",
       "      <td>1754754232754_8874398606133209524_ef18b40c8538...</td>\n",
       "      <td>gitHub</td>\n",
       "      <td>https://dbc-3a8de830-d6a2.cloud.databricks.com</td>\n",
       "      <td>unknown</td>\n",
       "      <td>lakehouse-iot-platform/04-Data-Science-ML/04.2...</td>\n",
       "      <td>[{\"artifact_path\":\"xgb_model\",\"flavors\":{\"pyth...</td>\n",
       "      <td>0809-154351-lgw1ydqn-v2n</td>\n",
       "      <td>None</td>\n",
       "      <td>branch</td>\n",
       "      <td>4368963137813901</td>\n",
       "      <td>/Users/kemalcan@berkeley.edu/e2e-data-science/...</td>\n",
       "      <td>4259139077557821</td>\n",
       "      <td>https://github.com/Berkeley-Data/e2e-data-scie...</td>\n",
       "      <td>final-student-version</td>\n",
       "      <td>https://dbc-3a8de830-d6a2.cloud.databricks.com</td>\n",
       "      <td>NOTEBOOK</td>\n",
       "      <td>{\"cluster_name\":\"\",\"spark_version\":\"client.2.5...</td>\n",
       "      <td>{\"installable\":[],\"redacted\":[]}</td>\n",
       "    </tr>\n",
       "    <tr>\n",
       "      <th>2</th>\n",
       "      <td>e1099a96af044b8c8aeebd95f7bfb4f0</td>\n",
       "      <td>01751c9c53794379b592485104bc6ab0</td>\n",
       "      <td>FINISHED</td>\n",
       "      <td>dbfs:/databricks/mlflow-tracking/01751c9c53794...</td>\n",
       "      <td>2025-10-15 19:07:02.384000+00:00</td>\n",
       "      <td>2025-10-15 19:07:08.073000+00:00</td>\n",
       "      <td>0.947482</td>\n",
       "      <td>0.969317</td>\n",
       "      <td>0.970082</td>\n",
       "      <td>0.958351</td>\n",
       "      <td>None</td>\n",
       "      <td>None</td>\n",
       "      <td>None</td>\n",
       "      <td>None</td>\n",
       "      <td>200</td>\n",
       "      <td>LogisticRegression</td>\n",
       "      <td>f4a651fbeb75be2fba52badb789bbc515600d2d3</td>\n",
       "      <td>kemalcan@berkeley.edu</td>\n",
       "      <td>/Users/kemalcan@berkeley.edu/e2e-data-science/...</td>\n",
       "      <td>Logistic Regression Run</td>\n",
       "      <td>INVALID_PARAMETER_VALUE: Cluster 0809-154351-l...</td>\n",
       "      <td>#479a5f</td>\n",
       "      <td>1760555170114_8324409258527997713_85acce513b25...</td>\n",
       "      <td>gitHub</td>\n",
       "      <td>https://dbc-3a8de830-d6a2.cloud.databricks.com</td>\n",
       "      <td>unknown</td>\n",
       "      <td>lakehouse-iot-platform/04-Data-Science-ML/04.2...</td>\n",
       "      <td>[{\"artifact_path\":\"logreg_model\",\"flavors\":{\"p...</td>\n",
       "      <td>0809-154351-lgw1ydqn-v2n</td>\n",
       "      <td>INVALID_ARGUMENT: INVALID_PARAMETER_VALUE: Clu...</td>\n",
       "      <td>branch</td>\n",
       "      <td>4368963137813901</td>\n",
       "      <td>/Users/kemalcan@berkeley.edu/e2e-data-science/...</td>\n",
       "      <td>4259139077557821</td>\n",
       "      <td>https://github.com/Berkeley-Data/e2e-data-scie...</td>\n",
       "      <td>kemalcan-feature-2</td>\n",
       "      <td>https://dbc-3a8de830-d6a2.cloud.databricks.com</td>\n",
       "      <td>NOTEBOOK</td>\n",
       "      <td>None</td>\n",
       "      <td>None</td>\n",
       "    </tr>\n",
       "    <tr>\n",
       "      <th>3</th>\n",
       "      <td>8fe3da939ecc4683a6e71482fc91cc86</td>\n",
       "      <td>01751c9c53794379b592485104bc6ab0</td>\n",
       "      <td>FINISHED</td>\n",
       "      <td>dbfs:/databricks/mlflow-tracking/01751c9c53794...</td>\n",
       "      <td>2025-08-09 15:45:16.702000+00:00</td>\n",
       "      <td>2025-08-09 15:45:22.964000+00:00</td>\n",
       "      <td>0.947482</td>\n",
       "      <td>0.969317</td>\n",
       "      <td>0.970082</td>\n",
       "      <td>0.958351</td>\n",
       "      <td>None</td>\n",
       "      <td>None</td>\n",
       "      <td>None</td>\n",
       "      <td>LogisticRegression</td>\n",
       "      <td>200</td>\n",
       "      <td>None</td>\n",
       "      <td>2268011268b41a756fcf8b247f32353b11fb18bf</td>\n",
       "      <td>kemalcan@berkeley.edu</td>\n",
       "      <td>/Users/kemalcan@berkeley.edu/e2e-data-science/...</td>\n",
       "      <td>Logistic Regression Run</td>\n",
       "      <td>None</td>\n",
       "      <td>#5387dd</td>\n",
       "      <td>1754754232754_7186461927566157459_ef18b40c8538...</td>\n",
       "      <td>gitHub</td>\n",
       "      <td>https://dbc-3a8de830-d6a2.cloud.databricks.com</td>\n",
       "      <td>unknown</td>\n",
       "      <td>lakehouse-iot-platform/04-Data-Science-ML/04.2...</td>\n",
       "      <td>[{\"artifact_path\":\"logreg_model\",\"flavors\":{\"p...</td>\n",
       "      <td>0809-154351-lgw1ydqn-v2n</td>\n",
       "      <td>None</td>\n",
       "      <td>branch</td>\n",
       "      <td>4368963137813901</td>\n",
       "      <td>/Users/kemalcan@berkeley.edu/e2e-data-science/...</td>\n",
       "      <td>4259139077557821</td>\n",
       "      <td>https://github.com/Berkeley-Data/e2e-data-scie...</td>\n",
       "      <td>final-student-version</td>\n",
       "      <td>https://dbc-3a8de830-d6a2.cloud.databricks.com</td>\n",
       "      <td>NOTEBOOK</td>\n",
       "      <td>{\"cluster_name\":\"\",\"spark_version\":\"client.2.5...</td>\n",
       "      <td>{\"installable\":[],\"redacted\":[]}</td>\n",
       "    </tr>\n",
       "  </tbody>\n",
       "</table>\n",
       "</div>"
      ],
      "text/plain": [
       "                             run_id  ... tags.mlflow.databricks.cluster.libraries\n",
       "0  50b4b3f21e2a4caeafd89010a92df935  ...                                     None\n",
       "1  5d4cc080ec414352806cef86432d7c44  ...         {\"installable\":[],\"redacted\":[]}\n",
       "2  e1099a96af044b8c8aeebd95f7bfb4f0  ...                                     None\n",
       "3  8fe3da939ecc4683a6e71482fc91cc86  ...         {\"installable\":[],\"redacted\":[]}\n",
       "\n",
       "[4 rows x 40 columns]"
      ]
     },
     "execution_count": 20,
     "metadata": {},
     "output_type": "execute_result"
    }
   ],
   "source": [
    "mlflow.search_runs(order_by=['metrics.accuracy DESC','start_time DESC'])"
   ]
  },
  {
   "cell_type": "code",
   "execution_count": 0,
   "metadata": {
    "application/vnd.databricks.v1+cell": {
     "cellMetadata": {
      "byteLimit": 2048000,
      "rowLimit": 10000
     },
     "inputWidgets": {},
     "nuid": "097ad96e-6a02-4796-946a-81a4581223bf",
     "showTitle": false,
     "tableResultSettingsMap": {},
     "title": ""
    }
   },
   "outputs": [
    {
     "output_type": "stream",
     "name": "stderr",
     "output_type": "stream",
     "text": [
      "INFO:py4j.clientserver:Received command c on object id p0\n"
     ]
    },
    {
     "output_type": "stream",
     "name": "stdout",
     "output_type": "stream",
     "text": [
      "Best accuracy:                   0.9790794979079498\nBest model type:                 XGBOOST\nBest model run id:               50b4b3f21e2a4caeafd89010a92df935\n"
     ]
    }
   ],
   "source": [
    "best_run = mlflow.search_runs(order_by=['metrics.accuracy DESC','start_time DESC']).iloc[0]\n",
    "\n",
    "print(f\"Best accuracy:                   {best_run['metrics.accuracy']}\")\n",
    "print(f\"Best model type:                 {best_run['tags.model_family']}\")\n",
    "\n",
    "best_model_run_id = best_run['run_id']\n",
    "\n",
    "print(f\"Best model run id:               {best_model_run_id}\")"
   ]
  },
  {
   "cell_type": "markdown",
   "metadata": {
    "application/vnd.databricks.v1+cell": {
     "cellMetadata": {
      "byteLimit": 2048000,
      "rowLimit": 10000
     },
     "inputWidgets": {},
     "nuid": "d6cdd75d-a555-4f66-bb59-6ff8610c6130",
     "showTitle": false,
     "tableResultSettingsMap": {},
     "title": ""
    }
   },
   "source": [
    "### Optimize our best performing model\n",
    "In a real world scenaio, we would start by comparing various model types, then tune hyperparameters for the best performing model type.  For this demo, we have only compared two model types: a logistic regression model to an XGBoost Classifier.\n",
    "\n",
    "To illustrate an optimization process, let's use [Optuna](https://optuna.org/) to tune our XGBoost model.\n",
    "\n",
    "Optuna is an open-source hyperparameter optimization framework for machine learning and deep learning models. It automates the process of finding the optimal hyperparameters for a given model and dataset, which can significantly improve model performance and reduce the manual effort involved in hyperparameter tuning."
   ]
  },
  {
   "cell_type": "code",
   "execution_count": 0,
   "metadata": {
    "application/vnd.databricks.v1+cell": {
     "cellMetadata": {
      "byteLimit": 2048000,
      "rowLimit": 10000
     },
     "inputWidgets": {},
     "nuid": "049c1c58-ddfd-41fe-b238-59ae7e37b2bc",
     "showTitle": false,
     "tableResultSettingsMap": {},
     "title": ""
    }
   },
   "outputs": [
    {
     "output_type": "stream",
     "name": "stdout",
     "output_type": "stream",
     "text": [
      "Experiment Name: /Users/kemalcan@berkeley.edu/e2e-data-science/lakehouse-iot-platform/04-Data-Science-ML/04.2-predictive_model_creation, Experiment ID: 01751c9c53794379b592485104bc6ab0\n\nUsing experiment 01751c9c53794379b592485104bc6ab0\n"
     ]
    }
   ],
   "source": [
    "# Set the mlflow experiment\n",
    "client = MlflowClient()\n",
    "experiments = client.search_experiments()\n",
    "notebook_name = dbutils.notebook.entry_point.getDbutils().notebook().getContext().notebookPath().get().split(\"/\")[-1]\n",
    "\n",
    "# By default, the MLflow experiment name will be the notebook name\n",
    "cnt = 0\n",
    "for exp in experiments:\n",
    "    if notebook_name in exp.name:\n",
    "        print(f\"Experiment Name: {exp.name}, Experiment ID: {exp.experiment_id}\\n\")\n",
    "        cnt = cnt+1\n",
    "        experiment_id = exp.experiment_id\n",
    "if cnt > 1:\n",
    "    print(\"Multiple experiments found. Please delete the other experiment manually.\")\n",
    "elif cnt == 1:\n",
    "    print(f\"Using experiment {experiment_id}\")\n",
    "    mlflow.set_experiment(experiment_id=experiment_id)"
   ]
  },
  {
   "cell_type": "markdown",
   "metadata": {
    "application/vnd.databricks.v1+cell": {
     "cellMetadata": {},
     "inputWidgets": {},
     "nuid": "6700ebfe-bee5-4fb4-a140-428065a3b723",
     "showTitle": false,
     "tableResultSettingsMap": {},
     "title": ""
    }
   },
   "source": [
    "Instantiating an MLflow callback for Optuna, which will automatically log Optuna trial metrics, parameters, and user attributes to MLflow during hyperparameter optimization. The arguments specify:\n",
    "\n",
    "- `tracking_uri='databricks'`: Use Databricks as the MLflow tracking server.  \n",
    "\n",
    "- `metric_name=\"accuracy\"`: Track the \"accuracy\" metric for each trial.  \n",
    "\n",
    "- `create_experiment=False`: Do not create a new MLflow experiment; use the   existing one.\n",
    "\n",
    "- `mlflow_kwargs={\"nested\": True}`: Log each Optuna trial as a nested MLflow run under a parent run.  \n",
    "\n",
    "- `tag_trial_user_attrs=True`: Log Optuna trial user attributes as MLflow tags.  \n",
    "\n",
    "This callback is passed to Optuna's study.optimize() so that all trial results are automatically tracked in MLflow for easy comparison and analysis later"
   ]
  },
  {
   "cell_type": "code",
   "execution_count": 0,
   "metadata": {
    "application/vnd.databricks.v1+cell": {
     "cellMetadata": {
      "byteLimit": 2048000,
      "rowLimit": 10000
     },
     "inputWidgets": {},
     "nuid": "60ee3f66-9edc-4765-a8b2-8398200821a3",
     "showTitle": false,
     "tableResultSettingsMap": {},
     "title": ""
    }
   },
   "outputs": [],
   "source": [
    "# Instantiate the MLflow callback for logging Optuna runs to MLflow\n",
    "mlflow_callback = MLflowCallback(\n",
    "    tracking_uri='databricks',\n",
    "    metric_name=\"accuracy\",\n",
    "    create_experiment=False,\n",
    "    mlflow_kwargs={\"nested\": True},\n",
    "    tag_trial_user_attrs=True\n",
    ")"
   ]
  },
  {
   "cell_type": "code",
   "execution_count": 0,
   "metadata": {
    "application/vnd.databricks.v1+cell": {
     "cellMetadata": {
      "byteLimit": 2048000,
      "rowLimit": 10000
     },
     "inputWidgets": {},
     "nuid": "326396af-19f5-4019-b404-ee934bfc7343",
     "showTitle": false,
     "tableResultSettingsMap": {},
     "title": ""
    }
   },
   "outputs": [],
   "source": [
    "def objective(trial):\n",
    "    \"\"\"Define the objective function for hyperparameter tuning.\"\"\"\n",
    "\n",
    "    with mlflow.start_run(nested=True):\n",
    "        # Invoke suggest methods of a Trial object to generate hyperparameters\n",
    "        cl_num_class = trial.suggest_int('num_class', 2, 10)\n",
    "        cl_max_depth = trial.suggest_int('max_depth', 2, 15)\n",
    "        cl_n_estimators = trial.suggest_int('n_estimators', 10, 100)\n",
    "\n",
    "        # Define our model, referencing the hyperparameters we just generated\n",
    "        classifier_obj = XGBClassifier(\n",
    "            objective=\"multi:softprob\",\n",
    "            num_class=cl_num_class,\n",
    "            max_depth=cl_max_depth,\n",
    "            n_estimators=cl_n_estimators,\n",
    "            learning_rate=0.1,\n",
    "            use_label_encoder=False,\n",
    "            eval_metric=\"mlogloss\"\n",
    "        )\n",
    "        classifier_obj.fit(X_train, y_train)\n",
    "        y_pred = classifier_obj.predict(X_test)\n",
    "\n",
    "        acc = accuracy_score(y_test, y_pred)\n",
    "        precision = precision_score(y_test, y_pred, average=\"macro\")\n",
    "        recall = recall_score(y_test, y_pred, average=\"macro\")\n",
    "        f1 = f1_score(y_test, y_pred, average=\"macro\")\n",
    "\n",
    "        # Log model parameters\n",
    "        mlflow.set_tag(\"model_family\", \"XGBOOST\")\n",
    "        mlflow.log_param(\"num_class\", cl_num_class)\n",
    "        mlflow.log_param(\"max_depth\", cl_max_depth)\n",
    "        mlflow.log_param(\"n_estimators\", cl_n_estimators)\n",
    "        mlflow.log_param(\"learning_rate\", 0.1)\n",
    "\n",
    "        # Log metrics\n",
    "        mlflow.log_metric(\"accuracy\", acc)\n",
    "        mlflow.log_metric(\"precision\", precision)\n",
    "        mlflow.log_metric(\"recall\", recall)\n",
    "        mlflow.log_metric(\"f1_score\", f1)\n",
    "\n",
    "    return acc  # An objective value linked with the Trial object"
   ]
  },
  {
   "cell_type": "code",
   "execution_count": 0,
   "metadata": {
    "application/vnd.databricks.v1+cell": {
     "cellMetadata": {
      "byteLimit": 2048000,
      "rowLimit": 10000
     },
     "inputWidgets": {},
     "nuid": "5df1c0df-a592-41a8-8235-f7c4cd48600f",
     "showTitle": false,
     "tableResultSettingsMap": {},
     "title": ""
    }
   },
   "outputs": [
    {
     "output_type": "stream",
     "name": "stderr",
     "output_type": "stream",
     "text": [
      "INFO:py4j.clientserver:Received command c on object id p0\n[I 2025-10-15 19:07:16,288] A new study created in memory with name: no-name-3a2c11b5-ceb6-4dfb-b511-377e97b981a4\n[I 2025-10-15 19:07:17,046] Trial 0 finished with value: 0.9832635983263598 and parameters: {'num_class': 6, 'max_depth': 5, 'n_estimators': 62}. Best is trial 0 with value: 0.9832635983263598.\n[I 2025-10-15 19:07:18,080] Trial 1 finished with value: 0.9748953974895398 and parameters: {'num_class': 10, 'max_depth': 4, 'n_estimators': 10}. Best is trial 0 with value: 0.9832635983263598.\n[I 2025-10-15 19:07:19,298] Trial 2 finished with value: 0.9832635983263598 and parameters: {'num_class': 10, 'max_depth': 5, 'n_estimators': 60}. Best is trial 0 with value: 0.9832635983263598.\n[I 2025-10-15 19:07:20,396] Trial 3 finished with value: 0.9735006973500697 and parameters: {'num_class': 4, 'max_depth': 2, 'n_estimators': 42}. Best is trial 0 with value: 0.9832635983263598.\n[I 2025-10-15 19:07:21,415] Trial 4 finished with value: 0.9818688981868898 and parameters: {'num_class': 4, 'max_depth': 9, 'n_estimators': 47}. Best is trial 0 with value: 0.9832635983263598.\n[I 2025-10-15 19:07:22,472] Trial 5 finished with value: 0.9832635983263598 and parameters: {'num_class': 8, 'max_depth': 5, 'n_estimators': 41}. Best is trial 0 with value: 0.9832635983263598.\n[I 2025-10-15 19:07:23,705] Trial 6 finished with value: 0.9804741980474198 and parameters: {'num_class': 4, 'max_depth': 12, 'n_estimators': 93}. Best is trial 0 with value: 0.9832635983263598.\n[I 2025-10-15 19:07:24,708] Trial 7 finished with value: 0.9762900976290098 and parameters: {'num_class': 5, 'max_depth': 9, 'n_estimators': 19}. Best is trial 0 with value: 0.9832635983263598.\n[I 2025-10-15 19:07:26,001] Trial 8 finished with value: 0.9818688981868898 and parameters: {'num_class': 3, 'max_depth': 10, 'n_estimators': 98}. Best is trial 0 with value: 0.9832635983263598.\n[I 2025-10-15 19:07:27,023] Trial 9 finished with value: 0.9762900976290098 and parameters: {'num_class': 5, 'max_depth': 15, 'n_estimators': 21}. Best is trial 0 with value: 0.9832635983263598.\n"
     ]
    },
    {
     "output_type": "display_data",
     "data": {
      "application/vnd.jupyter.widget-view+json": {
       "model_id": "cf98b5fa2b93427bb23c79c23e5c98ec",
       "version_major": 2,
       "version_minor": 0
      },
      "text/plain": [
       "Uploading artifacts:   0%|          | 0/11 [00:00<?, ?it/s]"
      ]
     },
     "metadata": {},
     "output_type": "display_data"
    }
   ],
   "source": [
    "# Run the optimize trials\n",
    "run_name = \"optimize\"\n",
    "\n",
    "# Initiate the parent run and call the hyperparameter tuning child run logic\n",
    "with mlflow.start_run(experiment_id=experiment_id, run_name=run_name, nested=True):\n",
    "  # Initialize the Optuna study\n",
    "  # Our goal is to maximize the accuracy (as defined in our objective function)\n",
    "  study = optuna.create_study(direction=\"maximize\", load_if_exists=True)\n",
    "\n",
    "  # Execute the hyperparameter optimization trials.\n",
    "  study.optimize(objective, n_trials=10, callbacks=[mlflow_callback])\n",
    "\n",
    "  mlflow.log_params(study.best_params)\n",
    "  mlflow.log_metric(\"accuracy\", study.best_value)\n",
    "\n",
    "  # Log tags\n",
    "  mlflow.set_tags(\n",
    "      tags={\n",
    "          \"project\": \"Turbine maintenance predictor\",\n",
    "          \"optimizer_engine\": \"optuna\",\n",
    "          \"model_family\": \"XGBOOST\",\n",
    "          \"feature_set_version\": 1,\n",
    "      }\n",
    "  )\n",
    "\n",
    "  # Log a fit model instance\n",
    "  model = XGBClassifier(study.best_params).fit(X_train, y_train)\n",
    "  y_pred = model.predict(X_test)\n",
    "\n",
    "  precision = precision_score(y_test, y_pred, average=\"macro\")\n",
    "  recall = recall_score(y_test, y_pred, average=\"macro\")\n",
    "  f1 = f1_score(y_test, y_pred, average=\"macro\")\n",
    "\n",
    "  mlflow.log_metric(\"precision\", precision)\n",
    "  mlflow.log_metric(\"recall\", recall)\n",
    "  mlflow.log_metric(\"f1_score\", f1)\n",
    "\n",
    "  mlflow.xgboost.log_model(\n",
    "    xgb_model=model,\n",
    "    artifact_path=\"xgb_model\",\n",
    "    input_example=input_example,\n",
    "    signature=signature,\n",
    "  )\n",
    "\n",
    "  # Get the logged model uri so that we can load it from the artifact store\n",
    "  #model_uri = mlflow.get_artifact_uri(\"xgb_model\")"
   ]
  },
  {
   "cell_type": "code",
   "execution_count": 0,
   "metadata": {
    "application/vnd.databricks.v1+cell": {
     "cellMetadata": {
      "byteLimit": 2048000,
      "rowLimit": 10000
     },
     "inputWidgets": {},
     "nuid": "973c5cd6-a1e9-4f24-9333-090d2dc05ac0",
     "showTitle": false,
     "tableResultSettingsMap": {},
     "title": ""
    }
   },
   "outputs": [
    {
     "output_type": "stream",
     "name": "stderr",
     "output_type": "stream",
     "text": [
      "INFO:py4j.clientserver:Received command c on object id p0\n"
     ]
    },
    {
     "output_type": "execute_result",
     "data": {
      "text/html": [
       "<div>\n",
       "<style scoped>\n",
       "    .dataframe tbody tr th:only-of-type {\n",
       "        vertical-align: middle;\n",
       "    }\n",
       "\n",
       "    .dataframe tbody tr th {\n",
       "        vertical-align: top;\n",
       "    }\n",
       "\n",
       "    .dataframe thead th {\n",
       "        text-align: right;\n",
       "    }\n",
       "</style>\n",
       "<table border=\"1\" class=\"dataframe\">\n",
       "  <thead>\n",
       "    <tr style=\"text-align: right;\">\n",
       "      <th></th>\n",
       "      <th>run_id</th>\n",
       "      <th>experiment_id</th>\n",
       "      <th>status</th>\n",
       "      <th>artifact_uri</th>\n",
       "      <th>start_time</th>\n",
       "      <th>end_time</th>\n",
       "      <th>metrics.recall</th>\n",
       "      <th>metrics.accuracy</th>\n",
       "      <th>metrics.precision</th>\n",
       "      <th>metrics.f1_score</th>\n",
       "      <th>params.n_estimators</th>\n",
       "      <th>params.max_depth</th>\n",
       "      <th>params.num_class</th>\n",
       "      <th>params.learning_rate</th>\n",
       "      <th>params.model_type</th>\n",
       "      <th>params.max_iter</th>\n",
       "      <th>tags.model_family</th>\n",
       "      <th>tags.mlflow.databricks.gitRepoCommit</th>\n",
       "      <th>tags.optimizer_engine</th>\n",
       "      <th>tags.mlflow.rootRunId</th>\n",
       "      <th>tags.mlflow.user</th>\n",
       "      <th>tags.mlflow.source.name</th>\n",
       "      <th>tags.mlflow.runName</th>\n",
       "      <th>tags.mlflow.databricks.cluster.info.error</th>\n",
       "      <th>tags.mlflow.runColor</th>\n",
       "      <th>tags.mlflow.databricks.notebook.commandID</th>\n",
       "      <th>tags.mlflow.databricks.gitRepoProvider</th>\n",
       "      <th>tags.mlflow.databricks.workspaceURL</th>\n",
       "      <th>tags.mlflow.databricks.gitRepoStatus</th>\n",
       "      <th>tags.mlflow.databricks.gitRepoRelativePath</th>\n",
       "      <th>tags.mlflow.log-model.history</th>\n",
       "      <th>tags.mlflow.databricks.cluster.id</th>\n",
       "      <th>tags.feature_set_version</th>\n",
       "      <th>tags.mlflow.databricks.cluster.libraries.error</th>\n",
       "      <th>tags.mlflow.databricks.gitRepoReferenceType</th>\n",
       "      <th>tags.mlflow.databricks.notebookID</th>\n",
       "      <th>tags.mlflow.databricks.notebookPath</th>\n",
       "      <th>tags.mlflow.databricks.workspaceID</th>\n",
       "      <th>tags.mlflow.databricks.gitRepoUrl</th>\n",
       "      <th>tags.project</th>\n",
       "      <th>tags.mlflow.databricks.gitRepoReference</th>\n",
       "      <th>tags.mlflow.databricks.webappURL</th>\n",
       "      <th>tags.mlflow.source.type</th>\n",
       "      <th>tags.mlflow.databricks.cluster.info</th>\n",
       "      <th>tags.mlflow.databricks.cluster.libraries</th>\n",
       "    </tr>\n",
       "  </thead>\n",
       "  <tbody>\n",
       "    <tr>\n",
       "      <th>0</th>\n",
       "      <td>1fd6d7f9beff4184889f7340767865f3</td>\n",
       "      <td>01751c9c53794379b592485104bc6ab0</td>\n",
       "      <td>FINISHED</td>\n",
       "      <td>dbfs:/databricks/mlflow-tracking/01751c9c53794...</td>\n",
       "      <td>2025-10-15 19:07:16.202000+00:00</td>\n",
       "      <td>2025-10-15 19:07:31.891000+00:00</td>\n",
       "      <td>0.968822</td>\n",
       "      <td>0.983264</td>\n",
       "      <td>0.973525</td>\n",
       "      <td>0.971155</td>\n",
       "      <td>62</td>\n",
       "      <td>5</td>\n",
       "      <td>6</td>\n",
       "      <td>None</td>\n",
       "      <td>None</td>\n",
       "      <td>None</td>\n",
       "      <td>XGBOOST</td>\n",
       "      <td>f4a651fbeb75be2fba52badb789bbc515600d2d3</td>\n",
       "      <td>optuna</td>\n",
       "      <td>1fd6d7f9beff4184889f7340767865f3</td>\n",
       "      <td>kemalcan@berkeley.edu</td>\n",
       "      <td>/Users/kemalcan@berkeley.edu/e2e-data-science/...</td>\n",
       "      <td>optimize</td>\n",
       "      <td>INVALID_PARAMETER_VALUE: Cluster 0809-154351-l...</td>\n",
       "      <td>#e87b9f</td>\n",
       "      <td>1760555170114_5778336553049096846_85acce513b25...</td>\n",
       "      <td>gitHub</td>\n",
       "      <td>https://dbc-3a8de830-d6a2.cloud.databricks.com</td>\n",
       "      <td>unknown</td>\n",
       "      <td>lakehouse-iot-platform/04-Data-Science-ML/04.2...</td>\n",
       "      <td>[{\"artifact_path\":\"xgb_model\",\"flavors\":{\"pyth...</td>\n",
       "      <td>0809-154351-lgw1ydqn-v2n</td>\n",
       "      <td>1</td>\n",
       "      <td>INVALID_ARGUMENT: INVALID_PARAMETER_VALUE: Clu...</td>\n",
       "      <td>branch</td>\n",
       "      <td>4368963137813901</td>\n",
       "      <td>/Users/kemalcan@berkeley.edu/e2e-data-science/...</td>\n",
       "      <td>4259139077557821</td>\n",
       "      <td>https://github.com/Berkeley-Data/e2e-data-scie...</td>\n",
       "      <td>Turbine maintenance predictor</td>\n",
       "      <td>kemalcan-feature-2</td>\n",
       "      <td>https://dbc-3a8de830-d6a2.cloud.databricks.com</td>\n",
       "      <td>NOTEBOOK</td>\n",
       "      <td>None</td>\n",
       "      <td>None</td>\n",
       "    </tr>\n",
       "    <tr>\n",
       "      <th>1</th>\n",
       "      <td>50b4b3f21e2a4caeafd89010a92df935</td>\n",
       "      <td>01751c9c53794379b592485104bc6ab0</td>\n",
       "      <td>FINISHED</td>\n",
       "      <td>dbfs:/databricks/mlflow-tracking/01751c9c53794...</td>\n",
       "      <td>2025-10-15 19:07:08.375000+00:00</td>\n",
       "      <td>2025-10-15 19:07:13.409000+00:00</td>\n",
       "      <td>0.969357</td>\n",
       "      <td>0.979079</td>\n",
       "      <td>0.976699</td>\n",
       "      <td>0.972979</td>\n",
       "      <td>100</td>\n",
       "      <td>3</td>\n",
       "      <td>None</td>\n",
       "      <td>0.1</td>\n",
       "      <td>None</td>\n",
       "      <td>None</td>\n",
       "      <td>XGBOOST</td>\n",
       "      <td>f4a651fbeb75be2fba52badb789bbc515600d2d3</td>\n",
       "      <td>None</td>\n",
       "      <td>None</td>\n",
       "      <td>kemalcan@berkeley.edu</td>\n",
       "      <td>/Users/kemalcan@berkeley.edu/e2e-data-science/...</td>\n",
       "      <td>XGBoost Run</td>\n",
       "      <td>INVALID_PARAMETER_VALUE: Cluster 0809-154351-l...</td>\n",
       "      <td>#7d54b2</td>\n",
       "      <td>1760555170114_7218925565958051044_85acce513b25...</td>\n",
       "      <td>gitHub</td>\n",
       "      <td>https://dbc-3a8de830-d6a2.cloud.databricks.com</td>\n",
       "      <td>unknown</td>\n",
       "      <td>lakehouse-iot-platform/04-Data-Science-ML/04.2...</td>\n",
       "      <td>[{\"artifact_path\":\"xgb_model\",\"flavors\":{\"pyth...</td>\n",
       "      <td>0809-154351-lgw1ydqn-v2n</td>\n",
       "      <td>None</td>\n",
       "      <td>INVALID_ARGUMENT: INVALID_PARAMETER_VALUE: Clu...</td>\n",
       "      <td>branch</td>\n",
       "      <td>4368963137813901</td>\n",
       "      <td>/Users/kemalcan@berkeley.edu/e2e-data-science/...</td>\n",
       "      <td>4259139077557821</td>\n",
       "      <td>https://github.com/Berkeley-Data/e2e-data-scie...</td>\n",
       "      <td>None</td>\n",
       "      <td>kemalcan-feature-2</td>\n",
       "      <td>https://dbc-3a8de830-d6a2.cloud.databricks.com</td>\n",
       "      <td>NOTEBOOK</td>\n",
       "      <td>None</td>\n",
       "      <td>None</td>\n",
       "    </tr>\n",
       "    <tr>\n",
       "      <th>2</th>\n",
       "      <td>5d4cc080ec414352806cef86432d7c44</td>\n",
       "      <td>01751c9c53794379b592485104bc6ab0</td>\n",
       "      <td>FINISHED</td>\n",
       "      <td>dbfs:/databricks/mlflow-tracking/01751c9c53794...</td>\n",
       "      <td>2025-08-09 15:45:23.954000+00:00</td>\n",
       "      <td>2025-08-09 15:45:31.312000+00:00</td>\n",
       "      <td>0.969357</td>\n",
       "      <td>0.979079</td>\n",
       "      <td>0.976699</td>\n",
       "      <td>0.972979</td>\n",
       "      <td>100</td>\n",
       "      <td>3</td>\n",
       "      <td>None</td>\n",
       "      <td>0.1</td>\n",
       "      <td>XGBOOST</td>\n",
       "      <td>None</td>\n",
       "      <td>None</td>\n",
       "      <td>2268011268b41a756fcf8b247f32353b11fb18bf</td>\n",
       "      <td>None</td>\n",
       "      <td>None</td>\n",
       "      <td>kemalcan@berkeley.edu</td>\n",
       "      <td>/Users/kemalcan@berkeley.edu/e2e-data-science/...</td>\n",
       "      <td>XGBoost Run</td>\n",
       "      <td>None</td>\n",
       "      <td>#da4c4c</td>\n",
       "      <td>1754754232754_8874398606133209524_ef18b40c8538...</td>\n",
       "      <td>gitHub</td>\n",
       "      <td>https://dbc-3a8de830-d6a2.cloud.databricks.com</td>\n",
       "      <td>unknown</td>\n",
       "      <td>lakehouse-iot-platform/04-Data-Science-ML/04.2...</td>\n",
       "      <td>[{\"artifact_path\":\"xgb_model\",\"flavors\":{\"pyth...</td>\n",
       "      <td>0809-154351-lgw1ydqn-v2n</td>\n",
       "      <td>None</td>\n",
       "      <td>None</td>\n",
       "      <td>branch</td>\n",
       "      <td>4368963137813901</td>\n",
       "      <td>/Users/kemalcan@berkeley.edu/e2e-data-science/...</td>\n",
       "      <td>4259139077557821</td>\n",
       "      <td>https://github.com/Berkeley-Data/e2e-data-scie...</td>\n",
       "      <td>None</td>\n",
       "      <td>final-student-version</td>\n",
       "      <td>https://dbc-3a8de830-d6a2.cloud.databricks.com</td>\n",
       "      <td>NOTEBOOK</td>\n",
       "      <td>{\"cluster_name\":\"\",\"spark_version\":\"client.2.5...</td>\n",
       "      <td>{\"installable\":[],\"redacted\":[]}</td>\n",
       "    </tr>\n",
       "    <tr>\n",
       "      <th>3</th>\n",
       "      <td>e1099a96af044b8c8aeebd95f7bfb4f0</td>\n",
       "      <td>01751c9c53794379b592485104bc6ab0</td>\n",
       "      <td>FINISHED</td>\n",
       "      <td>dbfs:/databricks/mlflow-tracking/01751c9c53794...</td>\n",
       "      <td>2025-10-15 19:07:02.384000+00:00</td>\n",
       "      <td>2025-10-15 19:07:08.073000+00:00</td>\n",
       "      <td>0.947482</td>\n",
       "      <td>0.969317</td>\n",
       "      <td>0.970082</td>\n",
       "      <td>0.958351</td>\n",
       "      <td>None</td>\n",
       "      <td>None</td>\n",
       "      <td>None</td>\n",
       "      <td>None</td>\n",
       "      <td>None</td>\n",
       "      <td>200</td>\n",
       "      <td>LogisticRegression</td>\n",
       "      <td>f4a651fbeb75be2fba52badb789bbc515600d2d3</td>\n",
       "      <td>None</td>\n",
       "      <td>None</td>\n",
       "      <td>kemalcan@berkeley.edu</td>\n",
       "      <td>/Users/kemalcan@berkeley.edu/e2e-data-science/...</td>\n",
       "      <td>Logistic Regression Run</td>\n",
       "      <td>INVALID_PARAMETER_VALUE: Cluster 0809-154351-l...</td>\n",
       "      <td>#479a5f</td>\n",
       "      <td>1760555170114_8324409258527997713_85acce513b25...</td>\n",
       "      <td>gitHub</td>\n",
       "      <td>https://dbc-3a8de830-d6a2.cloud.databricks.com</td>\n",
       "      <td>unknown</td>\n",
       "      <td>lakehouse-iot-platform/04-Data-Science-ML/04.2...</td>\n",
       "      <td>[{\"artifact_path\":\"logreg_model\",\"flavors\":{\"p...</td>\n",
       "      <td>0809-154351-lgw1ydqn-v2n</td>\n",
       "      <td>None</td>\n",
       "      <td>INVALID_ARGUMENT: INVALID_PARAMETER_VALUE: Clu...</td>\n",
       "      <td>branch</td>\n",
       "      <td>4368963137813901</td>\n",
       "      <td>/Users/kemalcan@berkeley.edu/e2e-data-science/...</td>\n",
       "      <td>4259139077557821</td>\n",
       "      <td>https://github.com/Berkeley-Data/e2e-data-scie...</td>\n",
       "      <td>None</td>\n",
       "      <td>kemalcan-feature-2</td>\n",
       "      <td>https://dbc-3a8de830-d6a2.cloud.databricks.com</td>\n",
       "      <td>NOTEBOOK</td>\n",
       "      <td>None</td>\n",
       "      <td>None</td>\n",
       "    </tr>\n",
       "    <tr>\n",
       "      <th>4</th>\n",
       "      <td>8fe3da939ecc4683a6e71482fc91cc86</td>\n",
       "      <td>01751c9c53794379b592485104bc6ab0</td>\n",
       "      <td>FINISHED</td>\n",
       "      <td>dbfs:/databricks/mlflow-tracking/01751c9c53794...</td>\n",
       "      <td>2025-08-09 15:45:16.702000+00:00</td>\n",
       "      <td>2025-08-09 15:45:22.964000+00:00</td>\n",
       "      <td>0.947482</td>\n",
       "      <td>0.969317</td>\n",
       "      <td>0.970082</td>\n",
       "      <td>0.958351</td>\n",
       "      <td>None</td>\n",
       "      <td>None</td>\n",
       "      <td>None</td>\n",
       "      <td>None</td>\n",
       "      <td>LogisticRegression</td>\n",
       "      <td>200</td>\n",
       "      <td>None</td>\n",
       "      <td>2268011268b41a756fcf8b247f32353b11fb18bf</td>\n",
       "      <td>None</td>\n",
       "      <td>None</td>\n",
       "      <td>kemalcan@berkeley.edu</td>\n",
       "      <td>/Users/kemalcan@berkeley.edu/e2e-data-science/...</td>\n",
       "      <td>Logistic Regression Run</td>\n",
       "      <td>None</td>\n",
       "      <td>#5387dd</td>\n",
       "      <td>1754754232754_7186461927566157459_ef18b40c8538...</td>\n",
       "      <td>gitHub</td>\n",
       "      <td>https://dbc-3a8de830-d6a2.cloud.databricks.com</td>\n",
       "      <td>unknown</td>\n",
       "      <td>lakehouse-iot-platform/04-Data-Science-ML/04.2...</td>\n",
       "      <td>[{\"artifact_path\":\"logreg_model\",\"flavors\":{\"p...</td>\n",
       "      <td>0809-154351-lgw1ydqn-v2n</td>\n",
       "      <td>None</td>\n",
       "      <td>None</td>\n",
       "      <td>branch</td>\n",
       "      <td>4368963137813901</td>\n",
       "      <td>/Users/kemalcan@berkeley.edu/e2e-data-science/...</td>\n",
       "      <td>4259139077557821</td>\n",
       "      <td>https://github.com/Berkeley-Data/e2e-data-scie...</td>\n",
       "      <td>None</td>\n",
       "      <td>final-student-version</td>\n",
       "      <td>https://dbc-3a8de830-d6a2.cloud.databricks.com</td>\n",
       "      <td>NOTEBOOK</td>\n",
       "      <td>{\"cluster_name\":\"\",\"spark_version\":\"client.2.5...</td>\n",
       "      <td>{\"installable\":[],\"redacted\":[]}</td>\n",
       "    </tr>\n",
       "  </tbody>\n",
       "</table>\n",
       "</div>"
      ],
      "text/plain": [
       "                             run_id  ... tags.mlflow.databricks.cluster.libraries\n",
       "0  1fd6d7f9beff4184889f7340767865f3  ...                                     None\n",
       "1  50b4b3f21e2a4caeafd89010a92df935  ...                                     None\n",
       "2  5d4cc080ec414352806cef86432d7c44  ...         {\"installable\":[],\"redacted\":[]}\n",
       "3  e1099a96af044b8c8aeebd95f7bfb4f0  ...                                     None\n",
       "4  8fe3da939ecc4683a6e71482fc91cc86  ...         {\"installable\":[],\"redacted\":[]}\n",
       "\n",
       "[5 rows x 45 columns]"
      ]
     },
     "execution_count": 26,
     "metadata": {},
     "output_type": "execute_result"
    }
   ],
   "source": [
    "# Show only runs with a logged model (our objective function did not save a model for every run) \n",
    "# and sort by accuracy\n",
    "mlflow.search_runs(filter_string=\"tags.\\\"mlflow.log-model.history\\\" !=''\", order_by=['metrics.accuracy DESC'])"
   ]
  },
  {
   "cell_type": "code",
   "execution_count": 0,
   "metadata": {
    "application/vnd.databricks.v1+cell": {
     "cellMetadata": {
      "byteLimit": 2048000,
      "rowLimit": 10000
     },
     "inputWidgets": {},
     "nuid": "60fb6b40-e6a3-448d-960c-e8468bda4eaa",
     "showTitle": false,
     "tableResultSettingsMap": {},
     "title": ""
    }
   },
   "outputs": [
    {
     "output_type": "stream",
     "name": "stderr",
     "output_type": "stream",
     "text": [
      "INFO:py4j.clientserver:Received command c on object id p0\n"
     ]
    },
    {
     "output_type": "stream",
     "name": "stdout",
     "output_type": "stream",
     "text": [
      "Best previous accuracy:          0.9790794979079498\nBest previous run id:            50b4b3f21e2a4caeafd89010a92df935\nBest optimized accuracy:         0.9832635983263598\nBest optimized model run id:     1fd6d7f9beff4184889f7340767865f3\nThe accuracy improved by running parameter tuning\n"
     ]
    }
   ],
   "source": [
    "# Compare previous best_run to the best optimized run\n",
    "print(f\"Best previous accuracy:          {best_run['metrics.accuracy']}\")\n",
    "print(f\"Best previous run id:            {best_model_run_id}\")\n",
    "\n",
    "best_opt_run = mlflow.search_runs(filter_string=\"tags.\\\"mlflow.log-model.history\\\" !=''\", order_by=['metrics.accuracy DESC']).iloc[0]\n",
    "\n",
    "print(f\"Best optimized accuracy:         {best_opt_run['metrics.accuracy']}\")\n",
    "\n",
    "best_opt_run_id = best_opt_run['run_id']\n",
    "\n",
    "print(f\"Best optimized model run id:     {best_opt_run_id}\")\n",
    "\n",
    "if best_opt_run['metrics.accuracy'] > best_run['metrics.accuracy']:\n",
    "    print(\"The accuracy improved by running parameter tuning\")\n",
    "else:\n",
    "    print(\"The accuracy did not improve by running parameter tuning\")    "
   ]
  },
  {
   "cell_type": "markdown",
   "metadata": {
    "application/vnd.databricks.v1+cell": {
     "cellMetadata": {
      "byteLimit": 2048000,
      "rowLimit": 10000
     },
     "inputWidgets": {},
     "nuid": "4ba437d4-ca23-41b3-96c3-7b007da1deeb",
     "showTitle": false,
     "tableResultSettingsMap": {},
     "title": ""
    }
   },
   "source": [
    "Now, we can test the best model. See if it is working as expected."
   ]
  },
  {
   "cell_type": "code",
   "execution_count": 0,
   "metadata": {
    "application/vnd.databricks.v1+cell": {
     "cellMetadata": {
      "byteLimit": 2048000,
      "rowLimit": 10000
     },
     "inputWidgets": {},
     "nuid": "e3b70bd7-a174-45e8-9689-6431d3903cb3",
     "showTitle": false,
     "tableResultSettingsMap": {},
     "title": ""
    }
   },
   "outputs": [],
   "source": [
    "best_model_uri = f\"runs:/{best_opt_run_id}/logreg_model\" if best_run['tags.model_family'] == \"LogisticRegression\" else f\"runs:/{best_opt_run_id}/xgb_model\"\n",
    "\n",
    "model_name = \"turbine_maintenance\""
   ]
  },
  {
   "cell_type": "code",
   "execution_count": 0,
   "metadata": {
    "application/vnd.databricks.v1+cell": {
     "cellMetadata": {
      "byteLimit": 2048000,
      "rowLimit": 10000
     },
     "inputWidgets": {},
     "nuid": "19feab71-205d-49e5-9f1e-9e8bdc485fc8",
     "showTitle": false,
     "tableResultSettingsMap": {},
     "title": ""
    }
   },
   "outputs": [
    {
     "output_type": "display_data",
     "data": {
      "application/vnd.jupyter.widget-view+json": {
       "model_id": "f5b4e05c6af74c8f8ad50c7e4b2a865d",
       "version_major": 2,
       "version_minor": 0
      },
      "text/plain": [
       "Downloading artifacts:   0%|          | 0/11 [00:00<?, ?it/s]"
      ]
     },
     "metadata": {},
     "output_type": "display_data"
    },
    {
     "output_type": "execute_result",
     "data": {
      "text/plain": [
       "mlflow.pyfunc.loaded_model:\n",
       "  artifact_path: xgb_model\n",
       "  flavor: mlflow.xgboost\n",
       "  run_id: 1fd6d7f9beff4184889f7340767865f3"
      ]
     },
     "execution_count": 29,
     "metadata": {},
     "output_type": "execute_result"
    },
    {
     "output_type": "stream",
     "name": "stderr",
     "output_type": "stream",
     "text": [
      "INFO:py4j.clientserver:Closing down clientserver connection\nINFO:py4j.clientserver:Closing down clientserver connection\nINFO:py4j.clientserver:Closing down clientserver connection\nINFO:py4j.clientserver:Closing down clientserver connection\nINFO:py4j.clientserver:Closing down clientserver connection\nINFO:py4j.clientserver:Closing down clientserver connection\nINFO:py4j.clientserver:Closing down clientserver connection\nINFO:py4j.clientserver:Closing down clientserver connection\n"
     ]
    }
   ],
   "source": [
    "# Make sure the model is loaded correctly from MLflow\n",
    "loaded_model = mlflow.pyfunc.load_model(best_model_uri)\n",
    "loaded_model"
   ]
  },
  {
   "cell_type": "code",
   "execution_count": 0,
   "metadata": {
    "application/vnd.databricks.v1+cell": {
     "cellMetadata": {
      "byteLimit": 2048000,
      "rowLimit": 10000
     },
     "inputWidgets": {},
     "nuid": "ec702667-8ef7-41d2-9df2-3375d32a324d",
     "showTitle": false,
     "tableResultSettingsMap": {},
     "title": ""
    }
   },
   "outputs": [
    {
     "output_type": "execute_result",
     "data": {
      "text/plain": [
       "array([1, 0, 1, 1, 1, 1, 1, 1, 1, 1, 1, 1, 1, 0, 1, 1, 1, 3, 1, 0, 1, 1,\n",
       "       1, 1, 1, 3, 1, 0, 1, 1, 1, 1, 1, 1, 1, 1, 1, 1, 1, 0, 1, 1, 1, 1,\n",
       "       1, 0, 2, 1, 1, 1, 3, 1, 3, 1, 1, 1, 1, 0, 1, 1, 1, 1, 1, 1, 2, 1,\n",
       "       1, 1, 0, 2, 2, 1, 1, 1, 1, 1, 1, 1, 1, 3, 1, 1, 2, 1, 2, 1, 1, 1,\n",
       "       3, 1, 1, 3, 3, 1, 2, 1, 2, 1, 1, 3, 2, 1, 3, 1, 1, 1, 0, 1, 2, 1,\n",
       "       1, 1, 1, 1, 3, 1, 1, 2, 1, 1, 1, 3, 3, 1, 1, 1, 1, 0, 0, 3, 3, 2,\n",
       "       1, 1, 1, 1, 1, 1, 1, 1, 0, 1, 1, 3, 1, 1, 1, 2, 2, 3, 1, 2, 2, 1,\n",
       "       3, 1, 0, 3, 1, 1, 1, 1, 1, 3, 1, 1, 1, 1, 1, 1, 3, 1, 1, 2, 3, 1,\n",
       "       3, 1, 1, 1, 1, 1, 1, 1, 3, 1, 1, 2, 1, 1, 1, 1, 3, 1, 2, 1, 0, 1,\n",
       "       3, 0, 2, 2, 1, 2, 2, 1, 2, 1, 2, 1, 1, 1, 1, 1, 1, 1, 2, 1, 1, 1,\n",
       "       3, 1, 1, 1, 0, 0, 1, 1, 1, 1, 3, 1, 3, 1, 1, 1, 3, 1, 2, 1, 1, 3,\n",
       "       1, 1, 1, 1, 1, 1, 1, 1, 3, 1, 1, 3, 1, 1, 0, 1, 1, 1, 1, 2, 3, 1,\n",
       "       1, 1, 1, 1, 1, 0, 1, 1, 0, 1, 1, 1, 3, 1, 1, 1, 1, 3, 0, 1, 1, 3,\n",
       "       1, 1, 1, 1, 3, 1, 3, 1, 1, 1, 2, 1, 2, 2, 1, 2, 1, 1, 2, 1, 1, 1,\n",
       "       1, 1, 1, 1, 0, 1, 0, 1, 1, 1, 1, 3, 2, 2, 1, 1, 1, 1, 1, 2, 3, 3,\n",
       "       1, 1, 1, 1, 0, 1, 0, 2, 1, 2, 1, 2, 1, 2, 1, 1, 3, 1, 1, 1, 0, 0,\n",
       "       1, 1, 1, 3, 3, 1, 1, 2, 1, 1, 0, 1, 3, 1, 1, 1, 1, 1, 1, 1, 2, 2,\n",
       "       1, 1, 1, 1, 1, 1, 0, 1, 3, 1, 1, 1, 3, 0, 1, 1, 1, 1, 1, 1, 2, 1,\n",
       "       0, 3, 1, 1, 1, 0, 1, 0, 1, 1, 1, 1, 1, 1, 1, 0, 0, 2, 1, 0, 0, 1,\n",
       "       2, 3, 1, 1, 1, 1, 1, 0, 1, 3, 2, 1, 0, 3, 1, 0, 1, 3, 2, 0, 1, 2,\n",
       "       1, 3, 1, 1, 0, 0, 3, 1, 1, 2, 3, 1, 1, 1, 1, 1, 0, 0, 1, 1, 1, 3,\n",
       "       1, 1, 1, 3, 0, 1, 1, 1, 3, 1, 1, 0, 1, 1, 2, 0, 1, 1, 1, 2, 0, 1,\n",
       "       1, 1, 1, 3, 1, 1, 1, 1, 1, 0, 0, 1, 1, 1, 1, 2, 1, 3, 1, 1, 0, 2,\n",
       "       1, 1, 1, 0, 1, 1, 1, 1, 2, 3, 1, 1, 3, 1, 1, 2, 1, 1, 1, 0, 3, 1,\n",
       "       0, 3, 1, 1, 1, 0, 1, 3, 2, 1, 1, 1, 1, 0, 2, 1, 1, 1, 1, 0, 2, 0,\n",
       "       2, 0, 1, 1, 1, 1, 2, 1, 3, 1, 1, 1, 1, 1, 2, 1, 2, 1, 1, 0, 2, 2,\n",
       "       1, 1, 3, 1, 1, 0, 3, 1, 1, 1, 1, 1, 2, 1, 3, 0, 0, 1, 1, 0, 2, 1,\n",
       "       1, 1, 1, 2, 1, 0, 0, 1, 1, 3, 2, 3, 3, 1, 1, 1, 1, 1, 3, 0, 3, 1,\n",
       "       1, 1, 1, 1, 1, 1, 0, 1, 0, 1, 1, 1, 1, 3, 3, 3, 1, 1, 1, 0, 1, 1,\n",
       "       1, 1, 0, 1, 1, 1, 1, 1, 2, 1, 1, 1, 1, 3, 1, 1, 1, 0, 1, 1, 1, 3,\n",
       "       1, 1, 1, 3, 1, 3, 3, 1, 1, 1, 2, 0, 1, 3, 1, 1, 1, 1, 1, 1, 1, 1,\n",
       "       1, 3, 1, 2, 0, 1, 0, 2, 3, 2, 2, 1, 2, 1, 1, 1, 1, 1, 2, 1, 1, 3,\n",
       "       0, 1, 2, 3, 2, 0, 1, 0, 3, 1, 0, 1, 1])"
      ]
     },
     "execution_count": 30,
     "metadata": {},
     "output_type": "execute_result"
    }
   ],
   "source": [
    "loaded_model.predict(X_test)"
   ]
  },
  {
   "cell_type": "markdown",
   "metadata": {
    "application/vnd.databricks.v1+cell": {
     "cellMetadata": {
      "byteLimit": 2048000,
      "rowLimit": 10000
     },
     "inputWidgets": {},
     "nuid": "cb533bbd-8815-4150-bebd-87bebd53af76",
     "showTitle": false,
     "tableResultSettingsMap": {},
     "title": ""
    }
   },
   "source": [
    "Now we are satisfied with the model, we can register it in Unity Catalog"
   ]
  },
  {
   "cell_type": "code",
   "execution_count": 0,
   "metadata": {
    "application/vnd.databricks.v1+cell": {
     "cellMetadata": {
      "byteLimit": 2048000,
      "rowLimit": 10000
     },
     "inputWidgets": {},
     "nuid": "c8f05f40-211b-4cbf-a584-56d1200f56a3",
     "showTitle": false,
     "tableResultSettingsMap": {},
     "title": ""
    }
   },
   "outputs": [
    {
     "output_type": "stream",
     "name": "stderr",
     "output_type": "stream",
     "text": [
      "Successfully registered model 'main.e2eai_iot_turbine.turbine_maintenance'.\n"
     ]
    },
    {
     "output_type": "display_data",
     "data": {
      "application/vnd.jupyter.widget-view+json": {
       "model_id": "ca833d989f4d423998b4e5ff83469591",
       "version_major": 2,
       "version_minor": 0
      },
      "text/plain": [
       "Downloading artifacts:   0%|          | 0/11 [00:00<?, ?it/s]"
      ]
     },
     "metadata": {},
     "output_type": "display_data"
    },
    {
     "output_type": "display_data",
     "data": {
      "application/vnd.jupyter.widget-view+json": {
       "model_id": "a2cf9bfbeeea4abbad2f856c4f6a1f69",
       "version_major": 2,
       "version_minor": 0
      },
      "text/plain": [
       "Uploading artifacts:   0%|          | 0/11 [00:00<?, ?it/s]"
      ]
     },
     "metadata": {},
     "output_type": "display_data"
    },
    {
     "output_type": "stream",
     "name": "stderr",
     "output_type": "stream",
     "text": [
      "Created version '1' of model 'main.e2eai_iot_turbine.turbine_maintenance'.\n"
     ]
    }
   ],
   "source": [
    "\n",
    "latest_model = mlflow.register_model(best_model_uri, f\"{catalog}.{db}.{model_name}\")\n"
   ]
  },
  {
   "cell_type": "markdown",
   "metadata": {
    "application/vnd.databricks.v1+cell": {
     "cellMetadata": {
      "byteLimit": 2048000,
      "rowLimit": 10000
     },
     "inputWidgets": {},
     "nuid": "d276f063-05ad-4003-8e4f-d94735a6bc6b",
     "showTitle": false,
     "tableResultSettingsMap": {},
     "title": ""
    }
   },
   "source": [
    "If we're ready, we can move this model into Production stage in a click, or using the API. Let's register the model to Unity Catalog and move it to production.\n"
   ]
  },
  {
   "cell_type": "code",
   "execution_count": 0,
   "metadata": {
    "application/vnd.databricks.v1+cell": {
     "cellMetadata": {
      "byteLimit": 2048000,
      "rowLimit": 10000
     },
     "inputWidgets": {},
     "nuid": "44459c45-9d3c-43ca-8131-f95867ebe39c",
     "showTitle": false,
     "tableResultSettingsMap": {},
     "title": ""
    }
   },
   "outputs": [
    {
     "output_type": "stream",
     "name": "stderr",
     "output_type": "stream",
     "text": [
      "INFO:py4j.clientserver:Closing down clientserver connection\nINFO:py4j.clientserver:Closing down clientserver connection\nINFO:py4j.clientserver:Closing down clientserver connection\nINFO:py4j.clientserver:Closing down clientserver connection\nINFO:py4j.clientserver:Closing down clientserver connection\nINFO:py4j.clientserver:Closing down clientserver connection\n"
     ]
    }
   ],
   "source": [
    "# Flag it as Production ready using UC Aliases\n",
    "MlflowClient().set_registered_model_alias(name=f\"{catalog}.{db}.{model_name}\", \n",
    "                                          alias=\"prod\", \n",
    "                                          version=latest_model.version)"
   ]
  }
 ],
 "metadata": {
  "application/vnd.databricks.v1+notebook": {
   "computePreferences": {
    "hardware": {
     "accelerator": null,
     "gpuPoolId": null,
     "memory": null
    }
   },
   "dashboards": [],
   "environmentMetadata": {
    "base_environment": "",
    "environment_version": "3"
   },
   "inputWidgetPreferences": null,
   "language": "python",
   "notebookMetadata": {
    "mostRecentlyExecutedCommandWithImplicitDF": {
     "commandId": 8281987032933773,
     "dataframes": [
      "_sqldf"
     ]
    },
    "pythonIndentUnit": 4
   },
   "notebookName": "04.2-predictive_model_creation",
   "widgets": {}
  },
  "language_info": {
   "name": "python"
  }
 },
 "nbformat": 4,
 "nbformat_minor": 0
}
