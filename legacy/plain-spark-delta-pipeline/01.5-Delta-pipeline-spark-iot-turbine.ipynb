{
 "cells": [
  {
   "cell_type": "markdown",
   "metadata": {
    "application/vnd.databricks.v1+cell": {
     "cellMetadata": {},
     "inputWidgets": {},
     "isMarkdownSandbox": true,
     "nuid": "68cdd129-09a8-4974-9434-e82b3e49e164",
     "showTitle": false,
     "tableResultSettingsMap": {},
     "title": ""
    }
   },
   "source": [
    "# Ingesting and transforming IOT sensors from Wind Turbinge using Delta Lake and Spark API\n",
    "\n",
    "<img style=\"float: right\" width=\"300px\" src=\"https://raw.githubusercontent.com/QuentinAmbard/databricks-demo/main/retail/resources/images/lakehouse-retail/lakehouse-retail-churn-2.png\" />\n",
    "\n",
    "In this notebook, we'll show you an alternative to Delta Live Table: building an ingestion pipeline with the Spark API.\n",
    "\n",
    "As you'll see, this implementation is lower level than the Delta Live Table pipeline, and you'll have control over all the implementation details (handling checkpoints, data quality etc).\n",
    "\n",
    "Lower level also means more power. Using Spark API, you'll have unlimited capabilities to ingest data in Batch or Streaming.\n",
    "\n",
    "If you're unsure what to use, start with Delta Live Table!\n",
    "\n",
    "*Remember that Databricks workflow can be used to orchestrate a mix of Delta Live Table pipeline with standard Spark pipeline.*\n",
    "\n",
    "### Dataset:\n",
    "\n",
    "As reminder, we have multiple data sources coming from different system:\n",
    "\n",
    "* <strong>Turbine metadata</strong>: Turbine ID, location (1 row per turbine)\n",
    "* <strong>Turbine sensor stream</strong>: Realtime streaming flow from wind turbine sensor (vibration, energy produced, speed etc)\n",
    "* <strong>Turbine status</strong>: Historical turbine status based to analyse which part is faulty (used as label in our ML model)\n",
    "\n",
    "\n",
    "Leveraging Spark and Delta Lake makes such an implementation easy.\n",
    "\n",
    "\n",
    "<!-- Collect usage data (view). Remove it to disable collection. View README for more details.  -->\n",
    "<img width=\"1px\" src=\"https://ppxrzfxige.execute-api.us-west-2.amazonaws.com/v1/analytics?category=lakehouse&org_id=4003492105941350&notebook=%2F01-Data-ingestion%2Fplain-spark-delta-pipeline%2F01.5-Delta-pipeline-spark-iot-turbine&demo_name=lakehouse-iot-platform&event=VIEW&path=%2F_dbdemos%2Flakehouse%2Flakehouse-iot-platform%2F01-Data-ingestion%2Fplain-spark-delta-pipeline%2F01.5-Delta-pipeline-spark-iot-turbine&version=1\">"
   ]
  },
  {
   "cell_type": "code",
   "execution_count": 0,
   "metadata": {
    "application/vnd.databricks.v1+cell": {
     "cellMetadata": {},
     "inputWidgets": {},
     "nuid": "25826683-26fa-452b-9287-e24ff8ddce94",
     "showTitle": false,
     "tableResultSettingsMap": {},
     "title": ""
    }
   },
   "outputs": [],
   "source": [
    "%pip install mlflow==2.22.0"
   ]
  },
  {
   "cell_type": "code",
   "execution_count": 0,
   "metadata": {
    "application/vnd.databricks.v1+cell": {
     "cellMetadata": {},
     "inputWidgets": {},
     "nuid": "922daeb8-12cd-46c2-8b34-e24da7fae23e",
     "showTitle": false,
     "tableResultSettingsMap": {},
     "title": ""
    },
    "jupyter": {
     "outputs_hidden": true
    }
   },
   "outputs": [],
   "source": [
    "%run ../../_resources/00-setup"
   ]
  },
  {
   "cell_type": "markdown",
   "metadata": {
    "application/vnd.databricks.v1+cell": {
     "cellMetadata": {},
     "inputWidgets": {},
     "isMarkdownSandbox": true,
     "nuid": "46966cd5-b610-4d27-8f48-9d04ad2fcb84",
     "showTitle": false,
     "tableResultSettingsMap": {},
     "title": ""
    }
   },
   "source": [
    "## Building a Spark Data pipeline with Delta Lake\n",
    "\n",
    "In this example, we'll implement a end 2 end pipeline consuming our IOT sources. We'll use the medaillon architecture but could build a star schema, data vault or any other modelisation.\n",
    "\n",
    "\n",
    "\n",
    "This can be challenging with traditional systems due to the following:\n",
    " * Data quality issue\n",
    " * Running concurrent operation\n",
    " * Running DELETE/UPDATE/MERGE over files\n",
    " * Governance & schema evolution\n",
    " * Performance ingesting millions of small files on cloud buckets\n",
    " * Processing & analysing unstructured data (image, video...)\n",
    " * Switching between batch or streaming depending of your requirement...\n",
    "\n",
    "## Solving these challenges with Delta Lake\n",
    "\n",
    "<div style=\"float:left\">\n",
    "\n",
    "**What's Delta Lake? It's a new OSS standard to bring SQL Transactional database capabilities on top of parquet files!**\n",
    "\n",
    "Used as a new Spark format, built on top of Spark API / SQL\n",
    "\n",
    "* **ACID transactions** (Multiple writers can simultaneously modify a data set)\n",
    "* **Full DML support** (UPDATE/DELETE/MERGE)\n",
    "* **BATCH and STREAMING** support\n",
    "* **Data quality** (expectatiosn, Schema Enforcement, Inference and Evolution)\n",
    "* **TIME TRAVEL** (Look back on how data looked like in the past)\n",
    "* **Performance boost** with ZOrder, data skipping and Caching, solves small files issue \n",
    "</div>\n",
    "\n",
    "\n",
    "<img src=\"https://pages.databricks.com/rs/094-YMS-629/images/delta-lake-logo.png\" style=\"height: 200px\"/>\n",
    "\n",
    "<br style=\"clear: both\">\n",
    "\n",
    "We'll incrementally load new data with the autoloader, enrich this information and then load a model from MLFlow to perform our predictive maintenance forecast.\n",
    "\n",
    "This information will then be used to build our DBSQL dashboard to analyse current turbine farm and impact on stock.\n",
    "\n",
    "Let'simplement the following flow: \n",
    " \n",
    "<div><img width=\"1100px\" src=\"https://github.com/databricks-demos/dbdemos-resources/raw/main/images/manufacturing/lakehouse-iot-turbine/lakehouse-manuf-iot-turbine-spark-full.png\"/></div>\n",
    "\n",
    "*Note that we're including the ML model our [Data Scientist built](TODO) using Databricks AutoML to predict the churn.*"
   ]
  },
  {
   "cell_type": "markdown",
   "metadata": {
    "application/vnd.databricks.v1+cell": {
     "cellMetadata": {},
     "inputWidgets": {},
     "nuid": "eb0f53dc-86ad-438e-a3ed-6fdf5fd86a8a",
     "showTitle": false,
     "tableResultSettingsMap": {},
     "title": ""
    }
   },
   "source": [
    "## ![](https://pages.databricks.com/rs/094-YMS-629/images/delta-lake-tiny-logo.png) 1/ Explore the dataset\n",
    "\n",
    "Let's review the files being received"
   ]
  },
  {
   "cell_type": "code",
   "execution_count": 0,
   "metadata": {
    "application/vnd.databricks.v1+cell": {
     "cellMetadata": {},
     "inputWidgets": {},
     "nuid": "3f4ab523-d732-49f7-b521-a2b73ecf28a6",
     "showTitle": false,
     "tableResultSettingsMap": {},
     "title": ""
    }
   },
   "outputs": [],
   "source": [
    "%sql LIST '/Volumes/main/dbdemos_iot_turbine/turbine_raw_landing/incoming_data'"
   ]
  },
  {
   "cell_type": "code",
   "execution_count": 0,
   "metadata": {
    "application/vnd.databricks.v1+cell": {
     "cellMetadata": {},
     "inputWidgets": {},
     "nuid": "eabda1e6-f199-4ffe-a146-cd9f2c1262e2",
     "showTitle": true,
     "tableResultSettingsMap": {},
     "title": "Review the raw sensor data received as JSON"
    }
   },
   "outputs": [],
   "source": [
    "%sql\n",
    "SELECT * FROM PARQUET.`/Volumes/main/dbdemos_iot_turbine/turbine_raw_landing/incoming_data`"
   ]
  },
  {
   "cell_type": "markdown",
   "metadata": {
    "application/vnd.databricks.v1+cell": {
     "cellMetadata": {},
     "inputWidgets": {},
     "isMarkdownSandbox": true,
     "nuid": "915ad4e4-bedc-44c8-a2be-faa3026fd6bb",
     "showTitle": false,
     "tableResultSettingsMap": {},
     "title": ""
    }
   },
   "source": [
    "### 1/ Loading our data using Databricks Autoloader (cloud_files)\n",
    "<div style=\"float:right\">\n",
    "  <img width=\"700px\" src=\"https://github.com/databricks-demos/dbdemos-resources/raw/main/images/manufacturing/lakehouse-iot-turbine/lakehouse-manuf-iot-turbine-spark-1.png\"/>\n",
    "</div>\n",
    "  \n",
    "Autoloader allow us to efficiently ingest millions of files from a cloud storage, and support efficient schema inference and evolution at scale.\n",
    "\n",
    "For more details on autoloader, run `dbdemos.install('auto-loader')`\n",
    "\n",
    "Let's use it to create our pipeline and ingest the raw JSON & CSV data being delivered in our blob storage `/demos/retail/churn/...`. "
   ]
  },
  {
   "cell_type": "code",
   "execution_count": 0,
   "metadata": {
    "application/vnd.databricks.v1+cell": {
     "cellMetadata": {},
     "inputWidgets": {},
     "nuid": "fe60d104-ea43-4256-b59f-2f0868445769",
     "showTitle": true,
     "tableResultSettingsMap": {},
     "title": "We'll store the raw data in a USER_BRONZE DELTA table, supporting schema evolution and incorrect data"
    }
   },
   "outputs": [],
   "source": [
    "%sql\n",
    "-- Note: tables are automatically created during  .writeStream.table(\"sensor_bronze\") operation, but we can also use plain SQL to create them:\n",
    "CREATE TABLE IF NOT EXISTS spark_sensor_bronze (\n",
    "  energy   DOUBLE,\n",
    "  sensor_A DOUBLE,\n",
    "  sensor_B DOUBLE,\n",
    "  sensor_C DOUBLE,\n",
    "  sensor_D DOUBLE,\n",
    "  sensor_E DOUBLE,\n",
    "  sensor_F DOUBLE,\n",
    "  timestamp LONG,\n",
    "  turbine_id STRING     \n",
    "  ) using delta \n",
    "    CLUSTER BY (turbine_id) -- Requests by turbine ID will be faster, Databricks manage the file layout for you out of the box. \n",
    "    TBLPROPERTIES (\n",
    "     delta.autooptimize.optimizewrite = TRUE,\n",
    "     delta.autooptimize.autocompact   = TRUE ); \n",
    "-- With these 2 last options, Databricks engine will solve small files & optimize write out of the box!"
   ]
  },
  {
   "cell_type": "code",
   "execution_count": 0,
   "metadata": {
    "application/vnd.databricks.v1+cell": {
     "cellMetadata": {},
     "inputWidgets": {},
     "nuid": "62ed51fd-9858-4217-8274-47896e572598",
     "showTitle": false,
     "tableResultSettingsMap": {},
     "title": ""
    }
   },
   "outputs": [],
   "source": [
    "volume_folder = f'/Volumes/{catalog}/{db}/{volume_name}'\n",
    "def ingest_folder(folder, data_format, table):\n",
    "  bronze_products = (spark.readStream\n",
    "                              .format(\"cloudFiles\")\n",
    "                              .option(\"cloudFiles.format\", data_format)\n",
    "                              .option(\"cloudFiles.inferColumnTypes\", \"true\")\n",
    "                              .option(\"cloudFiles.schemaLocation\", f\"{volume_folder}/schema/{table}\") #Autoloader will automatically infer all the schema & evolution\n",
    "                              .load(folder))\n",
    "\n",
    "  return (bronze_products.writeStream\n",
    "                    .option(\"checkpointLocation\", f\"{volume_folder}/checkpoint/{table}\") #exactly once delivery on Delta tables over restart/kill\n",
    "                    .option(\"mergeSchema\", \"true\") #merge any new column dynamically\n",
    "                    .trigger(availableNow= True) #Remove for real time streaming\n",
    "                    .table(\"spark_\"+table)) #Table will be created if we haven't specified the schema first\n",
    "  \n",
    "ingest_folder(f'{volume_folder}/historical_turbine_status', 'json', 'spark_historical_turbine_status')\n",
    "ingest_folder(f'{volume_folder}/turbine', 'json', 'spark_turbine')\n",
    "ingest_folder(f'{volume_folder}/incoming_data', 'parquet', 'spark_sensor_bronze').awaitTermination()"
   ]
  },
  {
   "cell_type": "code",
   "execution_count": 0,
   "metadata": {
    "application/vnd.databricks.v1+cell": {
     "cellMetadata": {},
     "inputWidgets": {},
     "nuid": "a0f1f33b-c8a3-434c-b51b-7cd72335ba16",
     "showTitle": true,
     "tableResultSettingsMap": {},
     "title": "Our user_bronze Delta table is now ready for efficient query"
    }
   },
   "outputs": [],
   "source": [
    "%sql \n",
    "-- Note the \"_rescued_data\" column. If we receive wrong data not matching existing schema, it'll be stored here\n",
    "select * from spark_sensor_bronze;"
   ]
  },
  {
   "cell_type": "code",
   "execution_count": 0,
   "metadata": {
    "application/vnd.databricks.v1+cell": {
     "cellMetadata": {},
     "inputWidgets": {},
     "nuid": "c7f161b5-9477-4268-93f8-4705c6896107",
     "showTitle": false,
     "tableResultSettingsMap": {},
     "title": ""
    }
   },
   "outputs": [],
   "source": [
    "%sql \n",
    "-- Note the \"_rescued_data\" column. If we receive wrong data not matching existing schema, it'll be stored here\n",
    "select * from spark_turbine;"
   ]
  },
  {
   "cell_type": "code",
   "execution_count": 0,
   "metadata": {
    "application/vnd.databricks.v1+cell": {
     "cellMetadata": {},
     "inputWidgets": {},
     "nuid": "0adc0d15-af3f-4420-8f0e-2a1e1afb2481",
     "showTitle": true,
     "tableResultSettingsMap": {},
     "title": "Quick data exploration leveraging pandas on spark (Koalas): sensor from our first turbine"
    }
   },
   "outputs": [],
   "source": [
    "#Let's explore a bit our datasets with pandas on spark.\n",
    "first_turbine = spark.table('spark_sensor_bronze').limit(1).collect()[0]['turbine_id']\n",
    "df = spark.table('spark_sensor_bronze').where(f\"turbine_id == '{first_turbine}' \").orderBy('timestamp').pandas_api()\n",
    "df.plot(x=\"timestamp\", y=[\"sensor_F\", \"sensor_E\"], kind=\"line\")"
   ]
  },
  {
   "cell_type": "markdown",
   "metadata": {
    "application/vnd.databricks.v1+cell": {
     "cellMetadata": {},
     "inputWidgets": {},
     "isMarkdownSandbox": true,
     "nuid": "369c495a-0617-4ef6-b256-9f879640e2cb",
     "showTitle": false,
     "tableResultSettingsMap": {},
     "title": ""
    }
   },
   "source": [
    "\n",
    "## ![](https://pages.databricks.com/rs/094-YMS-629/images/delta-lake-tiny-logo.png) 2/ Silver data: date cleaned\n",
    "\n",
    "<img width=\"700px\" style=\"float:right\" src=\"https://github.com/databricks-demos/dbdemos-resources/raw/main/images/manufacturing/lakehouse-iot-turbine/lakehouse-manuf-iot-turbine-spark-2.png\"/>\n",
    "\n",
    "We can chain these incremental transformation between tables, consuming only new data.\n",
    "\n",
    "This can be triggered in near realtime, or in batch fashion, for example as a job running every night to consume daily data."
   ]
  },
  {
   "cell_type": "code",
   "execution_count": 0,
   "metadata": {
    "application/vnd.databricks.v1+cell": {
     "cellMetadata": {},
     "inputWidgets": {},
     "nuid": "c62d8d4b-a459-4647-9687-6c9ba03d92a0",
     "showTitle": false,
     "tableResultSettingsMap": {},
     "title": ""
    }
   },
   "outputs": [],
   "source": [
    "import pyspark.sql.functions as F\n",
    "#Compute std and percentil of our timeserie per hour\n",
    "sensors = [c for c in spark.read.table(\"spark_sensor_bronze\").columns if \"sensor\" in c]\n",
    "aggregations = [F.avg(\"energy\").alias(\"avg_energy\")]\n",
    "for sensor in sensors:\n",
    "  aggregations.append(F.stddev_pop(sensor).alias(\"std_\"+sensor))\n",
    "  aggregations.append(F.percentile_approx(sensor, [0.1, 0.3, 0.6, 0.8, 0.95]).alias(\"percentiles_\"+sensor))\n",
    "  \n",
    "df = (spark.table(\"spark_sensor_bronze\")\n",
    "          .withColumn(\"hourly_timestamp\", F.date_trunc(\"hour\", F.from_unixtime(\"timestamp\")))\n",
    "          .groupBy('hourly_timestamp', 'turbine_id').agg(*aggregations))\n",
    "\n",
    "df.write.mode('overwrite').saveAsTable(\"spark_sensor_hourly\")\n",
    "display(spark.table(\"spark_sensor_hourly\"))\n",
    "#Note: a more scalable solution would be to switch to streaming API and compute the aggregation with a ~3hours watermark and MERGE (upserting) the final output. For this demo clarity we we'll go with a full table update instead."
   ]
  },
  {
   "cell_type": "markdown",
   "metadata": {
    "application/vnd.databricks.v1+cell": {
     "cellMetadata": {},
     "inputWidgets": {},
     "isMarkdownSandbox": true,
     "nuid": "ca41b25e-e96a-4775-8582-300bb228db6d",
     "showTitle": false,
     "tableResultSettingsMap": {},
     "title": ""
    }
   },
   "source": [
    "\n",
    "## ![](https://pages.databricks.com/rs/094-YMS-629/images/delta-lake-tiny-logo.png) 3/ Build our training dataset\n",
    "\n",
    "<img width=\"700px\" style=\"float:right\" src=\"https://github.com/databricks-demos/dbdemos-resources/raw/main/images/manufacturing/lakehouse-iot-turbine/lakehouse-manuf-iot-turbine-spark-3.png\"/>\n",
    "\n",
    "We can chain these incremental transformation between tables, consuming only new data.\n",
    "\n",
    "This can be triggered in near realtime, or in batch fashion, for example as a job running every night to consume daily data."
   ]
  },
  {
   "cell_type": "code",
   "execution_count": 0,
   "metadata": {
    "application/vnd.databricks.v1+cell": {
     "cellMetadata": {},
     "inputWidgets": {},
     "nuid": "f76028eb-754e-48e0-8f7b-db08a99dce8b",
     "showTitle": false,
     "tableResultSettingsMap": {},
     "title": ""
    }
   },
   "outputs": [],
   "source": [
    "turbine = spark.table(\"spark_turbine\")\n",
    "health = spark.table(\"spark_historical_turbine_status\")\n",
    "(spark.table(\"spark_sensor_hourly\")\n",
    "  .join(turbine, ['turbine_id']).drop(\"row\", \"_rescued_data\")\n",
    "  .join(health, ['turbine_id'])\n",
    "  .drop(\"_rescued_data\")\n",
    "  .write.mode('overwrite').saveAsTable(\"spark_turbine_training_dataset\"))\n",
    "\n",
    "display(spark.table(\"spark_turbine_training_dataset\"))"
   ]
  },
  {
   "cell_type": "markdown",
   "metadata": {
    "application/vnd.databricks.v1+cell": {
     "cellMetadata": {},
     "inputWidgets": {},
     "isMarkdownSandbox": true,
     "nuid": "93a4c708-815d-4ea2-a975-8fd3c6698b71",
     "showTitle": false,
     "tableResultSettingsMap": {},
     "title": ""
    }
   },
   "source": [
    "\n",
    "## ![](https://pages.databricks.com/rs/094-YMS-629/images/delta-lake-tiny-logo.png) 4/ Call the ML model and get realtime turbine metrics\n",
    "\n",
    "<img width=\"700px\" style=\"float:right\" src=\"https://github.com/databricks-demos/dbdemos-resources/raw/main/images/manufacturing/lakehouse-iot-turbine/lakehouse-manuf-iot-turbine-spark-4.png\"/>\n",
    "\n",
    "We can chain these incremental transformation between tables, consuming only new data.\n",
    "\n",
    "This can be triggered in near realtime, or in batch fashion, for example as a job running every night to consume daily data."
   ]
  },
  {
   "cell_type": "code",
   "execution_count": 0,
   "metadata": {
    "application/vnd.databricks.v1+cell": {
     "cellMetadata": {},
     "inputWidgets": {},
     "nuid": "7f1792c0-b83e-44a8-a0af-8ae028d7cd99",
     "showTitle": false,
     "tableResultSettingsMap": {},
     "title": ""
    }
   },
   "outputs": [],
   "source": [
    "import mlflow\n",
    "mlflow.set_registry_uri('databricks-uc')\n",
    "#                                                                                                    Stage/version  \n",
    "#                                                                                       Model name         |        \n",
    "#                                                                                           |              |        \n",
    "predict_maintenance = mlflow.pyfunc.spark_udf(spark, f\"models:/{catalog}.{db}.dbdemos_turbine_maintenance@prod\", \"string\", env_manager='virtualenv')\n",
    "#We can use the function in SQL\n",
    "spark.udf.register(\"predict_maintenance\", predict_maintenance)\n",
    "columns = predict_maintenance.metadata.get_input_schema().input_names()"
   ]
  },
  {
   "cell_type": "code",
   "execution_count": 0,
   "metadata": {
    "application/vnd.databricks.v1+cell": {
     "cellMetadata": {},
     "inputWidgets": {},
     "nuid": "93cbf11a-e805-451d-9a8a-72c2f56f1976",
     "showTitle": false,
     "tableResultSettingsMap": {},
     "title": ""
    }
   },
   "outputs": [],
   "source": [
    "w = Window.partitionBy(\"turbine_id\").orderBy(col(\"hourly_timestamp\").desc())\n",
    "(spark.table(\"spark_sensor_hourly\")\n",
    "  .withColumn(\"row\", F.row_number().over(w))\n",
    "  .filter(col(\"row\") == 1)\n",
    "  .join(spark.table('spark_turbine'), ['turbine_id']).drop(\"row\", \"_rescued_data\")\n",
    "  .withColumn(\"prediction\", predict_maintenance(*columns))\n",
    "  .write.mode('overwrite').saveAsTable(\"spark_current_turbine_metrics\"))"
   ]
  },
  {
   "cell_type": "code",
   "execution_count": 0,
   "metadata": {
    "application/vnd.databricks.v1+cell": {
     "cellMetadata": {},
     "inputWidgets": {},
     "nuid": "f4f0b334-9e53-4956-8412-241aafcc27f9",
     "showTitle": false,
     "tableResultSettingsMap": {},
     "title": ""
    }
   },
   "outputs": [],
   "source": [
    "%sql select * from spark_current_turbine_metrics"
   ]
  },
  {
   "cell_type": "markdown",
   "metadata": {
    "application/vnd.databricks.v1+cell": {
     "cellMetadata": {},
     "inputWidgets": {},
     "nuid": "5fce1119-1edd-4fb5-b4b7-9c7c593da7a8",
     "showTitle": false,
     "tableResultSettingsMap": {},
     "title": ""
    }
   },
   "source": [
    "## Simplify your operations with transactional DELETE/UPDATE/MERGE operations\n",
    "\n",
    "Traditional Data Lake struggle to run these simple DML operations. Using Databricks and Delta Lake, your data is stored on your blob storage with transactional capabilities. You can issue DML operation on Petabyte of data without having to worry about concurrent operations."
   ]
  },
  {
   "cell_type": "code",
   "execution_count": 0,
   "metadata": {
    "application/vnd.databricks.v1+cell": {
     "cellMetadata": {},
     "inputWidgets": {},
     "nuid": "8b037dae-b339-4e8f-b530-5a797cfffa73",
     "showTitle": true,
     "tableResultSettingsMap": {},
     "title": "We just realised we have to delete bad entry for a specific turbine"
    }
   },
   "outputs": [],
   "source": [
    "spark.sql(f\"DELETE FROM spark_sensor_bronze where turbine_id='{first_turbine}'\")"
   ]
  },
  {
   "cell_type": "code",
   "execution_count": 0,
   "metadata": {
    "application/vnd.databricks.v1+cell": {
     "cellMetadata": {},
     "inputWidgets": {},
     "nuid": "95a664fa-1635-403c-b687-639dae70e72f",
     "showTitle": true,
     "tableResultSettingsMap": {},
     "title": "Delta Lake keeps history of the table operation"
    }
   },
   "outputs": [],
   "source": [
    "%sql describe history spark_sensor_bronze;"
   ]
  },
  {
   "cell_type": "code",
   "execution_count": 0,
   "metadata": {
    "application/vnd.databricks.v1+cell": {
     "cellMetadata": {},
     "inputWidgets": {},
     "nuid": "a28b8506-37a6-4784-adf7-8bbed2c24eb9",
     "showTitle": true,
     "tableResultSettingsMap": {},
     "title": "We can leverage the history to go back in time, restore or clone a table and enable CDC..."
    }
   },
   "outputs": [],
   "source": [
    "%sql \n",
    " --also works with AS OF TIMESTAMP \"yyyy-MM-dd HH:mm:ss\"\n",
    "select * from spark_sensor_bronze version as of 1 ;\n",
    "\n",
    "-- You made the DELETE by mistake ? You can easily restore the table at a given version / date:\n",
    "-- RESTORE TABLE spark_sensor_bronze TO VERSION AS OF 1\n",
    "\n",
    "-- Or clone it (SHALLOW provides zero copy clone):\n",
    "-- CREATE TABLE spark_sensor_bronze_clone SHALLOW|DEEP CLONE sensor_bronze VERSION AS OF 1\n",
    "\n",
    "-- Turn on CDC to capture insert/update/delete operation:\n",
    "-- ALTER TABLE spark_sensor_bronze SET TBLPROPERTIES (delta.enableChangeDataFeed = true)"
   ]
  },
  {
   "cell_type": "code",
   "execution_count": 0,
   "metadata": {
    "application/vnd.databricks.v1+cell": {
     "cellMetadata": {},
     "inputWidgets": {},
     "nuid": "ff711ac9-f693-4058-a592-35ed8c70701d",
     "showTitle": true,
     "tableResultSettingsMap": {},
     "title": "Make sure all our tables are optimized"
    }
   },
   "outputs": [],
   "source": [
    "%sql\n",
    "--Note: can be turned on by default or for all the database\n",
    "ALTER TABLE spark_turbine                  SET TBLPROPERTIES (delta.autooptimize.optimizewrite = TRUE, delta.autooptimize.autocompact = TRUE );\n",
    "ALTER TABLE spark_sensor_bronze            SET TBLPROPERTIES (delta.autooptimize.optimizewrite = TRUE, delta.autooptimize.autocompact = TRUE );\n",
    "ALTER TABLE spark_current_turbine_metrics  SET TBLPROPERTIES (delta.autooptimize.optimizewrite = TRUE, delta.autooptimize.autocompact = TRUE );"
   ]
  },
  {
   "cell_type": "markdown",
   "metadata": {
    "application/vnd.databricks.v1+cell": {
     "cellMetadata": {},
     "inputWidgets": {},
     "isMarkdownSandbox": true,
     "nuid": "148c7323-5425-4224-9174-8973e5e71d96",
     "showTitle": false,
     "tableResultSettingsMap": {},
     "title": ""
    }
   },
   "source": [
    "## Our finale tables are now ready to be used to build SQL Dashboards and ML models for predictive maintenance!\n",
    "<img style=\"float: right\" width=\"400\" src=\"https://github.com/databricks-demos/dbdemos-resources/raw/main/images/manufacturing/lakehouse-iot-turbine/lakehouse-manuf-iot-dashboard-1.png\"/>\n",
    "\n",
    "Switch to Databricks SQL to see how this data can easily be requested with the [Turbine DBSQL Dashboard](/sql/dashboards/a6bb11d9-1024-47df-918d-f47edc92d5f4) to start reviewing our Wind Turbine stats or the [DBSQL Predictive maintenance Dashboard](/sql/dashboards/d966eb63-6d37-4762-b90f-d3a2b51b9ba8).\n",
    "\n",
    "Creating a single flow was simple.  However, handling many data pipeline at scale can become a real challenge:\n",
    "* Hard to build and maintain table dependencies \n",
    "* Difficult to monitor & enforce advance data quality\n",
    "* Impossible to trace data lineage\n",
    "* Difficult pipeline operations (observability, error recovery)\n",
    "\n",
    "\n",
    "#### To solve these challenges, Databricks introduced **Delta Live Table**\n",
    "A simple way to build and manage data pipelines for fresh, high quality data!"
   ]
  },
  {
   "cell_type": "markdown",
   "metadata": {
    "application/vnd.databricks.v1+cell": {
     "cellMetadata": {},
     "inputWidgets": {},
     "nuid": "4c4814b8-dcfc-4e66-877c-3f55afb4e8aa",
     "showTitle": false,
     "tableResultSettingsMap": {},
     "title": ""
    }
   },
   "source": [
    "# Next: secure and share data with Unity Catalog\n",
    "\n",
    "Now that these tables are available in our Lakehouse, let's review how we can share them with the Data Scientists and Data Analysts teams.\n",
    "\n",
    "Jump to the [Governance with Unity Catalog notebook]($../../02-Data-governance/02-UC-data-governance-security-iot-turbine) or [Go back to the introduction]($../../00-IOT-wind-turbine-introduction-lakehouse)"
   ]
  }
 ],
 "metadata": {
  "application/vnd.databricks.v1+notebook": {
   "computePreferences": null,
   "dashboards": [],
   "environmentMetadata": {
    "environment_version": "2"
   },
   "inputWidgetPreferences": null,
   "language": "python",
   "notebookMetadata": {
    "pythonIndentUnit": 4
   },
   "notebookName": "01.5-Delta-pipeline-spark-iot-turbine",
   "widgets": {}
  },
  "language_info": {
   "name": "python"
  }
 },
 "nbformat": 4,
 "nbformat_minor": 0
}
