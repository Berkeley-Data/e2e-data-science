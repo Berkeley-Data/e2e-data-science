{
 "cells": [
  {
   "cell_type": "code",
   "execution_count": 0,
   "metadata": {
    "application/vnd.databricks.v1+cell": {
     "cellMetadata": {},
     "inputWidgets": {},
     "nuid": "5cb5d9e7-e551-44f5-bc80-5d6c6b23df1b",
     "showTitle": false,
     "tableResultSettingsMap": {},
     "title": ""
    }
   },
   "outputs": [],
   "source": [
    "!pip install --quiet databricks-dlt \n",
    "dbutils.library.restartPython()\n",
    "import dlt\n"
   ]
  },
  {
   "cell_type": "code",
   "execution_count": 0,
   "metadata": {
    "application/vnd.databricks.v1+cell": {
     "cellMetadata": {},
     "inputWidgets": {},
     "nuid": "ae7c1e52-27ff-49d3-a335-18da69623f48",
     "showTitle": false,
     "tableResultSettingsMap": {},
     "title": ""
    }
   },
   "outputs": [],
   "source": [
    "import dlt\n",
    "from pyspark.sql.functions import concat, col, array, from_unixtime\n",
    "\n",
    "@dlt.table(\n",
    "    name=\"turbine_training_dataset\",\n",
    "    comment=\"Hourly sensor stats, used to describe signal and detect anomalies\"\n",
    ")\n",
    "def turbine_training_dataset():\n",
    "    sensor_hourly = dlt.read(\"sensor_silver\")\n",
    "    turbine = dlt.read(\"turbine_bronze\")\n",
    "    historical_turbine_status = dlt.read(\"historical_turbine_bronze\")\n",
    "    \n",
    "    return (\n",
    "        sensor_hourly.alias(\"m\")\n",
    "        .join(turbine.alias(\"t\"), \"turbine_id\")\n",
    "        .join(historical_turbine_status.alias(\"s\"), \n",
    "              (col(\"m.turbine_id\") == col(\"s.turbine_id\")) & \n",
    "              (from_unixtime(col(\"s.start_time\")) < col(\"m.hourly_timestamp\")) & \n",
    "              (from_unixtime(col(\"s.end_time\")) > col(\"m.hourly_timestamp\"))\n",
    "        )\n",
    "        .select(\n",
    "            concat(col(\"t.turbine_id\"), \"-\", col(\"s.start_time\")).alias(\"composite_key\"),\n",
    "            array(\n",
    "                col(\"std_sensor_A\"), col(\"std_sensor_B\"), col(\"std_sensor_C\"), \n",
    "                col(\"std_sensor_D\"), col(\"std_sensor_E\"), col(\"std_sensor_F\")\n",
    "            ).alias(\"sensor_vector\"),\n",
    "            *[col for col in sensor_hourly.columns if col not in [\"_rescued_data\", \"turbine_id\"]],\n",
    "            *[col for col in turbine.columns if col != \"_rescued_data\"],\n",
    "            *[col for col in historical_turbine_status.columns if col != \"_rescued_data\"]\n",
    "        )\n",
    "    )"
   ]
  }
 ],
 "metadata": {
  "application/vnd.databricks.v1+notebook": {
   "computePreferences": null,
   "dashboards": [],
   "environmentMetadata": {
    "base_environment": "",
    "environment_version": "3"
   },
   "inputWidgetPreferences": null,
   "language": "python",
   "notebookMetadata": {
    "pythonIndentUnit": 4
   },
   "notebookName": "gold_dataset",
   "widgets": {}
  },
  "language_info": {
   "name": "python"
  }
 },
 "nbformat": 4,
 "nbformat_minor": 0
}
