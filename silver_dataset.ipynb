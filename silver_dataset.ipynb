{
 "cells": [
  {
   "cell_type": "code",
   "execution_count": 0,
   "metadata": {
    "application/vnd.databricks.v1+cell": {
     "cellMetadata": {
      "byteLimit": 2048000,
      "rowLimit": 10000
     },
     "inputWidgets": {},
     "nuid": "7ab13ff4-ae3c-40b4-9764-3885f9b5a922",
     "showTitle": false,
     "tableResultSettingsMap": {},
     "title": ""
    }
   },
   "outputs": [],
   "source": [
    "!pip install --quiet databricks-dlt \n",
    "dbutils.library.restartPython()"
   ]
  },
  {
   "cell_type": "code",
   "execution_count": 0,
   "metadata": {
    "application/vnd.databricks.v1+cell": {
     "cellMetadata": {
      "byteLimit": 2048000,
      "rowLimit": 10000
     },
     "inputWidgets": {},
     "nuid": "97561761-a4f0-4b20-994a-767d0a432f83",
     "showTitle": false,
     "tableResultSettingsMap": {},
     "title": ""
    }
   },
   "outputs": [],
   "source": [
    "import dlt\n",
    "from pyspark.sql.functions import col, date_trunc, from_unixtime, avg, stddev_pop, percentile_approx\n"
   ]
  },
  {
   "cell_type": "code",
   "execution_count": 0,
   "metadata": {
    "application/vnd.databricks.v1+cell": {
     "cellMetadata": {
      "byteLimit": 2048000,
      "rowLimit": 10000
     },
     "inputWidgets": {},
     "nuid": "75e12102-39f8-48d4-a6ca-9a8e3db8b1fa",
     "showTitle": false,
     "tableResultSettingsMap": {},
     "title": ""
    }
   },
   "outputs": [],
   "source": [
    "dlt.enable_local_execution()\n",
    "\n",
    "@dlt.table(\n",
    "    name=\"sensor_silver\",\n",
    "    comment=\"Hourly sensor stats, used to describe signal and detect anomalies\"\n",
    ")\n",
    "@dlt.expect_or_drop(\"turbine_id_valid\", \"turbine_id IS NOT NULL\")\n",
    "@dlt.expect_or_drop(\"timestamp_valid\", \"hourly_timestamp IS NOT NULL\")\n",
    "def sensor_silver():\n",
    "    return (\n",
    "        spark.table(\"LIVE.sensor_bronze\")\n",
    "        .select(\n",
    "            col(\"turbine_id\"),\n",
    "            date_trunc('hour', from_unixtime(col(\"timestamp\"))).alias(\"hourly_timestamp\"),\n",
    "            avg(\"energy\").alias(\"avg_energy\"),\n",
    "            stddev_pop(\"sensor_A\").alias(\"std_sensor_A\"),\n",
    "            stddev_pop(\"sensor_B\").alias(\"std_sensor_B\"),\n",
    "            stddev_pop(\"sensor_C\").alias(\"std_sensor_C\"),\n",
    "            stddev_pop(\"sensor_D\").alias(\"std_sensor_D\"),\n",
    "            stddev_pop(\"sensor_E\").alias(\"std_sensor_E\"),\n",
    "            stddev_pop(\"sensor_F\").alias(\"std_sensor_F\"),\n",
    "            percentile_approx(\"sensor_A\", [0.1, 0.3, 0.6, 0.8, 0.95]).alias(\"percentiles_sensor_A\"),\n",
    "            percentile_approx(\"sensor_B\", [0.1, 0.3, 0.6, 0.8, 0.95]).alias(\"percentiles_sensor_B\"),\n",
    "            percentile_approx(\"sensor_C\", [0.1, 0.3, 0.6, 0.8, 0.95]).alias(\"percentiles_sensor_C\"),\n",
    "            percentile_approx(\"sensor_D\", [0.1, 0.3, 0.6, 0.8, 0.95]).alias(\"percentiles_sensor_D\"),\n",
    "            percentile_approx(\"sensor_E\", [0.1, 0.3, 0.6, 0.8, 0.95]).alias(\"percentiles_sensor_E\"),\n",
    "            percentile_approx(\"sensor_F\", [0.1, 0.3, 0.6, 0.8, 0.95]).alias(\"percentiles_sensor_F\")\n",
    "        )\n",
    "        .groupBy(\"hourly_timestamp\", \"turbine_id\")\n",
    "        .agg(\n",
    "            avg(\"energy\").alias(\"avg_energy\"),\n",
    "            stddev_pop(\"sensor_A\").alias(\"std_sensor_A\"),\n",
    "            stddev_pop(\"sensor_B\").alias(\"std_sensor_B\"),\n",
    "            stddev_pop(\"sensor_C\").alias(\"std_sensor_C\"),\n",
    "            stddev_pop(\"sensor_D\").alias(\"std_sensor_D\"),\n",
    "            stddev_pop(\"sensor_E\").alias(\"std_sensor_E\"),\n",
    "            stddev_pop(\"sensor_F\").alias(\"std_sensor_F\"),\n",
    "            percentile_approx(\"sensor_A\", [0.1, 0.3, 0.6, 0.8, 0.95]).alias(\"percentiles_sensor_A\"),\n",
    "            percentile_approx(\"sensor_B\", [0.1, 0.3, 0.6, 0.8, 0.95]).alias(\"percentiles_sensor_B\"),\n",
    "            percentile_approx(\"sensor_C\", [0.1, 0.3, 0.6, 0.8, 0.95]).alias(\"percentiles_sensor_C\"),\n",
    "            percentile_approx(\"sensor_D\", [0.1, 0.3, 0.6, 0.8, 0.95]).alias(\"percentiles_sensor_D\"),\n",
    "            percentile_approx(\"sensor_E\", [0.1, 0.3, 0.6, 0.8, 0.95]).alias(\"percentiles_sensor_E\"),\n",
    "            percentile_approx(\"sensor_F\", [0.1, 0.3, 0.6, 0.8, 0.95]).alias(\"percentiles_sensor_F\")\n",
    "        )\n",
    "    )"
   ]
  }
 ],
 "metadata": {
  "application/vnd.databricks.v1+notebook": {
   "computePreferences": null,
   "dashboards": [],
   "environmentMetadata": {
    "base_environment": "",
    "environment_version": "3"
   },
   "inputWidgetPreferences": null,
   "language": "python",
   "notebookMetadata": {
    "pythonIndentUnit": 4
   },
   "notebookName": "silver_dataset",
   "widgets": {}
  },
  "language_info": {
   "name": "python"
  }
 },
 "nbformat": 4,
 "nbformat_minor": 0
}
