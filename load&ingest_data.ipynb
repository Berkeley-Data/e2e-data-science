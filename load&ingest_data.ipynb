{
 "cells": [
  {
   "cell_type": "code",
   "execution_count": 0,
   "metadata": {
    "application/vnd.databricks.v1+cell": {
     "cellMetadata": {
      "byteLimit": 2048000,
      "rowLimit": 10000
     },
     "inputWidgets": {},
     "nuid": "56b60d5d-6c00-4871-a37c-b28017f5a6e9",
     "showTitle": false,
     "tableResultSettingsMap": {},
     "title": ""
    }
   },
   "outputs": [],
   "source": [
    "!pip install --quiet dbdemos"
   ]
  },
  {
   "cell_type": "code",
   "execution_count": 0,
   "metadata": {
    "application/vnd.databricks.v1+cell": {
     "cellMetadata": {
      "byteLimit": 2048000,
      "rowLimit": 10000
     },
     "inputWidgets": {},
     "nuid": "25d5a6e9-8bb5-474c-bbb9-19df3cc2c46b",
     "showTitle": false,
     "tableResultSettingsMap": {},
     "title": ""
    }
   },
   "outputs": [],
   "source": [
    "%pip install --quiet databricks-dlt"
   ]
  },
  {
   "cell_type": "code",
   "execution_count": 0,
   "metadata": {
    "application/vnd.databricks.v1+cell": {
     "cellMetadata": {
      "byteLimit": 2048000,
      "rowLimit": 10000
     },
     "inputWidgets": {},
     "nuid": "e071ac87-49be-4cb5-904f-35c1ea84cabd",
     "showTitle": false,
     "tableResultSettingsMap": {},
     "title": ""
    }
   },
   "outputs": [],
   "source": [
    "# Note: you may need to restart the kernel using %restart_python or \n",
    "\n",
    "dbutils.library.restartPython()\n",
    "import dbdemos\n",
    "dbdemos.install('lakehouse-iot-platform', catalog='main', schema='dbdemos_iot_turbine')"
   ]
  },
  {
   "cell_type": "code",
   "execution_count": 0,
   "metadata": {
    "application/vnd.databricks.v1+cell": {
     "cellMetadata": {
      "byteLimit": 2048000,
      "rowLimit": 10000
     },
     "inputWidgets": {},
     "nuid": "76dc6dd6-eb8c-4932-a6d6-70c8a2a23f53",
     "showTitle": false,
     "tableResultSettingsMap": {},
     "title": ""
    }
   },
   "outputs": [],
   "source": [
    "display(spark.read.json('/Volumes/main/dbdemos_iot_turbine/turbine_raw_landing/turbine'))"
   ]
  },
  {
   "cell_type": "code",
   "execution_count": 0,
   "metadata": {
    "application/vnd.databricks.v1+cell": {
     "cellMetadata": {
      "byteLimit": 2048000,
      "rowLimit": 10000
     },
     "inputWidgets": {},
     "nuid": "39a95021-0bf9-493c-ae3d-3321e18192e0",
     "showTitle": false,
     "tableResultSettingsMap": {},
     "title": ""
    }
   },
   "outputs": [],
   "source": [
    "display(spark.read.json('/Volumes/main/dbdemos_iot_turbine/turbine_raw_landing/historical_turbine_status')) #Historical turbine status analyzed"
   ]
  },
  {
   "cell_type": "code",
   "execution_count": 0,
   "metadata": {
    "application/vnd.databricks.v1+cell": {
     "cellMetadata": {},
     "inputWidgets": {},
     "nuid": "6ab2a899-a01f-4b29-81d4-3182756bc7ed",
     "showTitle": true,
     "tableResultSettingsMap": {},
     "title": "Turbine metadata"
    }
   },
   "outputs": [],
   "source": [
    "# %sql\n",
    "\n",
    "# CREATE STREAMING TABLE turbine (\n",
    "#   CONSTRAINT correct_schema EXPECT (_rescued_data IS NULL)\n",
    "# )\n",
    "# COMMENT \"Turbine details, with location, wind turbine model type etc\"\n",
    "# AS SELECT * FROM cloud_files(\"/Volumes/main/dbdemos_iot_turbine/turbine_raw_landing/turbine\", \"json\", map(\"cloudFiles.inferColumnTypes\" , \"true\"))"
   ]
  },
  {
   "cell_type": "code",
   "execution_count": 0,
   "metadata": {
    "application/vnd.databricks.v1+cell": {
     "cellMetadata": {
      "byteLimit": 2048000,
      "rowLimit": 10000
     },
     "inputWidgets": {},
     "nuid": "f1c7f625-8839-47de-8964-7bfc6b22a130",
     "showTitle": false,
     "tableResultSettingsMap": {},
     "title": ""
    }
   },
   "outputs": [],
   "source": [
    "import dlt\n",
    "dlt.enable_local_execution()\n"
   ]
  },
  {
   "cell_type": "code",
   "execution_count": 0,
   "metadata": {
    "application/vnd.databricks.v1+cell": {
     "cellMetadata": {
      "byteLimit": 2048000,
      "rowLimit": 10000
     },
     "inputWidgets": {},
     "nuid": "bc4a046b-8c82-459e-b4e5-0c01e35266bd",
     "showTitle": false,
     "tableResultSettingsMap": {},
     "title": ""
    }
   },
   "outputs": [],
   "source": [
    "@dlt.table(\n",
    "    name=\"turbine\",\n",
    "    comment=\"Turbine details, with location, wind turbine model type etc\"\n",
    ")\n",
    "def turbine():\n",
    "    return (\n",
    "        spark.readStream.format(\"cloudFiles\")\n",
    "        .option(\"cloudFiles.format\", \"json\")\n",
    "        .option(\"cloudFiles.inferColumnTypes\", \"true\")\n",
    "        .load(\"/Volumes/main/dbdemos_iot_turbine/turbine_raw_landing/turbine\")\n",
    "    )"
   ]
  },
  {
   "cell_type": "code",
   "execution_count": 0,
   "metadata": {
    "application/vnd.databricks.v1+cell": {
     "cellMetadata": {
      "byteLimit": 2048000,
      "rowLimit": 10000
     },
     "inputWidgets": {},
     "nuid": "b3452978-fe0a-4590-8db5-f8fd40802f71",
     "showTitle": false,
     "tableResultSettingsMap": {},
     "title": ""
    }
   },
   "outputs": [],
   "source": [
    "# %sql\n",
    "# CREATE STREAMING TABLE sensor_bronze (\n",
    "#   CONSTRAINT correct_schema EXPECT (_rescued_data IS NULL),\n",
    "#   CONSTRAINT correct_energy EXPECT (energy IS NOT NULL and energy > 0) ON VIOLATION DROP ROW\n",
    "# )\n",
    "# COMMENT \"Raw sensor data coming from json files ingested in incremental with Auto Loader: vibration, energy produced etc. 1 point every X sec per sensor.\"\n",
    "# AS SELECT * FROM cloud_files(\"/Volumes/main/dbdemos_iot_turbine/turbine_raw_landing/incoming_data\", \"parquet\", map(\"cloudFiles.inferColumnTypes\" , \"true\"))\n",
    "\n",
    "@dlt.table(\n",
    "    name=\"sensor_bronze\",\n",
    "    comment=\"Raw sensor data coming from json files ingested in incremental with Auto Loader: vibration, energy produced etc. 1 point every X sec per sensor.\"\n",
    ")\n",
    "def sensor_bronze():\n",
    "    return (\n",
    "        spark.readStream.format(\"cloudFiles\")\n",
    "        .option(\"cloudFiles.format\", \"json\")\n",
    "        .option(\"cloudFiles.inferColumnTypes\", \"true\")\n",
    "        .load(\"/Volumes/main/dbdemos_iot_turbine/turbine_raw_landing/incoming_data\")\n",
    "    )"
   ]
  }
 ],
 "metadata": {
  "application/vnd.databricks.v1+notebook": {
   "computePreferences": null,
   "dashboards": [],
   "environmentMetadata": {
    "base_environment": "",
    "environment_version": "3"
   },
   "inputWidgetPreferences": null,
   "language": "python",
   "notebookMetadata": {
    "pythonIndentUnit": 4
   },
   "notebookName": "load&ingest_data",
   "widgets": {}
  },
  "language_info": {
   "name": "python"
  }
 },
 "nbformat": 4,
 "nbformat_minor": 0
}
